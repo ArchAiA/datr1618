{
 "cells": [
  {
   "cell_type": "code",
   "execution_count": 1,
   "metadata": {
    "collapsed": true,
    "slideshow": {
     "slide_type": "skip"
    }
   },
   "outputs": [],
   "source": [
    "from IPython.display import HTML"
   ]
  },
  {
   "cell_type": "markdown",
   "metadata": {
    "slideshow": {
     "slide_type": "slide"
    }
   },
   "source": [
    "<a id=\"learning-objectives\"></a>\n",
    "### Lesson 1 Objectives\n",
    "\n",
    "By the end of this lesson, you will be able to...\n",
    "1. Explain how to be successful in this course.\n",
    "2. Define \"data science,\" \"the data science workflow,\" and \"machine learning.\"\n",
    "3. Discuss in general terms how to use the data science workflow to define and solve a problem.\n",
    "4. Explain the distinction between supervised and unsupervised learning."
   ]
  },
  {
   "cell_type": "markdown",
   "metadata": {
    "slideshow": {
     "slide_type": "slide"
    }
   },
   "source": [
    "### Structured Data\n",
    "\n",
    "![](../assets/structured_data.png)"
   ]
  },
  {
   "cell_type": "markdown",
   "metadata": {
    "slideshow": {
     "slide_type": "notes"
    }
   },
   "source": [
    "I'm assuming that I can skip the high-level material about what data science is. To me, the bottom line is that a data scientist's job is to get value for their organization from data.\n",
    "\n",
    "When we talk about data, it's helpful to distinguish between two broad kinds..."
   ]
  },
  {
   "cell_type": "markdown",
   "metadata": {
    "slideshow": {
     "slide_type": "slide"
    }
   },
   "source": [
    "### Unstructured Data\n",
    "\n",
    "<img src=\"../assets/street_signs.jpg\" style=\"width: 400px;\" align=\"left\">\n",
    "<br>\n",
    "<br>\n",
    "<br>\n",
    "<br>\n",
    "<br>\n",
    "<br>\n",
    "<br>\n",
    "<br>\n",
    "<br>\n",
    "<br>\n",
    "<br>\n",
    "<br>\n",
    "<br>\n",
    "<br>\n",
    "<br>\n",
    "\n",
    "https://media.giphy.com/media/lzTfqnaEMZLxK/giphy.gif\n",
    "\n",
    "\"I can't thank General Assembly enough for the great experience that I had. Prior to GA, I was working a retail job where I wasn't feeling fullfiled with the work I was doing. At the time, I was also self-learning how to code through Codeacademy, free tutorials from Apple's iBooks, and attending meet-up events after work. One morning while riding the subway to work, I came upon an advertisement that would encourage me to take the leap into changing my career.\""
   ]
  },
  {
   "cell_type": "markdown",
   "metadata": {
    "slideshow": {
     "slide_type": "slide"
    }
   },
   "source": [
    "<a id=\"DSWF\"></a>\n",
    "## The Data Science Workflow\n",
    "\n",
    "![](../assets/Data-Framework-5-step.png)"
   ]
  },
  {
   "cell_type": "markdown",
   "metadata": {
    "slideshow": {
     "slide_type": "slide"
    }
   },
   "source": [
    "<a id=\"ML\"></a>\n",
    "\n",
    "## Stats & ML\n",
    "\n",
    "- Statistics developed as a way to do *science*.\n",
    "- Machine learning developed as a way to do *artificial intelligence*."
   ]
  },
  {
   "cell_type": "markdown",
   "metadata": {
    "slideshow": {
     "slide_type": "notes"
    }
   },
   "source": [
    "In stats, you try to *understand* how a system works by developing models with a small number of interpretable parameters, then estimating and testing hypotheses about those parameters.\n",
    "\n",
    "In ML, people tend to worry less about understanding and more about getting a computer to do a task by whatever means necessary.\n",
    "\n",
    "We will draw on both perspectives in this course, but more ML than stats."
   ]
  },
  {
   "cell_type": "markdown",
   "metadata": {
    "slideshow": {
     "slide_type": "slide"
    }
   },
   "source": [
    "## Supervised learning\n",
    "Predict the value of a specified target variable from the values of other variables.\n",
    "\n",
    "## Unsupervised learning\n",
    "Find some kind of structure (e.g. clusters) in a set of variables."
   ]
  },
  {
   "cell_type": "markdown",
   "metadata": {
    "slideshow": {
     "slide_type": "notes"
    }
   },
   "source": [
    "Think of a young child learning about the world. Supervised learning is like when a parent tells a child \"that's a tree, that's a dog. No, that's not a doggie; that's a horse. Etc.\" Unsupervised learning is like when a child explores on his or her own and learns for instance that the world is generally made up of more or less discrete objects that kind of hang together when you pick them up.\n",
    "\n",
    "Unsupervised learning is important. Big breakthroughs in AI are probably going to require a lot of unsupervised learning. But most of the business value companies are getting from ML today comes from supervised learning, and that's where we will spend most of our time in this couse."
   ]
  },
  {
   "cell_type": "markdown",
   "metadata": {
    "slideshow": {
     "slide_type": "slide"
    }
   },
   "source": [
    "<a id=\"unsupervised\"></a>\n",
    "### Unsupervised Learning Examples\n",
    "\n",
    "#### Clustering\n",
    "\n",
    "<img src=\"../assets/coins.jpg\" style=\"width: 200px;\" align=\"left\">\n",
    "<br>\n",
    "<br>\n",
    "<br>\n",
    "<br>\n",
    "<br>\n",
    "<br>\n",
    "<br>\n",
    "<br>\n",
    "\n",
    "#### Dimensionality Reduction\n",
    "\n",
    "<img src=\"../assets/personality.png\" style=\"width: 200px;\" align=\"left\">\n",
    "<br>\n",
    "<br>\n",
    "<br>\n",
    "<br>\n",
    "<br>\n",
    "<br>\n",
    "<br>\n",
    "<br>\n",
    "<br>\n",
    "<br>\n",
    "\n",
    "#### Anomaly Detection\n",
    "\n",
    "Detecting fraudulent transactions without labeled examples"
   ]
  },
  {
   "cell_type": "markdown",
   "metadata": {
    "slideshow": {
     "slide_type": "notes"
    }
   },
   "source": [
    "It's hard to evaluate how you're doing.\n",
    "\n",
    "Anomaly detection is one kinds of unsupervised learning that is being used to make money in a more or less direct day."
   ]
  },
  {
   "cell_type": "markdown",
   "metadata": {
    "slideshow": {
     "slide_type": "slide"
    }
   },
   "source": [
    "# Questions?"
   ]
  }
 ],
 "metadata": {
  "celltoolbar": "Slideshow",
  "kernelspec": {
   "display_name": "Python 3",
   "language": "python",
   "name": "python3"
  },
  "language_info": {
   "codemirror_mode": {
    "name": "ipython",
    "version": 3
   },
   "file_extension": ".py",
   "mimetype": "text/x-python",
   "name": "python",
   "nbconvert_exporter": "python",
   "pygments_lexer": "ipython3",
   "version": "3.6.3"
  }
 },
 "nbformat": 4,
 "nbformat_minor": 2
}
