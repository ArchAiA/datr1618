{
 "cells": [
  {
   "cell_type": "markdown",
   "metadata": {},
   "source": [
    "<img src=\"http://imgur.com/1ZcRyrc.png\" style=\"float: left; margin: 20px; height: 55px\">\n",
    "\n",
    "## The Data Science Process - Potential Solution\n",
    "\n",
    "_Author: Tim Hogan | DSI-DC_\n",
    "\n",
    "---"
   ]
  },
  {
   "cell_type": "markdown",
   "metadata": {},
   "source": [
    "** This is an open-ended lab with many possible solutions. These are only a few possible answers. **\n",
    "\n",
    "In this lab, you will step through a series of questions about the West Nile Virus data set.\n",
    "\n",
    "https://www.kaggle.com/c/predict-west-nile-virus\n",
    "\n",
    "The purpose of this lab is to understand the steps a data scientist takes, without getting caught up in the code."
   ]
  },
  {
   "cell_type": "markdown",
   "metadata": {},
   "source": [
    "## 1. Describe the problem\n",
    "\n",
    "---"
   ]
  },
  {
   "cell_type": "markdown",
   "metadata": {},
   "source": [
    "** In your own words describe the problem at hand.**"
   ]
  },
  {
   "cell_type": "markdown",
   "metadata": {},
   "source": [
    "We are given the time, weather, and mosquito spraying information at a specific location in the Chicago area. We are asked to predict whether or not West Nile Virus will be present."
   ]
  },
  {
   "cell_type": "markdown",
   "metadata": {},
   "source": [
    "**What are 3 potential goals for this project?**"
   ]
  },
  {
   "cell_type": "markdown",
   "metadata": {},
   "source": [
    "- Decrease number of people who contract the West Nile Virus.\n",
    "- Allocate limited public health resources more effectively.\n",
    "- Limit human and nature exposure to potentially harmful mosquito spraying."
   ]
  },
  {
   "cell_type": "markdown",
   "metadata": {},
   "source": [
    "**What decisions can the city of Chicago make, once they have this data?**"
   ]
  },
  {
   "cell_type": "markdown",
   "metadata": {},
   "source": [
    "- Spray locations based on likelihood of West Nile Virus.\n",
    "- Warn citizens in specific locations about the potential of West Nile Virus.\n",
    "- Pre-allocate proper funding for adequate public health resources depending on potential severity."
   ]
  },
  {
   "cell_type": "markdown",
   "metadata": {},
   "source": [
    "## 2. Acquire and Parse\n",
    "---\n",
    "https://www.kaggle.com/c/predict-west-nile-virus/data\n",
    "\n",
    "To better understand the data, investigate this page. Make sure to read the data documentation! (There is a \"Data Description\" section underneath the list of files -- there is no need to download the actual data files for this activity!)"
   ]
  },
  {
   "cell_type": "markdown",
   "metadata": {},
   "source": [
    "**What is the target variable in this dataset?**\n"
   ]
  },
  {
   "cell_type": "markdown",
   "metadata": {},
   "source": [
    "WnvPresent: whether West Nile Virus was present in these mosquitos. 1 means WNV is present, and 0 means not present. "
   ]
  },
  {
   "cell_type": "markdown",
   "metadata": {},
   "source": [
    "**What are the features in this dataset?**"
   ]
  },
  {
   "cell_type": "markdown",
   "metadata": {},
   "source": [
    "The features describing each location are in `train.csv`/`test.csv`:\n",
    "\n",
    "```\n",
    "Date: date that the WNV test is performed\n",
    "Address: approximate address of the location of trap. This is used to send to the GeoCoder. \n",
    "Species: the species of mosquitos\n",
    "Block: block number of address\n",
    "Street: street name\n",
    "Trap: Id of the trap\n",
    "AddressNumberAndStreet: approximate address returned from GeoCoder\n",
    "Latitude, Longitude: Latitude and Longitude returned from GeoCoder\n",
    "AddressAccuracy: accuracy returned from GeoCoder\n",
    "NumMosquitos: number of mosquitoes caught in this trap\n",
    "```\n",
    "\n",
    "For each location, we will add an additional three features. These will be derived from `spray.csv` and `weather.csv`:\n",
    "```\n",
    "NumSprays14Days: number of nearby sprays in last two weeks (+/- 10 miles).\n",
    "AvgTemp7Days: Average temperature from the nearest weather station over the last week.\n",
    "WeatherType3Days: Most common weather seen the three days before the date.\n",
    "```"
   ]
  },
  {
   "cell_type": "markdown",
   "metadata": {},
   "source": [
    "**How will you put the datasets together?**"
   ]
  },
  {
   "cell_type": "markdown",
   "metadata": {},
   "source": [
    "train.csv contains each date and latitude/longitude of interest. \n",
    "\n",
    "`spray.csv`: By iterating through each spray data point, we will count how many sprays occurred within the two weeks prior to the date AND was +/- 10 miles from the location.\n",
    "\n",
    "`weather.csv`: We will determine which station is closest to the location. Then, the average temperature over the last two weeks will be computed over the past week. The most common weather type will be found over the past three days. If not clear, the latest weather will be taken."
   ]
  },
  {
   "cell_type": "markdown",
   "metadata": {},
   "source": [
    "** What other potential features could help us solve this problem? **"
   ]
  },
  {
   "cell_type": "markdown",
   "metadata": {},
   "source": [
    "- Adding features that indicate whether a region contains good conditions for mosquitoes.\n",
    "- National data regarding West Nile Virus for the year.\n",
    "- For each year, doubling the features to include that location's data from the previous year and whether West Nile Virus occurred then (perhaps a correlation exists).\n"
   ]
  },
  {
   "cell_type": "markdown",
   "metadata": {},
   "source": [
    "**What data sources would contain these additional features? **"
   ]
  },
  {
   "cell_type": "markdown",
   "metadata": {},
   "source": [
    "- Federal CDC website or data.gov\n",
    "- Google Maps satellite imagery could give mosquito habitat information.\n",
    "- The given data source contains earlier information about each location."
   ]
  },
  {
   "cell_type": "markdown",
   "metadata": {},
   "source": [
    "**What does weather type of 'SG' mean? (See [here](../data/noaa_weather_qclcd_documentation.pdf).)**"
   ]
  },
  {
   "cell_type": "markdown",
   "metadata": {},
   "source": [
    "Snow Grains. From [Wikipedia](https://en.wikipedia.org/wiki/Snow_grains):\n",
    "\n",
    "    Snow grains are a form of precipitation. Snow grains are characterized as very small (<1 mm), white, opaque grains of ice that are fairly flat or elongated. Unlike snow pellets, snow grains do not bounce or break up on impact.\n"
   ]
  },
  {
   "cell_type": "markdown",
   "metadata": {},
   "source": [
    "## 3. EDA\n",
    "\n",
    "---"
   ]
  },
  {
   "cell_type": "markdown",
   "metadata": {},
   "source": [
    "** What are first 5 features or relationships you would investigate? **"
   ]
  },
  {
   "cell_type": "markdown",
   "metadata": {},
   "source": [
    "- Are West Nile Virus sightings in nearby regions correlated? What are the sizes of affected regions?\n",
    "- How does weather affect West Nile Virus?\n",
    "- Are number of mosquitos correlated with West Nile Virus?\n",
    "- Do some months or years have higher rates of infection?\n",
    "- Does spraying help?"
   ]
  },
  {
   "cell_type": "markdown",
   "metadata": {},
   "source": [
    "** What are 3 visualizations which would aid in your analysis? **"
   ]
  },
  {
   "cell_type": "markdown",
   "metadata": {},
   "source": [
    "- Geographical plot of infections overlayed with spraying.\n",
    "- Bar graph of weather types versus number of mosquitos and/or number of infections.\n",
    "- Heat map of how distance from each spray correlates with number of mosquitos and/or number of infections."
   ]
  },
  {
   "cell_type": "markdown",
   "metadata": {},
   "source": [
    "## 4. Build a model\n",
    "\n",
    "---\n",
    "We will skip this step for now!"
   ]
  },
  {
   "cell_type": "markdown",
   "metadata": {},
   "source": [
    "## 5. Interpret the results\n",
    "\n",
    "---"
   ]
  },
  {
   "cell_type": "markdown",
   "metadata": {},
   "source": [
    "** How will you structure the results of your analysis? **"
   ]
  },
  {
   "cell_type": "markdown",
   "metadata": {},
   "source": [
    "- Each business objective will be discussed, along with an analysis of how our solution addresses it.\n",
    "- Each feature should be analyzed to see whether it affects the West Nile Virus.\n",
    "- Present the tradeoffs and decisions leading to the final model and its features.\n",
    "- Recommendation of pros/cons whether the model is effective and to what extent it might be deployed with success."
   ]
  },
  {
   "cell_type": "markdown",
   "metadata": {},
   "source": [
    "## 6. Communication\n",
    "\n",
    "---"
   ]
  },
  {
   "cell_type": "markdown",
   "metadata": {},
   "source": [
    "** What are 3 potential deliverables for this project? **"
   ]
  },
  {
   "cell_type": "markdown",
   "metadata": {},
   "source": [
    "- **Presentation** to display the main takeaways and how each goal was or was not met.\n",
    "- **Documentation** that details why the model and its features were chosen, so that someone new to the project understands what led to the final product.\n",
    "- **Jupyter notebook** demonstrating how the data sources are combined, how the model is built, and how predictions are made.\n",
    "\n",
    "**Production code** running the model might also be delivered, perhaps as an **API**. (Typically, it is more complicated than just one API call since the customer often wants to retrain the model with new data and make tweaks.)"
   ]
  },
  {
   "cell_type": "code",
   "execution_count": null,
   "metadata": {
    "collapsed": true
   },
   "outputs": [],
   "source": []
  }
 ],
 "metadata": {
  "kernelspec": {
   "display_name": "Python [conda root]",
   "language": "python",
   "name": "conda-root-py"
  },
  "language_info": {
   "codemirror_mode": {
    "name": "ipython",
    "version": 3
   },
   "file_extension": ".py",
   "mimetype": "text/x-python",
   "name": "python",
   "nbconvert_exporter": "python",
   "pygments_lexer": "ipython3",
   "version": "3.5.4"
  }
 },
 "nbformat": 4,
 "nbformat_minor": 2
}
