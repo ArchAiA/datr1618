{
 "cells": [
  {
   "cell_type": "markdown",
   "metadata": {},
   "source": [
    "<img src=\"http://imgur.com/1ZcRyrc.png\" style=\"float: left; margin: 20px; height: 55px\">\n",
    "\n",
    "# Project 2: Analyzing Chipotle Data\n",
    "\n",
    "_Author: Joseph Nelson (DC)_\n",
    "\n",
    "---"
   ]
  },
  {
   "cell_type": "markdown",
   "metadata": {},
   "source": [
    "For Project 2, you will complete a series of exercises exploring [order data from Chipotle](https://github.com/TheUpshot/chipotle), compliments of _The New York Times'_ \"The Upshot.\"\n",
    "\n",
    "For these exercises, you will conduct basic exploratory data analysis (Pandas not required) to understand the essentials of Chipotle's order data: how many orders are being made, the average price per order, how many different ingredients are used, etc. These allow you to practice business analysis skills while also becoming comfortable with Python."
   ]
  },
  {
   "cell_type": "markdown",
   "metadata": {},
   "source": [
    "---\n",
    "\n",
    "## Basic Level"
   ]
  },
  {
   "cell_type": "markdown",
   "metadata": {},
   "source": [
    "### Part 1: Read in the file with `csv.reader()` and store it in an object called `file_nested_list`.\n",
    "\n",
    "Hint: This is a TSV (tab-separated value) file, and `csv.reader()` needs to be told [how to handle it](https://docs.python.org/2/library/csv.html)."
   ]
  },
  {
   "cell_type": "code",
   "execution_count": null,
   "metadata": {
    "collapsed": true
   },
   "outputs": [],
   "source": [
    "import csv\n",
    "from collections import namedtuple   # Convenient to store the data rows\n",
    "\n",
    "DATA_FILE = './data/chipotle.tsv'"
   ]
  },
  {
   "cell_type": "code",
   "execution_count": null,
   "metadata": {},
   "outputs": [],
   "source": [
    "import pandas as pd\n",
    "import numpy as np\n",
    "\n",
    "file_nested_list = pd.read_table(DATA_FILE, sep='\\t')\n",
    "\n",
    "lspace = 4\n",
    "\n",
    "\n",
    "#NAMES OF COLUMNS\n",
    "print(\"\\n\"*lspace, \"COLUMN NAMES\\n\")\n",
    "print(file_nested_list.columns)\n",
    "#NAMES OF COLUMNS\n",
    "\n",
    "\n",
    "#COUNTING NULL VALUES\n",
    "print(\"\\n\"*lspace, \"COUNT OF TOTAL NULL VALUES\\n\")\n",
    "print(file_nested_list.isnull().sum())\n",
    "\n",
    "#[choice_description appears to have a large number of null values, however I have no idea what that means]\n",
    "#COUNTING NULL VALUES\n",
    "\n",
    "\n",
    "#GENERAL STATS ON QUANTITATIVE DATA\n",
    "print(\"\\n\"*lspace, \"DESCRIBE\\n\")\n",
    "print(file_nested_list.describe())\n",
    "#GENERAL STATS ON QUANTITATIVE DATA\n",
    "\n",
    "\n",
    "#EXAMPLE OF DATA\n",
    "print(\"\\n\"*lspace, \"HEAD\\n\")\n",
    "print(file_nested_list.head(20))\n",
    "#EXAMPLE OF DATA\n",
    "\n",
    "\n",
    "#LIST OF DATA TYPES\n",
    "print(\"\\n\"*lspace, \"DTYPES\\n\")\n",
    "print(file_nested_list.dtypes)\n",
    "\n",
    "# 1) We can see that [item_price] should be a float with two decimals, and that [item_name] should be string\n",
    "# 2) Choice description is a bit more complicated as it seems to include a nested list of toppings for each item list\n",
    "#LIST OF DATA TYPES\n",
    "\n",
    "\n",
    "\n"
   ]
  },
  {
   "cell_type": "code",
   "execution_count": null,
   "metadata": {},
   "outputs": [],
   "source": [
    "# file_nested_list.choice_description[:50]\n",
    "# file_nested_list.choice_description.describe()\n",
    "# file_nested_list.choice_description.unique()\n",
    "\n",
    "#List of All Menu Items\n",
    "print(\"\\n\"*lspace, \"MENU ITEMS\\n\")\n",
    "print(file_nested_list.item_name.unique())\n",
    "#List of All Menu Items\n",
    "\n",
    "#Number of Times Each Menu Item Was Ordered\n",
    "print(\"\\n\"*lspace, \"TIMES ORDERED\\n\")\n",
    "print(file_nested_list.item_name.value_counts())\n",
    "#Number of Times Each Menu Item Was Ordered\n",
    "\n"
   ]
  },
  {
   "cell_type": "markdown",
   "metadata": {},
   "source": [
    "### Part 2: Separate `file_nested_list` into the `header` and the `data`.\n"
   ]
  },
  {
   "cell_type": "code",
   "execution_count": null,
   "metadata": {},
   "outputs": [],
   "source": [
    "#Store as a list\n",
    "# header = list(file_nested_list.columns.values)\n",
    "# header = file_nested_list.columns.values.tolist()\n",
    "\n",
    "#To numpy array\n",
    "# header = file_nested_list.columns.values\n",
    "\n",
    "#To pd Series...  What was I thinking??????!!!!?!?!?!!?!?!!? \n",
    "header = pd.series = file_nested_list.columns.values\n",
    "print(type(header))"
   ]
  },
  {
   "cell_type": "code",
   "execution_count": null,
   "metadata": {},
   "outputs": [],
   "source": [
    "#Store as a numpy array\n",
    "# data = file_nested_list.values\n",
    "\n",
    "#Store as a list\n",
    "# data = file_nested_list.values.tolist()\n",
    "\n",
    "#Store as DF... Seriously, WTF was I thinking???!?!?!?!!!#$$$\n",
    "data = pd.DataFrame(file_nested_list.values)\n",
    "\n",
    "\n",
    "\n",
    "print(type(data))\n",
    "print(data)"
   ]
  },
  {
   "cell_type": "markdown",
   "metadata": {},
   "source": [
    "---\n",
    "\n",
    "## Intermediate Level"
   ]
  },
  {
   "cell_type": "markdown",
   "metadata": {},
   "source": [
    "### Part 3: Calculate the average price of an order.\n",
    "\n",
    "Hint: Examine the data to see if the `quantity` column is relevant to this calculation.\n",
    "\n",
    "Hint: Think carefully about the simplest way to do this!"
   ]
  },
  {
   "cell_type": "code",
   "execution_count": null,
   "metadata": {},
   "outputs": [],
   "source": [
    "# Step 01 Identify The Unique Orders\n",
    "unique_orders = data.iloc[:,0].unique()\n",
    "data[4] = [float(x[1:]) for x in data[4]]\n",
    "\n",
    "\n",
    "print(\"Uniques: \", len(unique_orders))\n",
    "print(\"All: \", data.iloc[:,0].count())\n",
    "print(\"Data Type For unique_orders:\", type(unique_orders), \"\\n\")\n",
    "print(\"Data Type For unique_orders items:\", type(unique_orders[2]), \"\\n\\n\")\n",
    "\n",
    "\n",
    "\n",
    "\n",
    "\n",
    "\n",
    "\n",
    "\n",
    "\n",
    "\n",
    "\n",
    "\n",
    "\n",
    "\n",
    "\n",
    "\n",
    "\n",
    "\n",
    "\n",
    "\n",
    "\n",
    "\n",
    "# FAILURE NUMBER 02\n",
    "\n",
    "#order_id is index 0 in list data\n",
    "#price is index 4 in list data\n",
    "\n",
    "# test = [sum(data[\"item_price\"]) for x in data if x == data.iloc[:,order_id]]\n",
    "# order_list = [sum(float(data[0][4])) for x in range(len(data)) if data[0] == x]\n",
    "\n",
    "# order_list = \n",
    "# data[0]\n",
    "# order_list = [x for x in range(len(data))]\n",
    "\n",
    "# print(float(data[0][4].strip()[1:]))\n",
    "# print(order_list)\n",
    "# print(type(data[0][4]))\n",
    "\n",
    "# print(data.iloc[4:5, :])\n",
    "# test = float(data.iloc[4,4][1:])\n",
    "# print(type(data.iloc[4,4]))\n",
    "# print(type(test))\n",
    "\n",
    "\n",
    "\n",
    "# 01 - Coerce Column Index 4 to Float\n",
    "\n",
    "# data.apply(lambda x: float(data.iloc[x,4][1:]) for x in data)\n",
    "# data.apply(lambda x: data.iloc[x,4][1:] for x in data.iloc[x,4])\n",
    "\n",
    "# data[\"new_price\"] = [x]\n",
    "# data\n",
    "\n",
    "# FAILURE NUMBER 02\n",
    "\n",
    "\n",
    "\n",
    "\n",
    "#FAILURE NUMBER 01\n",
    "# file_nested_list[\"item_price\"] = [float(x[1:]) for x in file_nested_list[\"item_price\"]]\n",
    "\n",
    "\n",
    "# # Bad attempt at list comprehension that would have been to complex for me for now\n",
    "# order_totals = [sum(files_nested_list[\"item_price\"]) if x == files_nested_list[\"order_id\"]]\n",
    "\n",
    "\n",
    "\n",
    "# print(type(data.iloc[4,4]))\n",
    "# print(type(test))\n",
    "# print(data.iloc[4,:])\n",
    "\n",
    "\n",
    "\n",
    "\n",
    "\n",
    "\n",
    "\n",
    "\n",
    "\n",
    "\n",
    "\n",
    "\n",
    "\n",
    "# print(data)\n",
    "\n",
    "\n",
    "\n",
    "# # Step 02 Convert item-price to float\n",
    "# file_nested_list[\"item_price\"] = [float(x[1:]) for x in file_nested_list[\"item_price\"]]\n",
    "# print(file_nested_list[:,\"item_price\"])\n",
    "\n",
    "\n",
    "\n",
    "\n",
    "\n",
    "# # file_nested_list[\"order_totals\"] = [file_nested_list[\"item_price\"]] \n",
    "\n",
    "# order_total_list = []\n",
    "\n",
    "# for x in unique_orders:\n",
    "#     order_total = 0\n",
    "#     for row in data:\n",
    "#         print(x, data.iloc[row,4])\n",
    "# #         if data[row] == x:\n",
    "# #             order_total += row[4]\n",
    "# #             print(order_total)\n",
    "# #     order_total_list.append(order_total)\n",
    "    \n",
    "\n",
    "\n",
    "\n",
    "\n"
   ]
  },
  {
   "cell_type": "code",
   "execution_count": null,
   "metadata": {},
   "outputs": [],
   "source": [
    "print(data.iloc[1:4])"
   ]
  },
  {
   "cell_type": "code",
   "execution_count": null,
   "metadata": {},
   "outputs": [],
   "source": [
    "#Confirm that the price is a floating point number \n",
    "data.head()\n",
    "\n",
    "print(\"Item Price DataType is:\", type(data.iloc[3,4]), \"\\n\\n\\n\\nRow Number Four\", data.iloc[4,:])"
   ]
  },
  {
   "cell_type": "code",
   "execution_count": null,
   "metadata": {
    "collapsed": true
   },
   "outputs": [],
   "source": [
    "\n",
    "# # Doing this the long way...\n",
    "\n",
    "# order_total = []\n",
    "\n",
    "# list_of_prices = []\n",
    "# list_of_prices = [len(file_nested_list.loc([x][\"item_price\"]) for x in list_of_prices]\n",
    "\n",
    "\n",
    "# print(type(file_nested_list.loc[:,\"item_price\"]))\n",
    "# print(list_of_prices)\n"
   ]
  },
  {
   "cell_type": "markdown",
   "metadata": {
    "collapsed": true
   },
   "source": [
    "#### "
   ]
  },
  {
   "cell_type": "code",
   "execution_count": null,
   "metadata": {},
   "outputs": [],
   "source": [
    "unique_orders = data.iloc[:,0].unique()\n",
    "print(\"Uniques: \", len(unique_orders))\n",
    "print(\"All: \", data.iloc[:,0].count())\n",
    "print(type(unique_orders))\n",
    "# print(unique_orders[1])"
   ]
  },
  {
   "cell_type": "code",
   "execution_count": null,
   "metadata": {
    "collapsed": true
   },
   "outputs": [],
   "source": [
    "data[\"item_price\"] = [float(x[1:]) for x in file_nested_list[\"item_price\"]]"
   ]
  },
  {
   "cell_type": "code",
   "execution_count": null,
   "metadata": {},
   "outputs": [],
   "source": [
    "order_totals = data.groupby(0)[4].sum()\n",
    "print(\"The Average Order Is For:\", '${:,.2f}'.format(order_totals.mean()))\n",
    "file_nested_list.head(4)"
   ]
  },
  {
   "cell_type": "code",
   "execution_count": null,
   "metadata": {},
   "outputs": [],
   "source": [
    "order_totals = data.groupby(0)[4].sum()\n",
    "print(\"The Average Order Is For:\", '${:,.2f}'.format(order_totals.mean()))\n",
    "\n",
    "\n",
    "# print(data.groupby(0)[4].sum().mean())\n",
    "\n",
    "\n",
    "\n",
    "\n",
    "# order_totals = [file_nested_list.loc[n,\"item_price\"] for n in file_nested_list if file_nested_list[n, \"order_id\"] == n]\n",
    "\n",
    "# order_totals = [sum(file_nested_list.loc[x, \"item_price\"]) for y in range(len(file_nested_list)) if file_nested_list.loc[x,\"order_id\"] == x ]\n",
    "\n",
    "# ot = [[sum(file_nested_list.loc[x,\"item_price\"]) for x in file_nested_list]\n",
    "\n",
    "# order_totals = []\n",
    "\n",
    "# for i in range(len(file_nested_list)):\n",
    "#     current_sum = file_nested_list[file_nested_list[\"order_id\"] == i]\n",
    "# #     print(current_sum.iloc[:,4])\n",
    "#     order_totals.append(current_sum.iloc[:,4].sum())\n",
    "# print(order_totals)\n",
    "# #     order_totals.append(sum(current_sum.loc[:,\"item_price\"]))\n",
    "# #     order_totals += (file_nested_list.loc[i, \"order_id\"],  file_nested_list.loc[i, \"item_price\"])\n",
    "# #     print(order_totals)\n",
    "# # print(order_totals)\n",
    "\n",
    "\n",
    "\n",
    "\n",
    "    \n",
    "\n",
    "# data[4] = [float(x[1:]) for x in data[4]]\n",
    "# test = data.loc[data[0]==1, data[4]].sum()\n"
   ]
  },
  {
   "cell_type": "markdown",
   "metadata": {},
   "source": [
    "### Part 4: Create a list (or set) named `unique_sodas` containing all of unique sodas and soft drinks that Chipotle sells.\n",
    "\n",
    "Note: Just look for `'Canned Soda'` and `'Canned Soft Drink'`, and ignore other drinks like `'Izze'`."
   ]
  },
  {
   "cell_type": "code",
   "execution_count": null,
   "metadata": {
    "collapsed": true
   },
   "outputs": [],
   "source": [
    "sodas_unique = set()\n",
    "# file_nested_list[[(file_nested_list[\"item_name\"] == \"Canned Soft Drink\")], [(file_nested_list[\"item_name\"] == \"Canned Soda\")]]\n",
    "# sodas_unique.append(file_nested_list.loc[(file_nested_list[\"item_name\"] == \"Canned Soda\")][\"choice_description\"])\n",
    "# sodas_unique.append(file_nested_list.loc[(file_nested_list[\"item_name\"] == \"Canned Soft Drink\")][\"choice_description\"])\n",
    "\n",
    "# sodas_unique = [data[x][3] for x in range(len(data)) if data[x][2].contains(\"Canned\")]\n",
    "# print(type(data[4][2]))\n"
   ]
  },
  {
   "cell_type": "code",
   "execution_count": null,
   "metadata": {},
   "outputs": [],
   "source": [
    "\n",
    "for x in range(len(data)):\n",
    "    if data.iloc[x, 2] == \"Canned Soft Drink\" or data.iloc[x, 2] == \"Canned Soda\":\n",
    "#         print(data.iloc[x, 3])\n",
    "        sodas_unique.add(data.iloc[x, 3])\n",
    "\n",
    "# soft_drinks = (x for x in data.iloc[x,2].value_counts())\n",
    "# print(soft_drinks)"
   ]
  },
  {
   "cell_type": "code",
   "execution_count": null,
   "metadata": {},
   "outputs": [],
   "source": [
    "print(sodas_unique)"
   ]
  },
  {
   "cell_type": "markdown",
   "metadata": {},
   "source": [
    "---\n",
    "\n",
    "## Advanced Level\n"
   ]
  },
  {
   "cell_type": "markdown",
   "metadata": {},
   "source": [
    "### Part 5: Calculate the average number of toppings per burrito.\n",
    "\n",
    "Note: Let's ignore the `quantity` column to simplify this task.\n",
    "\n",
    "Hint: Think carefully about the easiest way to count the number of toppings!\n"
   ]
  },
  {
   "cell_type": "code",
   "execution_count": null,
   "metadata": {},
   "outputs": [],
   "source": [
    "# print(type(data.iloc[8][2]))\n",
    "# print(data.iloc[8][2])\n",
    "\n",
    "# print(type(data.iloc[8][3]))\n",
    "# print(data.iloc[8][3])\n",
    "\n",
    "t_number = 0 #Running total of number of toppings on burrito\n",
    "b_orders = 0 #Total number of burrito orders\n",
    "\n",
    "for x in range(len(data)):\n",
    "    if \"Burrito\" in data.iloc[x][2]:\n",
    "        t_number += data.iloc[x][3].count(\",\") + 1\n",
    "        b_orders += 1\n",
    "                \n",
    "print(\"The average number of toppings per burrito order is:\", t_number / b_orders)\n"
   ]
  },
  {
   "cell_type": "code",
   "execution_count": null,
   "metadata": {
    "collapsed": true
   },
   "outputs": [],
   "source": []
  },
  {
   "cell_type": "code",
   "execution_count": null,
   "metadata": {},
   "outputs": [],
   "source": []
  },
  {
   "cell_type": "markdown",
   "metadata": {},
   "source": [
    "### Part 6: Create a dictionary. Let the keys represent chip orders and the values represent the total number of orders.\n",
    "\n",
    "Expected output: `{'Chips and Roasted Chili-Corn Salsa': 18, ... }`\n",
    "\n",
    "Note: Please take the `quantity` column into account!\n",
    "\n",
    "Optional: Learn how to use `.defaultdict()` to simplify your code."
   ]
  },
  {
   "cell_type": "code",
   "execution_count": null,
   "metadata": {},
   "outputs": [],
   "source": [
    "from collections import defaultdict\n",
    "\n",
    "all_item_orders = data[data.iloc[:,2].str.contains(\"Chips\")][2]\n",
    "# print(all_item_orders)\n",
    "\n",
    "chip_count = defaultdict(int)\n",
    "for k in all_item_orders:\n",
    "    chip_count[k]+=1\n",
    "    \n",
    "    \n",
    "print(chip_count)    \n",
    "    \n",
    "    \n",
    "# print(all_item_orders)\n",
    "\n",
    "# chipCount = defaultdict(list)\n",
    "\n",
    "# s = [x for x in data.iloc[x:,2]]\n",
    "# # s = [x for x if \"Chips\" in data.iloc[item_name] in]\n",
    "\n",
    "# stuff = [[data[\"item_name\"] for \"Chips\" in s]]\n",
    "\n",
    "\n"
   ]
  },
  {
   "cell_type": "code",
   "execution_count": null,
   "metadata": {
    "collapsed": true
   },
   "outputs": [],
   "source": []
  },
  {
   "cell_type": "code",
   "execution_count": null,
   "metadata": {
    "collapsed": true
   },
   "outputs": [],
   "source": []
  },
  {
   "cell_type": "code",
   "execution_count": null,
   "metadata": {
    "collapsed": true
   },
   "outputs": [],
   "source": []
  },
  {
   "cell_type": "code",
   "execution_count": null,
   "metadata": {
    "collapsed": true
   },
   "outputs": [],
   "source": []
  },
  {
   "cell_type": "markdown",
   "metadata": {},
   "source": [
    "---\n",
    "\n",
    "## Bonus: Craft a problem statement about this data that interests you, and then answer it!\n"
   ]
  },
  {
   "cell_type": "code",
   "execution_count": null,
   "metadata": {
    "collapsed": true
   },
   "outputs": [],
   "source": []
  },
  {
   "cell_type": "code",
   "execution_count": null,
   "metadata": {
    "collapsed": true
   },
   "outputs": [],
   "source": []
  },
  {
   "cell_type": "code",
   "execution_count": null,
   "metadata": {
    "collapsed": true
   },
   "outputs": [],
   "source": []
  },
  {
   "cell_type": "code",
   "execution_count": null,
   "metadata": {
    "collapsed": true
   },
   "outputs": [],
   "source": []
  },
  {
   "cell_type": "code",
   "execution_count": null,
   "metadata": {
    "collapsed": true
   },
   "outputs": [],
   "source": []
  }
 ],
 "metadata": {
  "anaconda-cloud": {},
  "kernelspec": {
   "display_name": "Python 3",
   "language": "python",
   "name": "python3"
  },
  "language_info": {
   "codemirror_mode": {
    "name": "ipython",
    "version": 3
   },
   "file_extension": ".py",
   "mimetype": "text/x-python",
   "name": "python",
   "nbconvert_exporter": "python",
   "pygments_lexer": "ipython3",
   "version": "3.6.3"
  }
 },
 "nbformat": 4,
 "nbformat_minor": 2
}
