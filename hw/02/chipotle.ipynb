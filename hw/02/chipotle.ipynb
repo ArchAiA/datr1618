{
 "cells": [
  {
   "cell_type": "markdown",
   "metadata": {},
   "source": [
    "<img src=\"http://imgur.com/1ZcRyrc.png\" style=\"float: left; margin: 20px; height: 55px\">\n",
    "\n",
    "# Project 2: Analyzing Chipotle Data\n",
    "\n",
    "_Author: Joseph Nelson (DC)_\n",
    "\n",
    "---"
   ]
  },
  {
   "cell_type": "markdown",
   "metadata": {},
   "source": [
    "For Project 2, you will complete a series of exercises exploring [order data from Chipotle](https://github.com/TheUpshot/chipotle), compliments of _The New York Times'_ \"The Upshot.\"\n",
    "\n",
    "For these exercises, you will conduct basic exploratory data analysis (Pandas not required) to understand the essentials of Chipotle's order data: how many orders are being made, the average price per order, how many different ingredients are used, etc. These allow you to practice business analysis skills while also becoming comfortable with Python."
   ]
  },
  {
   "cell_type": "markdown",
   "metadata": {},
   "source": [
    "---\n",
    "\n",
    "## Basic Level"
   ]
  },
  {
   "cell_type": "markdown",
   "metadata": {},
   "source": [
    "### Part 1: Read in the file with `csv.reader()` and store it in an object called `file_nested_list`.\n",
    "\n",
    "Hint: This is a TSV (tab-separated value) file, and `csv.reader()` needs to be told [how to handle it](https://docs.python.org/2/library/csv.html)."
   ]
  },
  {
   "cell_type": "code",
   "execution_count": 338,
   "metadata": {
    "collapsed": true
   },
   "outputs": [],
   "source": [
    "import csv\n",
    "from collections import namedtuple   # Convenient to store the data rows\n",
    "\n",
    "DATA_FILE = './data/chipotle.tsv'"
   ]
  },
  {
   "cell_type": "code",
   "execution_count": 339,
   "metadata": {},
   "outputs": [
    {
     "name": "stdout",
     "output_type": "stream",
     "text": [
      "\n",
      "\n",
      "\n",
      "\n",
      " COLUMN NAMES\n",
      "\n",
      "Index(['order_id', 'quantity', 'item_name', 'choice_description',\n",
      "       'item_price'],\n",
      "      dtype='object')\n",
      "\n",
      "\n",
      "\n",
      "\n",
      " COUNT OF TOTAL NULL VALUES\n",
      "\n",
      "order_id                 0\n",
      "quantity                 0\n",
      "item_name                0\n",
      "choice_description    1246\n",
      "item_price               0\n",
      "dtype: int64\n",
      "\n",
      "\n",
      "\n",
      "\n",
      " DESCRIBE\n",
      "\n",
      "          order_id     quantity\n",
      "count  4622.000000  4622.000000\n",
      "mean    927.254868     1.075725\n",
      "std     528.890796     0.410186\n",
      "min       1.000000     1.000000\n",
      "25%     477.250000     1.000000\n",
      "50%     926.000000     1.000000\n",
      "75%    1393.000000     1.000000\n",
      "max    1834.000000    15.000000\n",
      "\n",
      "\n",
      "\n",
      "\n",
      " HEAD\n",
      "\n",
      "    order_id  quantity                              item_name  \\\n",
      "0          1         1           Chips and Fresh Tomato Salsa   \n",
      "1          1         1                                   Izze   \n",
      "2          1         1                       Nantucket Nectar   \n",
      "3          1         1  Chips and Tomatillo-Green Chili Salsa   \n",
      "4          2         2                           Chicken Bowl   \n",
      "5          3         1                           Chicken Bowl   \n",
      "6          3         1                          Side of Chips   \n",
      "7          4         1                          Steak Burrito   \n",
      "8          4         1                       Steak Soft Tacos   \n",
      "9          5         1                          Steak Burrito   \n",
      "10         5         1                    Chips and Guacamole   \n",
      "11         6         1                   Chicken Crispy Tacos   \n",
      "12         6         1                     Chicken Soft Tacos   \n",
      "13         7         1                           Chicken Bowl   \n",
      "14         7         1                    Chips and Guacamole   \n",
      "15         8         1  Chips and Tomatillo-Green Chili Salsa   \n",
      "16         8         1                        Chicken Burrito   \n",
      "17         9         1                        Chicken Burrito   \n",
      "18         9         2                            Canned Soda   \n",
      "19        10         1                           Chicken Bowl   \n",
      "\n",
      "                                   choice_description item_price  \n",
      "0                                                 NaN     $2.39   \n",
      "1                                        [Clementine]     $3.39   \n",
      "2                                             [Apple]     $3.39   \n",
      "3                                                 NaN     $2.39   \n",
      "4   [Tomatillo-Red Chili Salsa (Hot), [Black Beans...    $16.98   \n",
      "5   [Fresh Tomato Salsa (Mild), [Rice, Cheese, Sou...    $10.98   \n",
      "6                                                 NaN     $1.69   \n",
      "7   [Tomatillo Red Chili Salsa, [Fajita Vegetables...    $11.75   \n",
      "8   [Tomatillo Green Chili Salsa, [Pinto Beans, Ch...     $9.25   \n",
      "9   [Fresh Tomato Salsa, [Rice, Black Beans, Pinto...     $9.25   \n",
      "10                                                NaN     $4.45   \n",
      "11  [Roasted Chili Corn Salsa, [Fajita Vegetables,...     $8.75   \n",
      "12  [Roasted Chili Corn Salsa, [Rice, Black Beans,...     $8.75   \n",
      "13  [Fresh Tomato Salsa, [Fajita Vegetables, Rice,...    $11.25   \n",
      "14                                                NaN     $4.45   \n",
      "15                                                NaN     $2.39   \n",
      "16  [Tomatillo-Green Chili Salsa (Medium), [Pinto ...     $8.49   \n",
      "17  [Fresh Tomato Salsa (Mild), [Black Beans, Rice...     $8.49   \n",
      "18                                           [Sprite]     $2.18   \n",
      "19  [Tomatillo Red Chili Salsa, [Fajita Vegetables...     $8.75   \n",
      "\n",
      "\n",
      "\n",
      "\n",
      " DTYPES\n",
      "\n",
      "order_id               int64\n",
      "quantity               int64\n",
      "item_name             object\n",
      "choice_description    object\n",
      "item_price            object\n",
      "dtype: object\n"
     ]
    }
   ],
   "source": [
    "import pandas as pd\n",
    "import numpy as np\n",
    "\n",
    "file_nested_list = pd.read_table(DATA_FILE, sep='\\t')\n",
    "\n",
    "lspace = 4\n",
    "\n",
    "\n",
    "#NAMES OF COLUMNS\n",
    "print(\"\\n\"*lspace, \"COLUMN NAMES\\n\")\n",
    "print(file_nested_list.columns)\n",
    "#NAMES OF COLUMNS\n",
    "\n",
    "\n",
    "#COUNTING NULL VALUES\n",
    "print(\"\\n\"*lspace, \"COUNT OF TOTAL NULL VALUES\\n\")\n",
    "print(file_nested_list.isnull().sum())\n",
    "\n",
    "#[choice_description appears to have a large number of null values, however I have no idea what that means]\n",
    "#COUNTING NULL VALUES\n",
    "\n",
    "\n",
    "#GENERAL STATS ON QUANTITATIVE DATA\n",
    "print(\"\\n\"*lspace, \"DESCRIBE\\n\")\n",
    "print(file_nested_list.describe())\n",
    "#GENERAL STATS ON QUANTITATIVE DATA\n",
    "\n",
    "\n",
    "#EXAMPLE OF DATA\n",
    "print(\"\\n\"*lspace, \"HEAD\\n\")\n",
    "print(file_nested_list.head(20))\n",
    "#EXAMPLE OF DATA\n",
    "\n",
    "\n",
    "#LIST OF DATA TYPES\n",
    "print(\"\\n\"*lspace, \"DTYPES\\n\")\n",
    "print(file_nested_list.dtypes)\n",
    "\n",
    "# 1) We can see that [item_price] should be a float with two decimals, and that [item_name] should be string\n",
    "# 2) Choice description is a bit more complicated as it seems to include a nested list of toppings for each item list\n",
    "#LIST OF DATA TYPES\n",
    "\n",
    "\n",
    "\n"
   ]
  },
  {
   "cell_type": "code",
   "execution_count": 291,
   "metadata": {},
   "outputs": [
    {
     "name": "stdout",
     "output_type": "stream",
     "text": [
      "\n",
      "\n",
      "\n",
      "\n",
      " MENU ITEMS\n",
      "\n",
      "['Chips and Fresh Tomato Salsa' 'Izze' 'Nantucket Nectar'\n",
      " 'Chips and Tomatillo-Green Chili Salsa' 'Chicken Bowl' 'Side of Chips'\n",
      " 'Steak Burrito' 'Steak Soft Tacos' 'Chips and Guacamole'\n",
      " 'Chicken Crispy Tacos' 'Chicken Soft Tacos' 'Chicken Burrito'\n",
      " 'Canned Soda' 'Barbacoa Burrito' 'Carnitas Burrito' 'Carnitas Bowl'\n",
      " 'Bottled Water' 'Chips and Tomatillo Green Chili Salsa' 'Barbacoa Bowl'\n",
      " 'Chips' 'Chicken Salad Bowl' 'Steak Bowl' 'Barbacoa Soft Tacos'\n",
      " 'Veggie Burrito' 'Veggie Bowl' 'Steak Crispy Tacos'\n",
      " 'Chips and Tomatillo Red Chili Salsa' 'Barbacoa Crispy Tacos'\n",
      " 'Veggie Salad Bowl' 'Chips and Roasted Chili-Corn Salsa'\n",
      " 'Chips and Roasted Chili Corn Salsa' 'Carnitas Soft Tacos' 'Chicken Salad'\n",
      " 'Canned Soft Drink' 'Steak Salad Bowl' '6 Pack Soft Drink'\n",
      " 'Chips and Tomatillo-Red Chili Salsa' 'Bowl' 'Burrito' 'Crispy Tacos'\n",
      " 'Carnitas Crispy Tacos' 'Steak Salad' 'Chips and Mild Fresh Tomato Salsa'\n",
      " 'Veggie Soft Tacos' 'Carnitas Salad Bowl' 'Barbacoa Salad Bowl' 'Salad'\n",
      " 'Veggie Crispy Tacos' 'Veggie Salad' 'Carnitas Salad']\n",
      "\n",
      "\n",
      "\n",
      "\n",
      " TIMES ORDERED\n",
      "\n",
      "Chicken Bowl                             726\n",
      "Chicken Burrito                          553\n",
      "Chips and Guacamole                      479\n",
      "Steak Burrito                            368\n",
      "Canned Soft Drink                        301\n",
      "Steak Bowl                               211\n",
      "Chips                                    211\n",
      "Bottled Water                            162\n",
      "Chicken Soft Tacos                       115\n",
      "Chips and Fresh Tomato Salsa             110\n",
      "Chicken Salad Bowl                       110\n",
      "Canned Soda                              104\n",
      "Side of Chips                            101\n",
      "Veggie Burrito                            95\n",
      "Barbacoa Burrito                          91\n",
      "Veggie Bowl                               85\n",
      "Carnitas Bowl                             68\n",
      "Barbacoa Bowl                             66\n",
      "Carnitas Burrito                          59\n",
      "Steak Soft Tacos                          55\n",
      "6 Pack Soft Drink                         54\n",
      "Chips and Tomatillo Red Chili Salsa       48\n",
      "Chicken Crispy Tacos                      47\n",
      "Chips and Tomatillo Green Chili Salsa     43\n",
      "Carnitas Soft Tacos                       40\n",
      "Steak Crispy Tacos                        35\n",
      "Chips and Tomatillo-Green Chili Salsa     31\n",
      "Steak Salad Bowl                          29\n",
      "Nantucket Nectar                          27\n",
      "Barbacoa Soft Tacos                       25\n",
      "Chips and Roasted Chili Corn Salsa        22\n",
      "Chips and Tomatillo-Red Chili Salsa       20\n",
      "Izze                                      20\n",
      "Chips and Roasted Chili-Corn Salsa        18\n",
      "Veggie Salad Bowl                         18\n",
      "Barbacoa Crispy Tacos                     11\n",
      "Barbacoa Salad Bowl                       10\n",
      "Chicken Salad                              9\n",
      "Veggie Soft Tacos                          7\n",
      "Carnitas Crispy Tacos                      7\n",
      "Burrito                                    6\n",
      "Carnitas Salad Bowl                        6\n",
      "Veggie Salad                               6\n",
      "Steak Salad                                4\n",
      "Salad                                      2\n",
      "Crispy Tacos                               2\n",
      "Bowl                                       2\n",
      "Chips and Mild Fresh Tomato Salsa          1\n",
      "Carnitas Salad                             1\n",
      "Veggie Crispy Tacos                        1\n",
      "Name: item_name, dtype: int64\n"
     ]
    }
   ],
   "source": [
    "# file_nested_list.choice_description[:50]\n",
    "# file_nested_list.choice_description.describe()\n",
    "# file_nested_list.choice_description.unique()\n",
    "\n",
    "#List of All Menu Items\n",
    "print(\"\\n\"*lspace, \"MENU ITEMS\\n\")\n",
    "print(file_nested_list.item_name.unique())\n",
    "#List of All Menu Items\n",
    "\n",
    "#Number of Times Each Menu Item Was Ordered\n",
    "print(\"\\n\"*lspace, \"TIMES ORDERED\\n\")\n",
    "print(file_nested_list.item_name.value_counts())\n",
    "#Number of Times Each Menu Item Was Ordered\n",
    "\n"
   ]
  },
  {
   "cell_type": "markdown",
   "metadata": {},
   "source": [
    "### Part 2: Separate `file_nested_list` into the `header` and the `data`.\n"
   ]
  },
  {
   "cell_type": "code",
   "execution_count": 340,
   "metadata": {},
   "outputs": [
    {
     "name": "stdout",
     "output_type": "stream",
     "text": [
      "<class 'numpy.ndarray'>\n"
     ]
    }
   ],
   "source": [
    "#Store as a list\n",
    "# header = list(file_nested_list.columns.values)\n",
    "# header = file_nested_list.columns.values.tolist()\n",
    "\n",
    "#To numpy array\n",
    "# header = file_nested_list.columns.values\n",
    "\n",
    "#To pd Series...  What was I thinking??????!!!!?!?!?!!?!?!!? \n",
    "header = pd.series = file_nested_list.columns.values\n",
    "print(type(header))"
   ]
  },
  {
   "cell_type": "code",
   "execution_count": 341,
   "metadata": {},
   "outputs": [
    {
     "name": "stdout",
     "output_type": "stream",
     "text": [
      "<class 'pandas.core.frame.DataFrame'>\n",
      "         0  1                                      2  \\\n",
      "0        1  1           Chips and Fresh Tomato Salsa   \n",
      "1        1  1                                   Izze   \n",
      "2        1  1                       Nantucket Nectar   \n",
      "3        1  1  Chips and Tomatillo-Green Chili Salsa   \n",
      "4        2  2                           Chicken Bowl   \n",
      "5        3  1                           Chicken Bowl   \n",
      "6        3  1                          Side of Chips   \n",
      "7        4  1                          Steak Burrito   \n",
      "8        4  1                       Steak Soft Tacos   \n",
      "9        5  1                          Steak Burrito   \n",
      "10       5  1                    Chips and Guacamole   \n",
      "11       6  1                   Chicken Crispy Tacos   \n",
      "12       6  1                     Chicken Soft Tacos   \n",
      "13       7  1                           Chicken Bowl   \n",
      "14       7  1                    Chips and Guacamole   \n",
      "15       8  1  Chips and Tomatillo-Green Chili Salsa   \n",
      "16       8  1                        Chicken Burrito   \n",
      "17       9  1                        Chicken Burrito   \n",
      "18       9  2                            Canned Soda   \n",
      "19      10  1                           Chicken Bowl   \n",
      "20      10  1                    Chips and Guacamole   \n",
      "21      11  1                       Barbacoa Burrito   \n",
      "22      11  1                       Nantucket Nectar   \n",
      "23      12  1                        Chicken Burrito   \n",
      "24      12  1                                   Izze   \n",
      "25      13  1           Chips and Fresh Tomato Salsa   \n",
      "26      13  1                           Chicken Bowl   \n",
      "27      14  1                       Carnitas Burrito   \n",
      "28      14  1                            Canned Soda   \n",
      "29      15  1                        Chicken Burrito   \n",
      "...    ... ..                                    ...   \n",
      "4592  1825  1                       Barbacoa Burrito   \n",
      "4593  1825  1                          Carnitas Bowl   \n",
      "4594  1825  1                          Barbacoa Bowl   \n",
      "4595  1826  1                           Chicken Bowl   \n",
      "4596  1826  1                    Chips and Guacamole   \n",
      "4597  1826  1                      Canned Soft Drink   \n",
      "4598  1826  1                          Bottled Water   \n",
      "4599  1827  1                           Chicken Bowl   \n",
      "4600  1827  1                    Chips and Guacamole   \n",
      "4601  1827  1                      Canned Soft Drink   \n",
      "4602  1827  1                       Barbacoa Burrito   \n",
      "4603  1827  1                       Barbacoa Burrito   \n",
      "4604  1828  1                           Chicken Bowl   \n",
      "4605  1828  1                    Chips and Guacamole   \n",
      "4606  1828  1                      Canned Soft Drink   \n",
      "4607  1829  1                          Steak Burrito   \n",
      "4608  1829  1                         Veggie Burrito   \n",
      "4609  1829  1                      Canned Soft Drink   \n",
      "4610  1830  1                          Steak Burrito   \n",
      "4611  1830  1                         Veggie Burrito   \n",
      "4612  1831  1                          Carnitas Bowl   \n",
      "4613  1831  1                                  Chips   \n",
      "4614  1831  1                          Bottled Water   \n",
      "4615  1832  1                     Chicken Soft Tacos   \n",
      "4616  1832  1                    Chips and Guacamole   \n",
      "4617  1833  1                          Steak Burrito   \n",
      "4618  1833  1                          Steak Burrito   \n",
      "4619  1834  1                     Chicken Salad Bowl   \n",
      "4620  1834  1                     Chicken Salad Bowl   \n",
      "4621  1834  1                     Chicken Salad Bowl   \n",
      "\n",
      "                                                      3        4  \n",
      "0                                                   NaN   $2.39   \n",
      "1                                          [Clementine]   $3.39   \n",
      "2                                               [Apple]   $3.39   \n",
      "3                                                   NaN   $2.39   \n",
      "4     [Tomatillo-Red Chili Salsa (Hot), [Black Beans...  $16.98   \n",
      "5     [Fresh Tomato Salsa (Mild), [Rice, Cheese, Sou...  $10.98   \n",
      "6                                                   NaN   $1.69   \n",
      "7     [Tomatillo Red Chili Salsa, [Fajita Vegetables...  $11.75   \n",
      "8     [Tomatillo Green Chili Salsa, [Pinto Beans, Ch...   $9.25   \n",
      "9     [Fresh Tomato Salsa, [Rice, Black Beans, Pinto...   $9.25   \n",
      "10                                                  NaN   $4.45   \n",
      "11    [Roasted Chili Corn Salsa, [Fajita Vegetables,...   $8.75   \n",
      "12    [Roasted Chili Corn Salsa, [Rice, Black Beans,...   $8.75   \n",
      "13    [Fresh Tomato Salsa, [Fajita Vegetables, Rice,...  $11.25   \n",
      "14                                                  NaN   $4.45   \n",
      "15                                                  NaN   $2.39   \n",
      "16    [Tomatillo-Green Chili Salsa (Medium), [Pinto ...   $8.49   \n",
      "17    [Fresh Tomato Salsa (Mild), [Black Beans, Rice...   $8.49   \n",
      "18                                             [Sprite]   $2.18   \n",
      "19    [Tomatillo Red Chili Salsa, [Fajita Vegetables...   $8.75   \n",
      "20                                                  NaN   $4.45   \n",
      "21    [[Fresh Tomato Salsa (Mild), Tomatillo-Green C...   $8.99   \n",
      "22                                 [Pomegranate Cherry]   $3.39   \n",
      "23    [[Tomatillo-Green Chili Salsa (Medium), Tomati...  $10.98   \n",
      "24                                         [Grapefruit]   $3.39   \n",
      "25                                                  NaN   $2.39   \n",
      "26    [Roasted Chili Corn Salsa (Medium), [Pinto Bea...   $8.49   \n",
      "27    [[Tomatillo-Green Chili Salsa (Medium), Roaste...   $8.99   \n",
      "28                                         [Dr. Pepper]   $1.09   \n",
      "29    [Tomatillo-Green Chili Salsa (Medium), [Pinto ...   $8.49   \n",
      "...                                                 ...      ...  \n",
      "4592  [Tomatillo Red Chili Salsa, [Rice, Fajita Vege...  $11.75   \n",
      "4593  [Roasted Chili Corn Salsa, [Rice, Sour Cream, ...  $11.75   \n",
      "4594  [Roasted Chili Corn Salsa, [Pinto Beans, Sour ...  $11.75   \n",
      "4595  [Tomatillo Green Chili Salsa, [Rice, Black Bea...   $8.75   \n",
      "4596                                                NaN   $4.45   \n",
      "4597                                           [Nestea]   $1.25   \n",
      "4598                                                NaN   $1.50   \n",
      "4599      [Roasted Chili Corn Salsa, [Cheese, Lettuce]]   $8.75   \n",
      "4600                                                NaN   $4.45   \n",
      "4601                                        [Diet Coke]   $1.25   \n",
      "4602                      [Tomatillo Green Chili Salsa]   $9.25   \n",
      "4603                      [Tomatillo Green Chili Salsa]   $9.25   \n",
      "4604  [Fresh Tomato Salsa, [Rice, Black Beans, Chees...   $8.75   \n",
      "4605                                                NaN   $4.45   \n",
      "4606                                             [Coke]   $1.25   \n",
      "4607  [Tomatillo Green Chili Salsa, [Rice, Cheese, S...  $11.75   \n",
      "4608  [Tomatillo Red Chili Salsa, [Fajita Vegetables...  $11.25   \n",
      "4609                                           [Sprite]   $1.25   \n",
      "4610  [Fresh Tomato Salsa, [Rice, Sour Cream, Cheese...  $11.75   \n",
      "4611  [Tomatillo Green Chili Salsa, [Rice, Fajita Ve...  $11.25   \n",
      "4612  [Fresh Tomato Salsa, [Fajita Vegetables, Rice,...   $9.25   \n",
      "4613                                                NaN   $2.15   \n",
      "4614                                                NaN   $1.50   \n",
      "4615   [Fresh Tomato Salsa, [Rice, Cheese, Sour Cream]]   $8.75   \n",
      "4616                                                NaN   $4.45   \n",
      "4617  [Fresh Tomato Salsa, [Rice, Black Beans, Sour ...  $11.75   \n",
      "4618  [Fresh Tomato Salsa, [Rice, Sour Cream, Cheese...  $11.75   \n",
      "4619  [Fresh Tomato Salsa, [Fajita Vegetables, Pinto...  $11.25   \n",
      "4620  [Fresh Tomato Salsa, [Fajita Vegetables, Lettu...   $8.75   \n",
      "4621  [Fresh Tomato Salsa, [Fajita Vegetables, Pinto...   $8.75   \n",
      "\n",
      "[4622 rows x 5 columns]\n"
     ]
    }
   ],
   "source": [
    "#Store as a numpy array\n",
    "# data = file_nested_list.values\n",
    "\n",
    "#Store as a list\n",
    "# data = file_nested_list.values.tolist()\n",
    "\n",
    "#Store as DF... Seriously, WTF was I thinking???!?!?!?!!!#$$$\n",
    "data = pd.DataFrame(file_nested_list.values)\n",
    "\n",
    "\n",
    "\n",
    "print(type(data))\n",
    "print(data)"
   ]
  },
  {
   "cell_type": "markdown",
   "metadata": {},
   "source": [
    "---\n",
    "\n",
    "## Intermediate Level"
   ]
  },
  {
   "cell_type": "markdown",
   "metadata": {},
   "source": [
    "### Part 3: Calculate the average price of an order.\n",
    "\n",
    "Hint: Examine the data to see if the `quantity` column is relevant to this calculation.\n",
    "\n",
    "Hint: Think carefully about the simplest way to do this!"
   ]
  },
  {
   "cell_type": "code",
   "execution_count": 342,
   "metadata": {},
   "outputs": [
    {
     "name": "stdout",
     "output_type": "stream",
     "text": [
      "Uniques:  1834\n",
      "All:  4622\n",
      "Data Type For unique_orders: <class 'numpy.ndarray'> \n",
      "\n",
      "Data Type For unique_orders items: <class 'int'> \n",
      "\n",
      "\n"
     ]
    }
   ],
   "source": [
    "# Step 01 Identify The Unique Orders\n",
    "unique_orders = data.iloc[:,0].unique()\n",
    "data[4] = [float(x[1:]) for x in data[4]]\n",
    "\n",
    "\n",
    "print(\"Uniques: \", len(unique_orders))\n",
    "print(\"All: \", data.iloc[:,0].count())\n",
    "print(\"Data Type For unique_orders:\", type(unique_orders), \"\\n\")\n",
    "print(\"Data Type For unique_orders items:\", type(unique_orders[2]), \"\\n\\n\")\n",
    "\n",
    "\n",
    "\n",
    "\n",
    "\n",
    "\n",
    "\n",
    "\n",
    "\n",
    "\n",
    "\n",
    "\n",
    "\n",
    "\n",
    "\n",
    "\n",
    "\n",
    "\n",
    "\n",
    "\n",
    "\n",
    "\n",
    "# FAILURE NUMBER 02\n",
    "\n",
    "#order_id is index 0 in list data\n",
    "#price is index 4 in list data\n",
    "\n",
    "# test = [sum(data[\"item_price\"]) for x in data if x == data.iloc[:,order_id]]\n",
    "# order_list = [sum(float(data[0][4])) for x in range(len(data)) if data[0] == x]\n",
    "\n",
    "# order_list = \n",
    "# data[0]\n",
    "# order_list = [x for x in range(len(data))]\n",
    "\n",
    "# print(float(data[0][4].strip()[1:]))\n",
    "# print(order_list)\n",
    "# print(type(data[0][4]))\n",
    "\n",
    "# print(data.iloc[4:5, :])\n",
    "# test = float(data.iloc[4,4][1:])\n",
    "# print(type(data.iloc[4,4]))\n",
    "# print(type(test))\n",
    "\n",
    "\n",
    "\n",
    "# 01 - Coerce Column Index 4 to Float\n",
    "\n",
    "# data.apply(lambda x: float(data.iloc[x,4][1:]) for x in data)\n",
    "# data.apply(lambda x: data.iloc[x,4][1:] for x in data.iloc[x,4])\n",
    "\n",
    "# data[\"new_price\"] = [x]\n",
    "# data\n",
    "\n",
    "# FAILURE NUMBER 02\n",
    "\n",
    "\n",
    "\n",
    "\n",
    "#FAILURE NUMBER 01\n",
    "# file_nested_list[\"item_price\"] = [float(x[1:]) for x in file_nested_list[\"item_price\"]]\n",
    "\n",
    "\n",
    "# # Bad attempt at list comprehension that would have been to complex for me for now\n",
    "# order_totals = [sum(files_nested_list[\"item_price\"]) if x == files_nested_list[\"order_id\"]]\n",
    "\n",
    "\n",
    "\n",
    "# print(type(data.iloc[4,4]))\n",
    "# print(type(test))\n",
    "# print(data.iloc[4,:])\n",
    "\n",
    "\n",
    "\n",
    "\n",
    "\n",
    "\n",
    "\n",
    "\n",
    "\n",
    "\n",
    "\n",
    "\n",
    "\n",
    "# print(data)\n",
    "\n",
    "\n",
    "\n",
    "# # Step 02 Convert item-price to float\n",
    "# file_nested_list[\"item_price\"] = [float(x[1:]) for x in file_nested_list[\"item_price\"]]\n",
    "# print(file_nested_list[:,\"item_price\"])\n",
    "\n",
    "\n",
    "\n",
    "\n",
    "\n",
    "# # file_nested_list[\"order_totals\"] = [file_nested_list[\"item_price\"]] \n",
    "\n",
    "# order_total_list = []\n",
    "\n",
    "# for x in unique_orders:\n",
    "#     order_total = 0\n",
    "#     for row in data:\n",
    "#         print(x, data.iloc[row,4])\n",
    "# #         if data[row] == x:\n",
    "# #             order_total += row[4]\n",
    "# #             print(order_total)\n",
    "# #     order_total_list.append(order_total)\n",
    "    \n",
    "\n",
    "\n",
    "\n",
    "\n"
   ]
  },
  {
   "cell_type": "code",
   "execution_count": 343,
   "metadata": {},
   "outputs": [
    {
     "name": "stdout",
     "output_type": "stream",
     "text": [
      "   0  1                                      2             3     4\n",
      "1  1  1                                   Izze  [Clementine]  3.39\n",
      "2  1  1                       Nantucket Nectar       [Apple]  3.39\n",
      "3  1  1  Chips and Tomatillo-Green Chili Salsa           NaN  2.39\n"
     ]
    }
   ],
   "source": [
    "print(data.iloc[1:4])"
   ]
  },
  {
   "cell_type": "code",
   "execution_count": 344,
   "metadata": {},
   "outputs": [
    {
     "name": "stdout",
     "output_type": "stream",
     "text": [
      "Item Price DataType is: <class 'numpy.float64'> \n",
      "\n",
      "\n",
      "\n",
      "Row Number Four 0                                                    2\n",
      "1                                                    2\n",
      "2                                         Chicken Bowl\n",
      "3    [Tomatillo-Red Chili Salsa (Hot), [Black Beans...\n",
      "4                                                16.98\n",
      "Name: 4, dtype: object\n"
     ]
    }
   ],
   "source": [
    "#Confirm that the price is a floating point number \n",
    "data.head()\n",
    "\n",
    "print(\"Item Price DataType is:\", type(data.iloc[3,4]), \"\\n\\n\\n\\nRow Number Four\", data.iloc[4,:])"
   ]
  },
  {
   "cell_type": "code",
   "execution_count": 345,
   "metadata": {
    "collapsed": true
   },
   "outputs": [],
   "source": [
    "\n",
    "# # Doing this the long way...\n",
    "\n",
    "# order_total = []\n",
    "\n",
    "# list_of_prices = []\n",
    "# list_of_prices = [len(file_nested_list.loc([x][\"item_price\"]) for x in list_of_prices]\n",
    "\n",
    "\n",
    "# print(type(file_nested_list.loc[:,\"item_price\"]))\n",
    "# print(list_of_prices)\n"
   ]
  },
  {
   "cell_type": "markdown",
   "metadata": {
    "collapsed": true
   },
   "source": [
    "#### "
   ]
  },
  {
   "cell_type": "code",
   "execution_count": 346,
   "metadata": {},
   "outputs": [
    {
     "name": "stdout",
     "output_type": "stream",
     "text": [
      "Uniques:  1834\n",
      "All:  4622\n",
      "<class 'numpy.ndarray'>\n"
     ]
    }
   ],
   "source": [
    "unique_orders = data.iloc[:,0].unique()\n",
    "print(\"Uniques: \", len(unique_orders))\n",
    "print(\"All: \", data.iloc[:,0].count())\n",
    "print(type(unique_orders))\n",
    "# print(unique_orders[1])"
   ]
  },
  {
   "cell_type": "code",
   "execution_count": 347,
   "metadata": {},
   "outputs": [],
   "source": [
    "file_nested_list[\"item_price\"] = [float(x[1:]) for x in file_nested_list[\"item_price\"]]"
   ]
  },
  {
   "cell_type": "code",
   "execution_count": 348,
   "metadata": {},
   "outputs": [
    {
     "data": {
      "text/html": [
       "<div>\n",
       "<style>\n",
       "    .dataframe thead tr:only-child th {\n",
       "        text-align: right;\n",
       "    }\n",
       "\n",
       "    .dataframe thead th {\n",
       "        text-align: left;\n",
       "    }\n",
       "\n",
       "    .dataframe tbody tr th {\n",
       "        vertical-align: top;\n",
       "    }\n",
       "</style>\n",
       "<table border=\"1\" class=\"dataframe\">\n",
       "  <thead>\n",
       "    <tr style=\"text-align: right;\">\n",
       "      <th></th>\n",
       "      <th>order_id</th>\n",
       "      <th>quantity</th>\n",
       "      <th>item_name</th>\n",
       "      <th>choice_description</th>\n",
       "      <th>item_price</th>\n",
       "    </tr>\n",
       "  </thead>\n",
       "  <tbody>\n",
       "    <tr>\n",
       "      <th>0</th>\n",
       "      <td>1</td>\n",
       "      <td>1</td>\n",
       "      <td>Chips and Fresh Tomato Salsa</td>\n",
       "      <td>NaN</td>\n",
       "      <td>2.39</td>\n",
       "    </tr>\n",
       "    <tr>\n",
       "      <th>1</th>\n",
       "      <td>1</td>\n",
       "      <td>1</td>\n",
       "      <td>Izze</td>\n",
       "      <td>[Clementine]</td>\n",
       "      <td>3.39</td>\n",
       "    </tr>\n",
       "    <tr>\n",
       "      <th>2</th>\n",
       "      <td>1</td>\n",
       "      <td>1</td>\n",
       "      <td>Nantucket Nectar</td>\n",
       "      <td>[Apple]</td>\n",
       "      <td>3.39</td>\n",
       "    </tr>\n",
       "    <tr>\n",
       "      <th>3</th>\n",
       "      <td>1</td>\n",
       "      <td>1</td>\n",
       "      <td>Chips and Tomatillo-Green Chili Salsa</td>\n",
       "      <td>NaN</td>\n",
       "      <td>2.39</td>\n",
       "    </tr>\n",
       "  </tbody>\n",
       "</table>\n",
       "</div>"
      ],
      "text/plain": [
       "   order_id  quantity                              item_name  \\\n",
       "0         1         1           Chips and Fresh Tomato Salsa   \n",
       "1         1         1                                   Izze   \n",
       "2         1         1                       Nantucket Nectar   \n",
       "3         1         1  Chips and Tomatillo-Green Chili Salsa   \n",
       "\n",
       "  choice_description  item_price  \n",
       "0                NaN        2.39  \n",
       "1       [Clementine]        3.39  \n",
       "2            [Apple]        3.39  \n",
       "3                NaN        2.39  "
      ]
     },
     "execution_count": 348,
     "metadata": {},
     "output_type": "execute_result"
    }
   ],
   "source": [
    "file_nested_list.head(4)"
   ]
  },
  {
   "cell_type": "code",
   "execution_count": 416,
   "metadata": {},
   "outputs": [
    {
     "name": "stdout",
     "output_type": "stream",
     "text": [
      "The Average Order Is For: $18.81\n"
     ]
    }
   ],
   "source": [
    "# order_totals = [file_nested_list.loc[n,\"item_price\"] for n in file_nested_list if file_nested_list[n, \"order_id\"] == n]\n",
    "\n",
    "# order_totals = [sum(file_nested_list.loc[x, \"item_price\"]) for y in range(len(file_nested_list)) if file_nested_list.loc[x,\"order_id\"] == x ]\n",
    "\n",
    "# ot = [[sum(file_nested_list.loc[x,\"item_price\"]) for x in file_nested_list]\n",
    "\n",
    "# order_totals = []\n",
    "\n",
    "# for i in range(len(file_nested_list)):\n",
    "#     current_sum = file_nested_list[file_nested_list[\"order_id\"] == i]\n",
    "# #     print(current_sum.iloc[:,4])\n",
    "#     order_totals.append(current_sum.iloc[:,4].sum())\n",
    "# print(order_totals)\n",
    "# #     order_totals.append(sum(current_sum.loc[:,\"item_price\"]))\n",
    "# #     order_totals += (file_nested_list.loc[i, \"order_id\"],  file_nested_list.loc[i, \"item_price\"])\n",
    "# #     print(order_totals)\n",
    "# # print(order_totals)\n",
    "\n",
    "\n",
    "\n",
    "order_totals = data.groupby(0)[4].sum()\n",
    "print(\"The Average Order Is For:\", '${:,.2f}'.format(order_totals.mean()))\n",
    "\n",
    "    \n",
    "\n",
    "# data[4] = [float(x[1:]) for x in data[4]]\n",
    "# test = data.loc[data[0]==1, data[4]].sum()\n"
   ]
  },
  {
   "cell_type": "markdown",
   "metadata": {},
   "source": [
    "### Part 4: Create a list (or set) named `unique_sodas` containing all of unique sodas and soft drinks that Chipotle sells.\n",
    "\n",
    "Note: Just look for `'Canned Soda'` and `'Canned Soft Drink'`, and ignore other drinks like `'Izze'`."
   ]
  },
  {
   "cell_type": "code",
   "execution_count": 408,
   "metadata": {},
   "outputs": [
    {
     "name": "stdout",
     "output_type": "stream",
     "text": [
      "<class 'numpy.float64'>\n"
     ]
    }
   ],
   "source": [
    "sodas_unique = set()\n",
    "# file_nested_list[[(file_nested_list[\"item_name\"] == \"Canned Soft Drink\")], [(file_nested_list[\"item_name\"] == \"Canned Soda\")]]\n",
    "# sodas_unique.append(file_nested_list.loc[(file_nested_list[\"item_name\"] == \"Canned Soda\")][\"choice_description\"])\n",
    "# sodas_unique.append(file_nested_list.loc[(file_nested_list[\"item_name\"] == \"Canned Soft Drink\")][\"choice_description\"])\n",
    "\n",
    "# sodas_unique = [data[x][3] for x in range(len(data)) if data[x][2].contains(\"Canned\")]\n",
    "# print(type(data[4][2]))\n"
   ]
  },
  {
   "cell_type": "code",
   "execution_count": 412,
   "metadata": {},
   "outputs": [],
   "source": [
    "\n",
    "for x in range(len(data)):\n",
    "    if data.iloc[x, 2] == \"Canned Soft Drink\" or data.iloc[x, 2] == \"Canned Soda\":\n",
    "#         print(data.iloc[x, 3])\n",
    "        sodas_unique.add(data.iloc[x, 3])\n",
    "        \n"
   ]
  },
  {
   "cell_type": "code",
   "execution_count": 413,
   "metadata": {},
   "outputs": [
    {
     "name": "stdout",
     "output_type": "stream",
     "text": [
      "{'[Sprite]', '[Coke]', '[Dr. Pepper]', '[Coca Cola]', '[Mountain Dew]', '[Diet Coke]', '[Lemonade]', '[Diet Dr. Pepper]', '[Nestea]'}\n"
     ]
    }
   ],
   "source": [
    "print(sodas_unique)"
   ]
  },
  {
   "cell_type": "markdown",
   "metadata": {},
   "source": [
    "---\n",
    "\n",
    "## Advanced Level\n"
   ]
  },
  {
   "cell_type": "markdown",
   "metadata": {},
   "source": [
    "### Part 5: Calculate the average number of toppings per burrito.\n",
    "\n",
    "Note: Let's ignore the `quantity` column to simplify this task.\n",
    "\n",
    "Hint: Think carefully about the easiest way to count the number of toppings!\n"
   ]
  },
  {
   "cell_type": "code",
   "execution_count": 456,
   "metadata": {},
   "outputs": [
    {
     "name": "stdout",
     "output_type": "stream",
     "text": [
      "The average number of toppings per burrito order is: 5.395051194539249\n"
     ]
    }
   ],
   "source": [
    "# print(type(data.iloc[8][2]))\n",
    "# print(data.iloc[8][2])\n",
    "\n",
    "# print(type(data.iloc[8][3]))\n",
    "# print(data.iloc[8][3])\n",
    "\n",
    "t_number = 0 #Running total of number of toppings on burrito\n",
    "b_orders = 0 #Total number of burrito orders\n",
    "\n",
    "for x in range(len(data)):\n",
    "    if \"Burrito\" in data.iloc[x][2]:\n",
    "        t_number += data.iloc[x][3].count(\",\") + 1\n",
    "        b_orders += 1\n",
    "                \n",
    "print(\"The average number of toppings per burrito order is:\", t_number / b_orders)\n"
   ]
  },
  {
   "cell_type": "code",
   "execution_count": null,
   "metadata": {},
   "outputs": [],
   "source": []
  },
  {
   "cell_type": "code",
   "execution_count": null,
   "metadata": {
    "collapsed": true
   },
   "outputs": [],
   "source": []
  },
  {
   "cell_type": "markdown",
   "metadata": {},
   "source": [
    "### Part 6: Create a dictionary. Let the keys represent chip orders and the values represent the total number of orders.\n",
    "\n",
    "Expected output: `{'Chips and Roasted Chili-Corn Salsa': 18, ... }`\n",
    "\n",
    "Note: Please take the `quantity` column into account!\n",
    "\n",
    "Optional: Learn how to use `.defaultdict()` to simplify your code."
   ]
  },
  {
   "cell_type": "code",
   "execution_count": 480,
   "metadata": {},
   "outputs": [
    {
     "ename": "KeyError",
     "evalue": "(0, 2)",
     "output_type": "error",
     "traceback": [
      "\u001b[0;31m---------------------------------------------------------------------------\u001b[0m",
      "\u001b[0;31mTypeError\u001b[0m                                 Traceback (most recent call last)",
      "\u001b[0;32mpandas/_libs/index.pyx\u001b[0m in \u001b[0;36mpandas._libs.index.IndexEngine.get_loc\u001b[0;34m()\u001b[0m\n",
      "\u001b[0;32mpandas/_libs/hashtable_class_helper.pxi\u001b[0m in \u001b[0;36mpandas._libs.hashtable.Int64HashTable.get_item\u001b[0;34m()\u001b[0m\n",
      "\u001b[0;31mTypeError\u001b[0m: an integer is required",
      "\nDuring handling of the above exception, another exception occurred:\n",
      "\u001b[0;31mKeyError\u001b[0m                                  Traceback (most recent call last)",
      "\u001b[0;32m~/Apps/Dev/Conda3/lib/python3.6/site-packages/pandas/core/indexes/base.py\u001b[0m in \u001b[0;36mget_loc\u001b[0;34m(self, key, method, tolerance)\u001b[0m\n\u001b[1;32m   2441\u001b[0m             \u001b[0;32mtry\u001b[0m\u001b[0;34m:\u001b[0m\u001b[0;34m\u001b[0m\u001b[0m\n\u001b[0;32m-> 2442\u001b[0;31m                 \u001b[0;32mreturn\u001b[0m \u001b[0mself\u001b[0m\u001b[0;34m.\u001b[0m\u001b[0m_engine\u001b[0m\u001b[0;34m.\u001b[0m\u001b[0mget_loc\u001b[0m\u001b[0;34m(\u001b[0m\u001b[0mkey\u001b[0m\u001b[0;34m)\u001b[0m\u001b[0;34m\u001b[0m\u001b[0m\n\u001b[0m\u001b[1;32m   2443\u001b[0m             \u001b[0;32mexcept\u001b[0m \u001b[0mKeyError\u001b[0m\u001b[0;34m:\u001b[0m\u001b[0;34m\u001b[0m\u001b[0m\n",
      "\u001b[0;32mpandas/_libs/index.pyx\u001b[0m in \u001b[0;36mpandas._libs.index.IndexEngine.get_loc\u001b[0;34m()\u001b[0m\n",
      "\u001b[0;32mpandas/_libs/index.pyx\u001b[0m in \u001b[0;36mpandas._libs.index.IndexEngine.get_loc\u001b[0;34m()\u001b[0m\n",
      "\u001b[0;31mKeyError\u001b[0m: (0, 2)",
      "\nDuring handling of the above exception, another exception occurred:\n",
      "\u001b[0;31mTypeError\u001b[0m                                 Traceback (most recent call last)",
      "\u001b[0;32mpandas/_libs/index.pyx\u001b[0m in \u001b[0;36mpandas._libs.index.IndexEngine.get_loc\u001b[0;34m()\u001b[0m\n",
      "\u001b[0;32mpandas/_libs/hashtable_class_helper.pxi\u001b[0m in \u001b[0;36mpandas._libs.hashtable.Int64HashTable.get_item\u001b[0;34m()\u001b[0m\n",
      "\u001b[0;31mTypeError\u001b[0m: an integer is required",
      "\nDuring handling of the above exception, another exception occurred:\n",
      "\u001b[0;31mKeyError\u001b[0m                                  Traceback (most recent call last)",
      "\u001b[0;32m<ipython-input-480-a423d75d6deb>\u001b[0m in \u001b[0;36m<module>\u001b[0;34m()\u001b[0m\n\u001b[1;32m     11\u001b[0m \u001b[0;34m\u001b[0m\u001b[0m\n\u001b[1;32m     12\u001b[0m \u001b[0;32mfor\u001b[0m \u001b[0mline\u001b[0m \u001b[0;32min\u001b[0m \u001b[0mrange\u001b[0m\u001b[0;34m(\u001b[0m\u001b[0mlen\u001b[0m\u001b[0;34m(\u001b[0m\u001b[0mdata\u001b[0m\u001b[0;34m)\u001b[0m\u001b[0;34m)\u001b[0m\u001b[0;34m:\u001b[0m\u001b[0;34m\u001b[0m\u001b[0m\n\u001b[0;32m---> 13\u001b[0;31m     \u001b[0mprint\u001b[0m\u001b[0;34m(\u001b[0m\u001b[0mdata\u001b[0m\u001b[0;34m[\u001b[0m\u001b[0mline\u001b[0m\u001b[0;34m,\u001b[0m\u001b[0;36m2\u001b[0m\u001b[0;34m]\u001b[0m\u001b[0;34m)\u001b[0m\u001b[0;34m\u001b[0m\u001b[0m\n\u001b[0m\u001b[1;32m     14\u001b[0m \u001b[0;31m#     if \"Chips\" in line.iloc[2]:\u001b[0m\u001b[0;34m\u001b[0m\u001b[0;34m\u001b[0m\u001b[0m\n\u001b[1;32m     15\u001b[0m \u001b[0;31m#         for i in range(int(line[1])):\u001b[0m\u001b[0;34m\u001b[0m\u001b[0;34m\u001b[0m\u001b[0m\n",
      "\u001b[0;32m~/Apps/Dev/Conda3/lib/python3.6/site-packages/pandas/core/frame.py\u001b[0m in \u001b[0;36m__getitem__\u001b[0;34m(self, key)\u001b[0m\n\u001b[1;32m   1962\u001b[0m             \u001b[0;32mreturn\u001b[0m \u001b[0mself\u001b[0m\u001b[0;34m.\u001b[0m\u001b[0m_getitem_multilevel\u001b[0m\u001b[0;34m(\u001b[0m\u001b[0mkey\u001b[0m\u001b[0;34m)\u001b[0m\u001b[0;34m\u001b[0m\u001b[0m\n\u001b[1;32m   1963\u001b[0m         \u001b[0;32melse\u001b[0m\u001b[0;34m:\u001b[0m\u001b[0;34m\u001b[0m\u001b[0m\n\u001b[0;32m-> 1964\u001b[0;31m             \u001b[0;32mreturn\u001b[0m \u001b[0mself\u001b[0m\u001b[0;34m.\u001b[0m\u001b[0m_getitem_column\u001b[0m\u001b[0;34m(\u001b[0m\u001b[0mkey\u001b[0m\u001b[0;34m)\u001b[0m\u001b[0;34m\u001b[0m\u001b[0m\n\u001b[0m\u001b[1;32m   1965\u001b[0m \u001b[0;34m\u001b[0m\u001b[0m\n\u001b[1;32m   1966\u001b[0m     \u001b[0;32mdef\u001b[0m \u001b[0m_getitem_column\u001b[0m\u001b[0;34m(\u001b[0m\u001b[0mself\u001b[0m\u001b[0;34m,\u001b[0m \u001b[0mkey\u001b[0m\u001b[0;34m)\u001b[0m\u001b[0;34m:\u001b[0m\u001b[0;34m\u001b[0m\u001b[0m\n",
      "\u001b[0;32m~/Apps/Dev/Conda3/lib/python3.6/site-packages/pandas/core/frame.py\u001b[0m in \u001b[0;36m_getitem_column\u001b[0;34m(self, key)\u001b[0m\n\u001b[1;32m   1969\u001b[0m         \u001b[0;31m# get column\u001b[0m\u001b[0;34m\u001b[0m\u001b[0;34m\u001b[0m\u001b[0m\n\u001b[1;32m   1970\u001b[0m         \u001b[0;32mif\u001b[0m \u001b[0mself\u001b[0m\u001b[0;34m.\u001b[0m\u001b[0mcolumns\u001b[0m\u001b[0;34m.\u001b[0m\u001b[0mis_unique\u001b[0m\u001b[0;34m:\u001b[0m\u001b[0;34m\u001b[0m\u001b[0m\n\u001b[0;32m-> 1971\u001b[0;31m             \u001b[0;32mreturn\u001b[0m \u001b[0mself\u001b[0m\u001b[0;34m.\u001b[0m\u001b[0m_get_item_cache\u001b[0m\u001b[0;34m(\u001b[0m\u001b[0mkey\u001b[0m\u001b[0;34m)\u001b[0m\u001b[0;34m\u001b[0m\u001b[0m\n\u001b[0m\u001b[1;32m   1972\u001b[0m \u001b[0;34m\u001b[0m\u001b[0m\n\u001b[1;32m   1973\u001b[0m         \u001b[0;31m# duplicate columns & possible reduce dimensionality\u001b[0m\u001b[0;34m\u001b[0m\u001b[0;34m\u001b[0m\u001b[0m\n",
      "\u001b[0;32m~/Apps/Dev/Conda3/lib/python3.6/site-packages/pandas/core/generic.py\u001b[0m in \u001b[0;36m_get_item_cache\u001b[0;34m(self, item)\u001b[0m\n\u001b[1;32m   1643\u001b[0m         \u001b[0mres\u001b[0m \u001b[0;34m=\u001b[0m \u001b[0mcache\u001b[0m\u001b[0;34m.\u001b[0m\u001b[0mget\u001b[0m\u001b[0;34m(\u001b[0m\u001b[0mitem\u001b[0m\u001b[0;34m)\u001b[0m\u001b[0;34m\u001b[0m\u001b[0m\n\u001b[1;32m   1644\u001b[0m         \u001b[0;32mif\u001b[0m \u001b[0mres\u001b[0m \u001b[0;32mis\u001b[0m \u001b[0;32mNone\u001b[0m\u001b[0;34m:\u001b[0m\u001b[0;34m\u001b[0m\u001b[0m\n\u001b[0;32m-> 1645\u001b[0;31m             \u001b[0mvalues\u001b[0m \u001b[0;34m=\u001b[0m \u001b[0mself\u001b[0m\u001b[0;34m.\u001b[0m\u001b[0m_data\u001b[0m\u001b[0;34m.\u001b[0m\u001b[0mget\u001b[0m\u001b[0;34m(\u001b[0m\u001b[0mitem\u001b[0m\u001b[0;34m)\u001b[0m\u001b[0;34m\u001b[0m\u001b[0m\n\u001b[0m\u001b[1;32m   1646\u001b[0m             \u001b[0mres\u001b[0m \u001b[0;34m=\u001b[0m \u001b[0mself\u001b[0m\u001b[0;34m.\u001b[0m\u001b[0m_box_item_values\u001b[0m\u001b[0;34m(\u001b[0m\u001b[0mitem\u001b[0m\u001b[0;34m,\u001b[0m \u001b[0mvalues\u001b[0m\u001b[0;34m)\u001b[0m\u001b[0;34m\u001b[0m\u001b[0m\n\u001b[1;32m   1647\u001b[0m             \u001b[0mcache\u001b[0m\u001b[0;34m[\u001b[0m\u001b[0mitem\u001b[0m\u001b[0;34m]\u001b[0m \u001b[0;34m=\u001b[0m \u001b[0mres\u001b[0m\u001b[0;34m\u001b[0m\u001b[0m\n",
      "\u001b[0;32m~/Apps/Dev/Conda3/lib/python3.6/site-packages/pandas/core/internals.py\u001b[0m in \u001b[0;36mget\u001b[0;34m(self, item, fastpath)\u001b[0m\n\u001b[1;32m   3588\u001b[0m \u001b[0;34m\u001b[0m\u001b[0m\n\u001b[1;32m   3589\u001b[0m             \u001b[0;32mif\u001b[0m \u001b[0;32mnot\u001b[0m \u001b[0misnull\u001b[0m\u001b[0;34m(\u001b[0m\u001b[0mitem\u001b[0m\u001b[0;34m)\u001b[0m\u001b[0;34m:\u001b[0m\u001b[0;34m\u001b[0m\u001b[0m\n\u001b[0;32m-> 3590\u001b[0;31m                 \u001b[0mloc\u001b[0m \u001b[0;34m=\u001b[0m \u001b[0mself\u001b[0m\u001b[0;34m.\u001b[0m\u001b[0mitems\u001b[0m\u001b[0;34m.\u001b[0m\u001b[0mget_loc\u001b[0m\u001b[0;34m(\u001b[0m\u001b[0mitem\u001b[0m\u001b[0;34m)\u001b[0m\u001b[0;34m\u001b[0m\u001b[0m\n\u001b[0m\u001b[1;32m   3591\u001b[0m             \u001b[0;32melse\u001b[0m\u001b[0;34m:\u001b[0m\u001b[0;34m\u001b[0m\u001b[0m\n\u001b[1;32m   3592\u001b[0m                 \u001b[0mindexer\u001b[0m \u001b[0;34m=\u001b[0m \u001b[0mnp\u001b[0m\u001b[0;34m.\u001b[0m\u001b[0marange\u001b[0m\u001b[0;34m(\u001b[0m\u001b[0mlen\u001b[0m\u001b[0;34m(\u001b[0m\u001b[0mself\u001b[0m\u001b[0;34m.\u001b[0m\u001b[0mitems\u001b[0m\u001b[0;34m)\u001b[0m\u001b[0;34m)\u001b[0m\u001b[0;34m[\u001b[0m\u001b[0misnull\u001b[0m\u001b[0;34m(\u001b[0m\u001b[0mself\u001b[0m\u001b[0;34m.\u001b[0m\u001b[0mitems\u001b[0m\u001b[0;34m)\u001b[0m\u001b[0;34m]\u001b[0m\u001b[0;34m\u001b[0m\u001b[0m\n",
      "\u001b[0;32m~/Apps/Dev/Conda3/lib/python3.6/site-packages/pandas/core/indexes/base.py\u001b[0m in \u001b[0;36mget_loc\u001b[0;34m(self, key, method, tolerance)\u001b[0m\n\u001b[1;32m   2442\u001b[0m                 \u001b[0;32mreturn\u001b[0m \u001b[0mself\u001b[0m\u001b[0;34m.\u001b[0m\u001b[0m_engine\u001b[0m\u001b[0;34m.\u001b[0m\u001b[0mget_loc\u001b[0m\u001b[0;34m(\u001b[0m\u001b[0mkey\u001b[0m\u001b[0;34m)\u001b[0m\u001b[0;34m\u001b[0m\u001b[0m\n\u001b[1;32m   2443\u001b[0m             \u001b[0;32mexcept\u001b[0m \u001b[0mKeyError\u001b[0m\u001b[0;34m:\u001b[0m\u001b[0;34m\u001b[0m\u001b[0m\n\u001b[0;32m-> 2444\u001b[0;31m                 \u001b[0;32mreturn\u001b[0m \u001b[0mself\u001b[0m\u001b[0;34m.\u001b[0m\u001b[0m_engine\u001b[0m\u001b[0;34m.\u001b[0m\u001b[0mget_loc\u001b[0m\u001b[0;34m(\u001b[0m\u001b[0mself\u001b[0m\u001b[0;34m.\u001b[0m\u001b[0m_maybe_cast_indexer\u001b[0m\u001b[0;34m(\u001b[0m\u001b[0mkey\u001b[0m\u001b[0;34m)\u001b[0m\u001b[0;34m)\u001b[0m\u001b[0;34m\u001b[0m\u001b[0m\n\u001b[0m\u001b[1;32m   2445\u001b[0m \u001b[0;34m\u001b[0m\u001b[0m\n\u001b[1;32m   2446\u001b[0m         \u001b[0mindexer\u001b[0m \u001b[0;34m=\u001b[0m \u001b[0mself\u001b[0m\u001b[0;34m.\u001b[0m\u001b[0mget_indexer\u001b[0m\u001b[0;34m(\u001b[0m\u001b[0;34m[\u001b[0m\u001b[0mkey\u001b[0m\u001b[0;34m]\u001b[0m\u001b[0;34m,\u001b[0m \u001b[0mmethod\u001b[0m\u001b[0;34m=\u001b[0m\u001b[0mmethod\u001b[0m\u001b[0;34m,\u001b[0m \u001b[0mtolerance\u001b[0m\u001b[0;34m=\u001b[0m\u001b[0mtolerance\u001b[0m\u001b[0;34m)\u001b[0m\u001b[0;34m\u001b[0m\u001b[0m\n",
      "\u001b[0;32mpandas/_libs/index.pyx\u001b[0m in \u001b[0;36mpandas._libs.index.IndexEngine.get_loc\u001b[0;34m()\u001b[0m\n",
      "\u001b[0;32mpandas/_libs/index.pyx\u001b[0m in \u001b[0;36mpandas._libs.index.IndexEngine.get_loc\u001b[0;34m()\u001b[0m\n",
      "\u001b[0;31mKeyError\u001b[0m: (0, 2)"
     ]
    }
   ],
   "source": [
    "data[2]\n",
    "\n",
    "\n",
    "\n",
    "\n",
    "from collections import defaultdict\n",
    "\n",
    "chipInventory = []\n",
    "chipCount = defaultdict(int)\n",
    "\n",
    "\n",
    "for line in range(len(data)):\n",
    "    print(data[line,2])\n",
    "#     if \"Chips\" in line.iloc[2]:\n",
    "#         for i in range(int(line[1])):\n",
    "#             chipInventory.append(line[2])\n",
    "\n",
    "# for item in chipInventory:\n",
    "#     chipCount[item] += 1        \n",
    "\n",
    "\n",
    "# print(\"The Chip Order Totals By Chip Type Was As Follows:\")\n",
    "# for line in chipCount:\n",
    "#     print(line, \": \", chipCount[line])\n",
    "    \n",
    "# print(\"The total number of chip orders was:\", sum(chipCount.values())) \n"
   ]
  },
  {
   "cell_type": "code",
   "execution_count": null,
   "metadata": {
    "collapsed": true
   },
   "outputs": [],
   "source": []
  },
  {
   "cell_type": "code",
   "execution_count": null,
   "metadata": {
    "collapsed": true
   },
   "outputs": [],
   "source": []
  },
  {
   "cell_type": "code",
   "execution_count": null,
   "metadata": {
    "collapsed": true
   },
   "outputs": [],
   "source": []
  },
  {
   "cell_type": "code",
   "execution_count": null,
   "metadata": {
    "collapsed": true
   },
   "outputs": [],
   "source": []
  },
  {
   "cell_type": "markdown",
   "metadata": {},
   "source": [
    "---\n",
    "\n",
    "## Bonus: Craft a problem statement about this data that interests you, and then answer it!\n"
   ]
  },
  {
   "cell_type": "code",
   "execution_count": null,
   "metadata": {
    "collapsed": true
   },
   "outputs": [],
   "source": []
  },
  {
   "cell_type": "code",
   "execution_count": null,
   "metadata": {
    "collapsed": true
   },
   "outputs": [],
   "source": []
  },
  {
   "cell_type": "code",
   "execution_count": null,
   "metadata": {
    "collapsed": true
   },
   "outputs": [],
   "source": []
  },
  {
   "cell_type": "code",
   "execution_count": null,
   "metadata": {},
   "outputs": [],
   "source": [
    "chip"
   ]
  },
  {
   "cell_type": "code",
   "execution_count": null,
   "metadata": {
    "collapsed": true
   },
   "outputs": [],
   "source": []
  }
 ],
 "metadata": {
  "anaconda-cloud": {},
  "kernelspec": {
   "display_name": "Python 3",
   "language": "python",
   "name": "python3"
  },
  "language_info": {
   "codemirror_mode": {
    "name": "ipython",
    "version": 3
   },
   "file_extension": ".py",
   "mimetype": "text/x-python",
   "name": "python",
   "nbconvert_exporter": "python",
   "pygments_lexer": "ipython3",
   "version": "3.6.3"
  }
 },
 "nbformat": 4,
 "nbformat_minor": 2
}
