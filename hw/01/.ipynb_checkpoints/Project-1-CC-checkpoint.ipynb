{
 "cells": [
  {
   "cell_type": "markdown",
   "metadata": {},
   "source": [
    "<img src=\"http://imgur.com/1ZcRyrc.png\" style=\"float: left; margin: 20px; height: 55px\">\n",
    "\n",
    "# Project 1: Python Coding Exercises\n",
    "\n",
    "_Authors: Joseph Nelson (DC) _\n",
    "\n",
    "---"
   ]
  },
  {
   "cell_type": "markdown",
   "metadata": {},
   "source": [
    "The following code challenges are drawn from common exercises used in technical interviews.\n",
    "\n",
    "Note that there may be several ways to approach each challenge!"
   ]
  },
  {
   "cell_type": "markdown",
   "metadata": {},
   "source": [
    "### Challenge 1: Largest Palindrome\n",
    "A palindromic number reads the same both ways. For example, 1234321 is a palindrome. The largest palindrome made from the product of two two-digit numbers is 9009 = 91 × 99. Find the largest palindrome made from the product of two three-digit numbers."
   ]
  },
  {
   "cell_type": "code",
   "execution_count": 1,
   "metadata": {},
   "outputs": [
    {
     "name": "stdout",
     "output_type": "stream",
     "text": [
      "906609\n"
     ]
    }
   ],
   "source": [
    "#This needs to be changed so that it goes it goes from 999 * 999 to 999 * 998 to \n",
    "\n",
    "def set_range(max_range, min_range):\n",
    "#     pal_list = []\n",
    "    for i in range(max_range, min_range, -1):\n",
    "        for j in range(max_range, min_range, -1):\n",
    "#             temp = i * j\n",
    "            is_palin = str(i * j)\n",
    "            is_palin_rev = reverse_string(is_palin).strip()\n",
    "            \n",
    "            if test_palindrome(is_palin, is_palin_rev) == True:\n",
    "                pal_list.append(is_palin)\n",
    "    return(pal_list)\n",
    "                \n",
    "            \n",
    "#             print(type(is_palin), type(is_palin_rev))\n",
    "#             print(is_palin, is_palin_rev)\n",
    "#             print(len(is_palin), len(is_palin_rev))\n",
    "#             print(palin_test)\n",
    "        \n",
    "def reverse_string(reverso):\n",
    "    reversed = \"\"\n",
    "    \n",
    "    for k in range(len(reverso)-1, -1, -1):\n",
    "        reversed += reverso[k]\n",
    "    return reversed\n",
    "\n",
    "\n",
    "\n",
    "def test_palindrome(string01, string02):\n",
    "    if string01 == string02:\n",
    "#         print(\"True\")\n",
    "        return True\n",
    "    else:\n",
    "        return False\n",
    "    \n",
    "    \n",
    "    \n",
    "def find_pal_max(palin_list):\n",
    "    pal_max = 0\n",
    "    for l in range(len(palin_list)):\n",
    "        if int(palin_list[l]) > pal_max:\n",
    "            pal_max = int(palin_list[l])\n",
    "    return(pal_max)\n",
    "    \n",
    "    \n",
    "    \n",
    "pal_list = []\n",
    "pal_list = set_range(999, 0)\n",
    "print(find_pal_max(pal_list))\n",
    "\n",
    "\n",
    "\n",
    "#         test = list(isPalin)\n",
    "#         test = join(test)\n",
    "#         print(test)        "
   ]
  },
  {
   "cell_type": "code",
   "execution_count": 2,
   "metadata": {},
   "outputs": [
    {
     "ename": "NameError",
     "evalue": "name 'i' is not defined",
     "output_type": "error",
     "traceback": [
      "\u001b[0;31m---------------------------------------------------------------------------\u001b[0m",
      "\u001b[0;31mNameError\u001b[0m                                 Traceback (most recent call last)",
      "\u001b[0;32m<ipython-input-2-359774b393e9>\u001b[0m in \u001b[0;36m<module>\u001b[0;34m()\u001b[0m\n\u001b[0;32m----> 1\u001b[0;31m \u001b[0mstr\u001b[0m\u001b[0;34m(\u001b[0m\u001b[0mi\u001b[0m\u001b[0;34m)\u001b[0m\u001b[0;34m\u001b[0m\u001b[0m\n\u001b[0m",
      "\u001b[0;31mNameError\u001b[0m: name 'i' is not defined"
     ]
    }
   ],
   "source": [
    "str(i)"
   ]
  },
  {
   "cell_type": "markdown",
   "metadata": {},
   "source": [
    "\n",
    "### Challenge 2: Summation of Primes\n",
    "The sum of the primes below 10 is 2 + 3 + 5 + 7 = 17. Find the sum of all the primes below 2,000."
   ]
  },
  {
   "cell_type": "code",
   "execution_count": null,
   "metadata": {
    "collapsed": true
   },
   "outputs": [],
   "source": [
    "\n",
    "\n",
    "\n",
    "\n",
    "def is_prime(n):\n",
    "    if n < 2:\n",
    "        return False\n",
    "    elif n <= 3:\n",
    "        return True\n",
    "    elif n % 2 == 0:\n",
    "        return False\n",
    "    \n",
    "    \n",
    "    length = int(n**.5) + 1\n",
    "    \n",
    "    \n",
    "    for i in range(3, length, 2):\n",
    "        if n % i == 0:\n",
    "            return False\n",
    "    return True\n",
    "\n",
    "\n",
    "def sum_primes(l):\n",
    "    return sum(n for n in l if is_prime(n))\n",
    "\n",
    "\n",
    "\n",
    "sum_primes(range(2000))\n",
    "\n",
    "\n",
    "\n",
    "\n",
    "\n",
    "\n",
    "\n",
    "\n",
    "# sum_of_primes = 0\n",
    "# max_range = 10\n",
    "\n",
    "# for i in range(max_range):\n",
    "#     if i % 2 != 0:\n",
    "#         print(\"i:\", i)\n",
    "#         continue\n",
    "#     elif True:\n",
    "#         for j in range(3, i, 1):\n",
    "#             if i % j != 0:\n",
    "#                 print(\"i:\", i, \"j:\", j)\n",
    "#                 continue\n",
    "#     else:\n",
    "#         sum_of_primes += i\n",
    "        \n",
    "        \n",
    "# print(sum_of_primes)\n",
    "\n",
    "\n",
    "\n",
    "# for i in range(max_range):\n",
    "#     for j in range(i/2):\n",
    "#         if i % int(j) == 0:\n",
    "#             break\n",
    "#         else:\n",
    "#             sum_of_primes += i\n",
    "# #             continue\n",
    "#         print(i, j, i % j, sum_of_primes)\n",
    "\n",
    "# print(sum_of_primes)"
   ]
  },
  {
   "cell_type": "markdown",
   "metadata": {},
   "source": [
    "### Challenge 3: Multiples of 3 and 5\n",
    "If we list all of the natural numbers below 10 that are multiples of 3 or 5, we get 3, 5, 6, and 9. The sum of these multiples is 23. Find the sum of all the multiples of 3 and 5 below 1,000."
   ]
  },
  {
   "cell_type": "code",
   "execution_count": null,
   "metadata": {
    "collapsed": true
   },
   "outputs": [],
   "source": [
    "# Method 01: Standard\n",
    "\n",
    "def is_mult_3_5(maxrange):\n",
    "    mult = []\n",
    "\n",
    "    for i in range(maxrange):\n",
    "        if (i % 3 == 0) and (i % 5 == 0):\n",
    "            mult.append(i)\n",
    "    return(mult)\n",
    "\n",
    "print(\"Method 01:\", is_mult_3_5(1000))\n",
    "# Method 01: Standard\n",
    "\n",
    "\n",
    "# Method 02: List Comprehension\n",
    "mult2 = [x for x in range(1000) if x % 3 == 0 and x % 5 == 0]\n",
    "print(\"\\nMethod 02:\", mult2)\n",
    "# Method 02: List Comprehension\n"
   ]
  },
  {
   "cell_type": "markdown",
   "metadata": {},
   "source": [
    "### Challenge 4: String Compressor\n",
    "Implement a method to perform basic string compression using the counts of repeated characters. (This is called run-length encoding.) For example, the string \"aabcccccaaa\" would become a2b1c5a3. If the “compressed” string would not become smaller than the original string, your method should return the original string. You can assume the string has only uppercase and lowercase letters (a–z). Specify whether your solution is case sensitive or case insensitive and what you would need to change to make it the other."
   ]
  },
  {
   "cell_type": "code",
   "execution_count": 3,
   "metadata": {},
   "outputs": [
    {
     "name": "stdout",
     "output_type": "stream",
     "text": [
      "a1b2c3d4e5f2g5a\n"
     ]
    }
   ],
   "source": [
    "# #I Don't Know Why I Thought That This Was About Reversing a String...\n",
    "\n",
    "\n",
    "\n",
    "# def comp_s(string_01):\n",
    "#     new_s = \"\"\n",
    "#     counter = 1\n",
    "#     print(range(len(string_01)))\n",
    "                \n",
    "                \n",
    "#     for i in range(len(string_01)):\n",
    "#         if string_01[i] != string_01[i-1] or i == 0:\n",
    "#             new_s += string_01[i]\n",
    "#             new_s += str(counter)\n",
    "#             counter = 1\n",
    "#         elif string_01[i] == string_01[i-1]:\n",
    "#             counter += 1\n",
    "            \n",
    "#     return new_s\n",
    "        \n",
    "    \n",
    "    \n",
    "    \n",
    "\n",
    "\n",
    "\n",
    "def main(string_01):\n",
    "    new_s = \"\"\n",
    "    counter = \"\"\n",
    "    \n",
    "    for i in range(len(string_01)):\n",
    "        if (i == 0) or (string_01[i] != string_01[i-1]):\n",
    "            new_s += str(counter) + string_01[i]\n",
    "            counter = 1\n",
    "        elif (string_01[i] == string_01[i-1]):\n",
    "            counter += 1\n",
    "        \n",
    "            \n",
    "    print(new_s)\n",
    "\n",
    "def new_letter(): \n",
    "    pass\n",
    "\n",
    "    \n",
    "def repeat_letter():\n",
    "    pass\n",
    "    \n",
    "main('abbcccddddeeeeeffgggggaaaaaaaaaa')\n",
    "\n"
   ]
  },
  {
   "cell_type": "code",
   "execution_count": null,
   "metadata": {
    "collapsed": true
   },
   "outputs": [],
   "source": [
    "#NOT WORKING CODE\n",
    "\n",
    "#Can't Use Dicts... Nonconsecutive Repeat Letters\n",
    "\n",
    "\n",
    "\n",
    "# def string_comp(string_01):\n",
    "#     counter=0\n",
    "#     compress = {}\n",
    "    \n",
    "#     for i in range(0, len(string_01)-1, 1):\n",
    "#         if string_01[i] == string_01[i-1]:\n",
    "#             counter += 1\n",
    "#         else:\n",
    "#             compress[string_01[i-1]] = counter\n",
    "#             counter = 0\n",
    "#     return(compress)\n",
    "            \n",
    "# string_comp('teeeeeeeeeeeeeeething')\n",
    "    \n",
    "\n",
    "# def string_comp(string_01):\n",
    "#     counter=1\n",
    "#     compress = {}\n",
    "    \n",
    "#     for i in range(len(string_01)):\n",
    "#         #If this is the first letter in a string create a new dictionary key\n",
    "#         if counter == 1:\n",
    "#             compress[string_01[i]] = 1\n",
    "#         #If this is a repeat, then increase the counter    \n",
    "#         if string_01[i] == string_01[i-1]:\n",
    "#             counter += 1\n",
    "#         compress[string_01[i]] = counter\n",
    "#         counter = 0\n",
    "    \n",
    "#     return(compress)\n",
    "            \n",
    "\n",
    "\n",
    "# string_comp('teeeeeeeeeeeeeeething')\n",
    "\n",
    "\n",
    "#Can't Use Dicts... Nonconsecutive Repeat Letters\n",
    "\n",
    "\n",
    "\n",
    "\n",
    "\n",
    "# #Method 01: The Cheating Way \n",
    "# def reverse_string(reverso):\n",
    "#     return(reverso[::-1])\n",
    "\n",
    "# answer = reverse_string(\"Today\")\n",
    "# print(answer)\n",
    "# #Method 01: The Cheating Way \n",
    "\n",
    "      \n",
    "# #Method 02: The Long Way...\n",
    "\n",
    "# def reverse_long(reverso_02):\n",
    "# #     answer_02 = list(reverso_02)\n",
    "#     answer_02 = []\n",
    "#     for i in range(len(reverso_02)-1, -1, -1):\n",
    "#         answer_02.append(reverso_02[i])\n",
    "    \n",
    "#     return(\"\".join(answer_02))\n",
    "\n",
    "# print(reverse_long(\"Whatever\"))\n",
    "\n",
    "# #Method 02: The Long Way...\n",
    "\n",
    "#NOT WORKING CODE"
   ]
  },
  {
   "cell_type": "markdown",
   "metadata": {},
   "source": [
    "# Bonus Challenge: FizzBuzz Extreme\n",
    "Find or develop three different solutions to the following problem, in Python, that are as different from one another as possible. Which one do you prefer? Why? In what ways are the alternative solutions better?\n",
    "\n",
    "Write a program that prints all of the numbers from 1 to 100. For multiples of 3, instead of the number, print \"Fizz;\" for multiples of 5, print \"Buzz.\" For numbers that are multiples of both 3 and 5, print \"FizzBuzz.\""
   ]
  },
  {
   "cell_type": "code",
   "execution_count": null,
   "metadata": {
    "collapsed": true
   },
   "outputs": [],
   "source": [
    "#Method 01: Procedural?\n",
    "\n",
    "for i in range(1, 100):\n",
    "    if i % 3 == 0:\n",
    "        if i % 5 ==0:\n",
    "            print(\"FizzBuzz\")\n",
    "        else:\n",
    "            print(\"Fizz\")\n",
    "    elif i % 5 == 0:\n",
    "        print(\"Buzz\")\n",
    "    else:\n",
    "        print(i)\n",
    "#Method 01: Procedural?\n",
    "\n",
    "\n",
    "# #Method 02: List Comprehensions\n",
    "answer_02 = [\"FizzBuzz\" if x % 3 == 0 and x % 5 ==0 else \"Fizz\" if x%3==0 and x%5!=0 else \"Buzz\" if x%3!=0 and x%5==0 else x for x in range(1,101)]\n",
    "print(answer_02)\n",
    "# #Method 02: List Comprehensions\n",
    "\n",
    "\n",
    "# #Did Not Working Way\n",
    "# FizzBuzz = [x for x in range(101) if x % 3 == 0 and x % 5 == 0]\n",
    "# Fizz = [x for x in range(101) if x%3==0 and x%5!=0]\n",
    "# Buzz = [x for x in range(101) if x%3!=0 and x%5==0]\n",
    "\n",
    "# FizzBuzzDict = {}\n",
    "# FizzBuzzDict[\"FizzBuzz\"] = FizzBuzz\n",
    "# FizzBuzzDict[\"Fizz\"] = Fizz\n",
    "# FizzBuzzDict[\"Buzz\"] = Buzz\n",
    "\n",
    "# # print(FizzBuzzDict)\n",
    "\n",
    "# for i in range(1, 101, 1):\n",
    "#     for key in FizzBuzzDict:\n",
    "#         for j in range(1, len(FizzBuzzDict[key]), 1):\n",
    "#             if i == FizzBuzzDict[key][j]:\n",
    "#                 print(key)\n",
    "# #             else: \n",
    "# #                 break\n",
    "# #         print(i)\n",
    "# #Did Not Working Way\n",
    "\n",
    "\n",
    "\n",
    "\n",
    "\n",
    "\n",
    "\n",
    "\n",
    "# #The Genius Answer from SO\n",
    "x = [\"Fizz\"*(not i%3) + \"Buzz\"*(not i%5) or i for i in range(1,101)]\n",
    "print(x)\n",
    "# #The Genius Answer from SO\n",
    "\n"
   ]
  },
  {
   "cell_type": "code",
   "execution_count": null,
   "metadata": {
    "collapsed": true
   },
   "outputs": [],
   "source": []
  },
  {
   "cell_type": "code",
   "execution_count": null,
   "metadata": {
    "collapsed": true
   },
   "outputs": [],
   "source": []
  }
 ],
 "metadata": {
  "anaconda-cloud": {},
  "kernelspec": {
   "display_name": "Python 3",
   "language": "python",
   "name": "python3"
  },
  "language_info": {
   "codemirror_mode": {
    "name": "ipython",
    "version": 3
   },
   "file_extension": ".py",
   "mimetype": "text/x-python",
   "name": "python",
   "nbconvert_exporter": "python",
   "pygments_lexer": "ipython3",
   "version": "3.6.3"
  }
 },
 "nbformat": 4,
 "nbformat_minor": 2
}
