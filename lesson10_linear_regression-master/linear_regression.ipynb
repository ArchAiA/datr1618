{
 "cells": [
  {
   "cell_type": "markdown",
   "metadata": {},
   "source": [
    "<img src=\"http://imgur.com/1ZcRyrc.png\" style=\"float: left; margin: 20px; height: 55px\">\n",
    "\n",
    "# Linear Regression\n",
    "\n",
    "_Authors: Kevin Markham (Washington, D.C.), Ed Podojil (New York City)_"
   ]
  },
  {
   "cell_type": "markdown",
   "metadata": {},
   "source": [
    "#### Learning Objectives\n",
    "- Define data modeling and simple linear regression.\n",
    "- Build a linear regression model using a data set that meets the linearity assumption using the scikit-learn library.\n",
    "- Understand and identify multicollinearity in a multiple regression."
   ]
  },
  {
   "cell_type": "markdown",
   "metadata": {},
   "source": [
    "<a id=\"introduce-the-bikeshare-dataset\"></a>\n",
    "## Introduce the Bikeshare Data Set\n",
    "---"
   ]
  },
  {
   "cell_type": "markdown",
   "metadata": {},
   "source": [
    "We are going to use bikeshare data to build a simple demand forecasting model.\n",
    "\n",
    "**Possible applications:**\n",
    "\n",
    "* Find where to site new bikeshare stations and know how large of a station to build.\n",
    "* Calculate the expected wear and tear on bikes and what the replacement costs will be.\n",
    "* Use a slightly different research design to forecast full and empty stations and send a service vehicle to \"rebalance\" the bikes from one station to another, as sometimes bikeshare stations have no bikes or are completely full and prevent use of the station."
   ]
  },
  {
   "cell_type": "code",
   "execution_count": 7,
   "metadata": {
    "collapsed": true
   },
   "outputs": [],
   "source": [
    "import pandas as pd\n",
    "import numpy as np\n",
    "import seaborn as sns\n",
    "import matplotlib.pyplot as plt\n",
    "\n",
    "%matplotlib inline\n",
    "plt.rcParams['figure.figsize'] = (8, 6)\n",
    "plt.rcParams['font.size'] = 14\n",
    "plt.style.use(\"fivethirtyeight\")"
   ]
  },
  {
   "cell_type": "markdown",
   "metadata": {},
   "source": [
    "<a id=\"read-in-the--capital-bikeshare-data\"></a>\n",
    "### Read In the Capital Bikeshare Data"
   ]
  },
  {
   "cell_type": "code",
   "execution_count": 16,
   "metadata": {},
   "outputs": [
    {
     "data": {
      "text/html": [
       "<div>\n",
       "<style>\n",
       "    .dataframe thead tr:only-child th {\n",
       "        text-align: right;\n",
       "    }\n",
       "\n",
       "    .dataframe thead th {\n",
       "        text-align: left;\n",
       "    }\n",
       "\n",
       "    .dataframe tbody tr th {\n",
       "        vertical-align: top;\n",
       "    }\n",
       "</style>\n",
       "<table border=\"1\" class=\"dataframe\">\n",
       "  <thead>\n",
       "    <tr style=\"text-align: right;\">\n",
       "      <th></th>\n",
       "      <th>season_num</th>\n",
       "      <th>is_holiday</th>\n",
       "      <th>is_workingday</th>\n",
       "      <th>weather</th>\n",
       "      <th>temp_celsius</th>\n",
       "      <th>atemp</th>\n",
       "      <th>humidity_percent</th>\n",
       "      <th>windspeed_knots</th>\n",
       "      <th>num_casual_users</th>\n",
       "      <th>num_registered_users</th>\n",
       "      <th>num_total_users</th>\n",
       "    </tr>\n",
       "    <tr>\n",
       "      <th>datetime</th>\n",
       "      <th></th>\n",
       "      <th></th>\n",
       "      <th></th>\n",
       "      <th></th>\n",
       "      <th></th>\n",
       "      <th></th>\n",
       "      <th></th>\n",
       "      <th></th>\n",
       "      <th></th>\n",
       "      <th></th>\n",
       "      <th></th>\n",
       "    </tr>\n",
       "  </thead>\n",
       "  <tbody>\n",
       "    <tr>\n",
       "      <th>2011-01-01 00:00:00</th>\n",
       "      <td>1</td>\n",
       "      <td>0</td>\n",
       "      <td>0</td>\n",
       "      <td>1</td>\n",
       "      <td>3.28</td>\n",
       "      <td>3.0014</td>\n",
       "      <td>81</td>\n",
       "      <td>0.0</td>\n",
       "      <td>3</td>\n",
       "      <td>13</td>\n",
       "      <td>16</td>\n",
       "    </tr>\n",
       "    <tr>\n",
       "      <th>2011-01-01 01:00:00</th>\n",
       "      <td>1</td>\n",
       "      <td>0</td>\n",
       "      <td>0</td>\n",
       "      <td>1</td>\n",
       "      <td>2.34</td>\n",
       "      <td>1.9982</td>\n",
       "      <td>80</td>\n",
       "      <td>0.0</td>\n",
       "      <td>8</td>\n",
       "      <td>32</td>\n",
       "      <td>40</td>\n",
       "    </tr>\n",
       "    <tr>\n",
       "      <th>2011-01-01 02:00:00</th>\n",
       "      <td>1</td>\n",
       "      <td>0</td>\n",
       "      <td>0</td>\n",
       "      <td>1</td>\n",
       "      <td>2.34</td>\n",
       "      <td>1.9982</td>\n",
       "      <td>80</td>\n",
       "      <td>0.0</td>\n",
       "      <td>5</td>\n",
       "      <td>27</td>\n",
       "      <td>32</td>\n",
       "    </tr>\n",
       "    <tr>\n",
       "      <th>2011-01-01 03:00:00</th>\n",
       "      <td>1</td>\n",
       "      <td>0</td>\n",
       "      <td>0</td>\n",
       "      <td>1</td>\n",
       "      <td>3.28</td>\n",
       "      <td>3.0014</td>\n",
       "      <td>75</td>\n",
       "      <td>0.0</td>\n",
       "      <td>3</td>\n",
       "      <td>10</td>\n",
       "      <td>13</td>\n",
       "    </tr>\n",
       "    <tr>\n",
       "      <th>2011-01-01 04:00:00</th>\n",
       "      <td>1</td>\n",
       "      <td>0</td>\n",
       "      <td>0</td>\n",
       "      <td>1</td>\n",
       "      <td>3.28</td>\n",
       "      <td>3.0014</td>\n",
       "      <td>75</td>\n",
       "      <td>0.0</td>\n",
       "      <td>0</td>\n",
       "      <td>1</td>\n",
       "      <td>1</td>\n",
       "    </tr>\n",
       "  </tbody>\n",
       "</table>\n",
       "</div>"
      ],
      "text/plain": [
       "                     season_num  is_holiday  is_workingday  weather  \\\n",
       "datetime                                                              \n",
       "2011-01-01 00:00:00           1           0              0        1   \n",
       "2011-01-01 01:00:00           1           0              0        1   \n",
       "2011-01-01 02:00:00           1           0              0        1   \n",
       "2011-01-01 03:00:00           1           0              0        1   \n",
       "2011-01-01 04:00:00           1           0              0        1   \n",
       "\n",
       "                     temp_celsius   atemp  humidity_percent  windspeed_knots  \\\n",
       "datetime                                                                       \n",
       "2011-01-01 00:00:00          3.28  3.0014                81              0.0   \n",
       "2011-01-01 01:00:00          2.34  1.9982                80              0.0   \n",
       "2011-01-01 02:00:00          2.34  1.9982                80              0.0   \n",
       "2011-01-01 03:00:00          3.28  3.0014                75              0.0   \n",
       "2011-01-01 04:00:00          3.28  3.0014                75              0.0   \n",
       "\n",
       "                     num_casual_users  num_registered_users  num_total_users  \n",
       "datetime                                                                      \n",
       "2011-01-01 00:00:00                 3                    13               16  \n",
       "2011-01-01 01:00:00                 8                    32               40  \n",
       "2011-01-01 02:00:00                 5                    27               32  \n",
       "2011-01-01 03:00:00                 3                    10               13  \n",
       "2011-01-01 04:00:00                 0                     1                1  "
      ]
     },
     "execution_count": 16,
     "metadata": {},
     "output_type": "execute_result"
    }
   ],
   "source": [
    "# Read the data and set the datetime as the index.\n",
    "# \n",
    "\n",
    "url = './data/bikeshare.csv'\n",
    "bikes_cols=['season_num','is_holiday','is_workingday','weather','temp_celsius','atemp','humidity_percent',\n",
    "                'windspeed_knots','num_casual_users','num_registered_users','num_total_users']\n",
    "\n",
    "\n",
    "\n",
    "bikes.columns = bikes_cols\n",
    "bikes.head()\n"
   ]
  },
  {
   "cell_type": "code",
   "execution_count": 17,
   "metadata": {},
   "outputs": [
    {
     "data": {
      "text/html": [
       "<div>\n",
       "<style>\n",
       "    .dataframe thead tr:only-child th {\n",
       "        text-align: right;\n",
       "    }\n",
       "\n",
       "    .dataframe thead th {\n",
       "        text-align: left;\n",
       "    }\n",
       "\n",
       "    .dataframe tbody tr th {\n",
       "        vertical-align: top;\n",
       "    }\n",
       "</style>\n",
       "<table border=\"1\" class=\"dataframe\">\n",
       "  <thead>\n",
       "    <tr style=\"text-align: right;\">\n",
       "      <th></th>\n",
       "      <th>season_num</th>\n",
       "      <th>is_holiday</th>\n",
       "      <th>is_workingday</th>\n",
       "      <th>weather</th>\n",
       "      <th>temp_celsius</th>\n",
       "      <th>atemp</th>\n",
       "      <th>humidity_percent</th>\n",
       "      <th>windspeed_knots</th>\n",
       "      <th>num_casual_users</th>\n",
       "      <th>num_registered_users</th>\n",
       "      <th>num_total_users</th>\n",
       "    </tr>\n",
       "    <tr>\n",
       "      <th>datetime</th>\n",
       "      <th></th>\n",
       "      <th></th>\n",
       "      <th></th>\n",
       "      <th></th>\n",
       "      <th></th>\n",
       "      <th></th>\n",
       "      <th></th>\n",
       "      <th></th>\n",
       "      <th></th>\n",
       "      <th></th>\n",
       "      <th></th>\n",
       "    </tr>\n",
       "  </thead>\n",
       "  <tbody>\n",
       "    <tr>\n",
       "      <th>2011-01-01 00:00:00</th>\n",
       "      <td>1</td>\n",
       "      <td>0</td>\n",
       "      <td>0</td>\n",
       "      <td>1</td>\n",
       "      <td>3.28</td>\n",
       "      <td>3.0014</td>\n",
       "      <td>81</td>\n",
       "      <td>0.0</td>\n",
       "      <td>3</td>\n",
       "      <td>13</td>\n",
       "      <td>16</td>\n",
       "    </tr>\n",
       "    <tr>\n",
       "      <th>2011-01-01 01:00:00</th>\n",
       "      <td>1</td>\n",
       "      <td>0</td>\n",
       "      <td>0</td>\n",
       "      <td>1</td>\n",
       "      <td>2.34</td>\n",
       "      <td>1.9982</td>\n",
       "      <td>80</td>\n",
       "      <td>0.0</td>\n",
       "      <td>8</td>\n",
       "      <td>32</td>\n",
       "      <td>40</td>\n",
       "    </tr>\n",
       "    <tr>\n",
       "      <th>2011-01-01 02:00:00</th>\n",
       "      <td>1</td>\n",
       "      <td>0</td>\n",
       "      <td>0</td>\n",
       "      <td>1</td>\n",
       "      <td>2.34</td>\n",
       "      <td>1.9982</td>\n",
       "      <td>80</td>\n",
       "      <td>0.0</td>\n",
       "      <td>5</td>\n",
       "      <td>27</td>\n",
       "      <td>32</td>\n",
       "    </tr>\n",
       "    <tr>\n",
       "      <th>2011-01-01 03:00:00</th>\n",
       "      <td>1</td>\n",
       "      <td>0</td>\n",
       "      <td>0</td>\n",
       "      <td>1</td>\n",
       "      <td>3.28</td>\n",
       "      <td>3.0014</td>\n",
       "      <td>75</td>\n",
       "      <td>0.0</td>\n",
       "      <td>3</td>\n",
       "      <td>10</td>\n",
       "      <td>13</td>\n",
       "    </tr>\n",
       "    <tr>\n",
       "      <th>2011-01-01 04:00:00</th>\n",
       "      <td>1</td>\n",
       "      <td>0</td>\n",
       "      <td>0</td>\n",
       "      <td>1</td>\n",
       "      <td>3.28</td>\n",
       "      <td>3.0014</td>\n",
       "      <td>75</td>\n",
       "      <td>0.0</td>\n",
       "      <td>0</td>\n",
       "      <td>1</td>\n",
       "      <td>1</td>\n",
       "    </tr>\n",
       "  </tbody>\n",
       "</table>\n",
       "</div>"
      ],
      "text/plain": [
       "                     season_num  is_holiday  is_workingday  weather  \\\n",
       "datetime                                                              \n",
       "2011-01-01 00:00:00           1           0              0        1   \n",
       "2011-01-01 01:00:00           1           0              0        1   \n",
       "2011-01-01 02:00:00           1           0              0        1   \n",
       "2011-01-01 03:00:00           1           0              0        1   \n",
       "2011-01-01 04:00:00           1           0              0        1   \n",
       "\n",
       "                     temp_celsius   atemp  humidity_percent  windspeed_knots  \\\n",
       "datetime                                                                       \n",
       "2011-01-01 00:00:00          3.28  3.0014                81              0.0   \n",
       "2011-01-01 01:00:00          2.34  1.9982                80              0.0   \n",
       "2011-01-01 02:00:00          2.34  1.9982                80              0.0   \n",
       "2011-01-01 03:00:00          3.28  3.0014                75              0.0   \n",
       "2011-01-01 04:00:00          3.28  3.0014                75              0.0   \n",
       "\n",
       "                     num_casual_users  num_registered_users  num_total_users  \n",
       "datetime                                                                      \n",
       "2011-01-01 00:00:00                 3                    13               16  \n",
       "2011-01-01 01:00:00                 8                    32               40  \n",
       "2011-01-01 02:00:00                 5                    27               32  \n",
       "2011-01-01 03:00:00                 3                    10               13  \n",
       "2011-01-01 04:00:00                 0                     1                1  "
      ]
     },
     "execution_count": 17,
     "metadata": {},
     "output_type": "execute_result"
    }
   ],
   "source": [
    "# Preview the first five rows of the DataFrame.\n",
    "bikes.head(5)"
   ]
  },
  {
   "cell_type": "markdown",
   "metadata": {},
   "source": [
    "#### What does each observation (row) represent?"
   ]
  },
  {
   "cell_type": "markdown",
   "metadata": {
    "collapsed": true
   },
   "source": []
  },
  {
   "cell_type": "markdown",
   "metadata": {},
   "source": [
    "`num_total_users` indicates the total number of riders. It will be the target variable that we try to forecast."
   ]
  },
  {
   "cell_type": "markdown",
   "metadata": {},
   "source": [
    "#### How many features are there?\n",
    "\n",
    "Don't num_total_users \"num_casual_users\" or \"num_registered_users\" -- they are segments of the total users, so they are alternative target variables  that aren't available for forecasting total users."
   ]
  },
  {
   "cell_type": "markdown",
   "metadata": {
    "collapsed": true
   },
   "source": []
  },
  {
   "cell_type": "markdown",
   "metadata": {},
   "source": [
    "#### Data dictionary"
   ]
  },
  {
   "cell_type": "markdown",
   "metadata": {},
   "source": [
    "| Variable| Description |\n",
    "|---------|----------------|\n",
    "|datetime| hourly date + timestamp  |\n",
    "|season|  1 = spring, 2 = summer, 3 = fall, 4 = winter |\n",
    "|holiday| whether the day is considered a holiday|\n",
    "|workingday| whether the day is neither a weekend nor holiday|\n",
    "|weather| 1: Clear, 2: Mist, 3: Light Rain or Snow 4: Heavy Rain or Snow|\n",
    "|temp| temp_celsius in Celsius|\n",
    "|atemp| \"feels like\" temp_celsius in Celsius|\n",
    "|humidity| relative humidity|\n",
    "|windspeed| wind speed|\n",
    "|casual| number of non-num_registered_users user rentals initiated|\n",
    "|registered| number of num_registered_users user rentals initiated|\n",
    "|count| number of total rentals|"
   ]
  },
  {
   "cell_type": "markdown",
   "metadata": {},
   "source": [
    "#### Exercise:\n",
    "\n",
    "Rename the columns in `bikes` as indicated below.\n",
    "\n",
    "| old name | new name |\n",
    "| ---    | --- |\n",
    "| temp | temp_celsius\n",
    "| windspeed | windspeed_knots\n",
    "| casual | num_casual_users\n",
    "| registered | num_registered_users\n",
    "| season | season_num\n",
    "| holiday | is_holiday\n",
    "| workingday | is_workingday\n",
    "| humidity | humidity_percent\n",
    "| count | num_total_users\n",
    "\n",
    "Using these more explicit names will make it easier to avoid mistakes."
   ]
  },
  {
   "cell_type": "code",
   "execution_count": null,
   "metadata": {
    "collapsed": true
   },
   "outputs": [],
   "source": []
  },
  {
   "cell_type": "markdown",
   "metadata": {},
   "source": [
    "<a id=\"visualizing-the-data\"></a>\n",
    "### Visualizing the Data"
   ]
  },
  {
   "cell_type": "markdown",
   "metadata": {
    "collapsed": true
   },
   "source": [
    "# Pandas scatterplot\n",
    "sns.lmplot(x='temp_celsius', y='num_total_users', data=bikes, aspect=1.5, scatter_kws={'alpha':0.2})"
   ]
  },
  {
   "cell_type": "code",
   "execution_count": 21,
   "metadata": {},
   "outputs": [
    {
     "data": {
      "text/plain": [
       "<seaborn.axisgrid.FacetGrid at 0x7ff536947d68>"
      ]
     },
     "execution_count": 21,
     "metadata": {},
     "output_type": "execute_result"
    },
    {
     "data": {
      "image/png": "[encoded data removed]",
      "text/plain": [
       "<matplotlib.figure.Figure at 0x7ff536947b38>"
      ]
     },
     "metadata": {},
     "output_type": "display_data"
    }
   ],
   "source": [
    "# Seaborn scatterplot with regression line\n",
    "sns.lmplot(x='temp_celsius', y='num_total_users', data=bikes, aspect=1.5, scatter_kws={'alpha':0.2})"
   ]
  },
  {
   "cell_type": "markdown",
   "metadata": {},
   "source": [
    "We just created a linear regression model!\n",
    "\n",
    "- **Formula for a line:** $y = mx + b$\n",
    "- **Our model:** $\\mbox{num_total_users} = \\alpha * \\mbox{temp_celsius} + \\beta$"
   ]
  },
  {
   "cell_type": "markdown",
   "metadata": {},
   "source": [
    "We call $\\alpha$ the **coefficient** of `temp_celsius` and $\\beta$ the **model intercept**."
   ]
  },
  {
   "cell_type": "markdown",
   "metadata": {},
   "source": [
    "**Exercise.** Answer each question with an expression that includes one or more symbols, rather than an exact number. The symbol $\\alpha$ is called \"alpha,\" and the symbol $\\beta$ is called \"beta.\""
   ]
  },
  {
   "cell_type": "markdown",
   "metadata": {},
   "source": [
    "- What would our model predict for `num_total_users` at `temp_celsius=0`?"
   ]
  },
  {
   "cell_type": "markdown",
   "metadata": {},
   "source": []
  },
  {
   "cell_type": "markdown",
   "metadata": {},
   "source": [
    "- If `temp_celsius` increases by 5, how does our model's prediction for `num_total_users` change? What if $\\alpha$ were negative?"
   ]
  },
  {
   "cell_type": "markdown",
   "metadata": {},
   "source": []
  },
  {
   "cell_type": "markdown",
   "metadata": {},
   "source": [
    "- I claim that this model does *not* tell us how the number of total uses would change if we were (somehow) to intervene to increase $temp\\_celsius$ by 5. Why not?"
   ]
  },
  {
   "cell_type": "markdown",
   "metadata": {},
   "source": []
  },
  {
   "cell_type": "markdown",
   "metadata": {},
   "source": [
    "Linear regression with one input feature chooses the *line* that \"best fits\" a scatterplot of the target variable against that input feature."
   ]
  },
  {
   "cell_type": "markdown",
   "metadata": {},
   "source": [
    "# Building a Linear Regression Models with scikit-learn"
   ]
  },
  {
   "cell_type": "markdown",
   "metadata": {},
   "source": [
    "scikit-learn is the most popular Python library for machine learning.\n",
    "\n",
    "**Strengths:**\n",
    "\n",
    "- Includes good implementations of a wide range of algorithms.\n",
    "- Interface is consistent across model types.\n",
    "- Documentation is excellent.\n",
    "- Large community --> tons of resources for learning and getting questions answered.\n",
    "\n",
    "**Limitations:**\n",
    "\n",
    "- Deep learning capabilites are very basic.\n",
    "- Reflects machine learning rather than statistics mindset: focuses on predictive accuracy on held-out data rather than hypothesis testing, parameter estimation, and model interpretation."
   ]
  },
  {
   "cell_type": "code",
   "execution_count": 23,
   "metadata": {
    "collapsed": true
   },
   "outputs": [],
   "source": [
    "# Import the LinearRegression model class\n",
    "from sklearn.linear_model import LinearRegression\n"
   ]
  },
  {
   "cell_type": "code",
   "execution_count": 25,
   "metadata": {},
   "outputs": [],
   "source": [
    "# Make an instance of the LinearRegression class.\n",
    "lr_temp = LinearRegression()"
   ]
  },
  {
   "cell_type": "code",
   "execution_count": 31,
   "metadata": {},
   "outputs": [],
   "source": [
    "# Train the model instance on our data, using just temp_celsius for now\n",
    "X = bikes.loc[:, ['temp_celsius']]\n",
    "y = bikes.loc[:, 'num_total_users']"
   ]
  },
  {
   "cell_type": "code",
   "execution_count": 32,
   "metadata": {},
   "outputs": [
    {
     "data": {
      "text/plain": [
       "LinearRegression(copy_X=True, fit_intercept=True, n_jobs=1, normalize=False)"
      ]
     },
     "execution_count": 32,
     "metadata": {},
     "output_type": "execute_result"
    }
   ],
   "source": [
    "# Add the fitted values to our DataFrame\n",
    "lr_temp.fit(X,y)"
   ]
  },
  {
   "cell_type": "code",
   "execution_count": 35,
   "metadata": {},
   "outputs": [
    {
     "data": {
      "text/plain": [
       "array([ 91.47518523,  83.84928678,  83.84928678, ...,  99.10108367,\n",
       "        99.10108367,  99.10108367])"
      ]
     },
     "execution_count": 35,
     "metadata": {},
     "output_type": "execute_result"
    }
   ],
   "source": [
    "# Compare fitted values to actual\n",
    "lr_temp.predict(X)"
   ]
  },
  {
   "cell_type": "code",
   "execution_count": null,
   "metadata": {},
   "outputs": [],
   "source": [
    "# Drop the fitted values from our DataFrame\n",
    "bikes['predictions'] = lr_temp.predict(X)\n",
    "bikes.predictions"
   ]
  },
  {
   "cell_type": "markdown",
   "metadata": {},
   "source": [
    "<a id=\"scikit-learns--step-modeling-pattern\"></a>\n",
    "### scikit-learn's Four-Step Modeling Pattern"
   ]
  },
  {
   "cell_type": "markdown",
   "metadata": {},
   "source": [
    "1. Import the class you plan to use.\n",
    "2. \"Instantiate\" the class. You can specify \"hyperparameters\" at this point.\n",
    "3. Fit the model instance with data. (This step changes the model object in-place.)\n",
    "4. Use the fitted model to make predictions."
   ]
  },
  {
   "cell_type": "markdown",
   "metadata": {},
   "source": [
    "### Exercise"
   ]
  },
  {
   "cell_type": "markdown",
   "metadata": {},
   "source": [
    "Build another linear regression model, this time using all of our features as inputs instead of just `temp_celsius`."
   ]
  },
  {
   "cell_type": "markdown",
   "metadata": {},
   "source": [
    "- Store a pandas DataFrame with the values of the feature variables (everything except `num_casual_users`, and `num_total_users`) as a Python variable X."
   ]
  },
  {
   "cell_type": "code",
   "execution_count": 111,
   "metadata": {},
   "outputs": [
    {
     "ename": "TypeError",
     "evalue": "'method' object is not subscriptable",
     "output_type": "error",
     "traceback": [
      "\u001b[0;31m---------------------------------------------------------------------------\u001b[0m",
      "\u001b[0;31mTypeError\u001b[0m                                 Traceback (most recent call last)",
      "\u001b[0;32m<ipython-input-111-b9ad78b43f36>\u001b[0m in \u001b[0;36m<module>\u001b[0;34m()\u001b[0m\n\u001b[1;32m      1\u001b[0m \u001b[0;31m# bikes.drop('predictions', inplace=True)\u001b[0m\u001b[0;34m\u001b[0m\u001b[0;34m\u001b[0m\u001b[0m\n\u001b[0;32m----> 2\u001b[0;31m \u001b[0mbikes\u001b[0m\u001b[0;34m.\u001b[0m\u001b[0mdrop\u001b[0m\u001b[0;34m[\u001b[0m\u001b[0;34m:\u001b[0m\u001b[0;34m,\u001b[0m\u001b[0;34m'predictions'\u001b[0m\u001b[0;34m]\u001b[0m\u001b[0;34m\u001b[0m\u001b[0m\n\u001b[0m",
      "\u001b[0;31mTypeError\u001b[0m: 'method' object is not subscriptable"
     ]
    }
   ],
   "source": [
    "# bikes.drop('predictions', inplace=True)\n",
    "bikes.drop[:,'predictions']"
   ]
  },
  {
   "cell_type": "code",
   "execution_count": 112,
   "metadata": {},
   "outputs": [
    {
     "name": "stderr",
     "output_type": "stream",
     "text": [
      "/home/david/Apps/Dev/Conda3/lib/python3.6/site-packages/ipykernel_launcher.py:2: SettingWithCopyWarning: \n",
      "A value is trying to be set on a copy of a slice from a DataFrame\n",
      "\n",
      "See the caveats in the documentation: http://pandas.pydata.org/pandas-docs/stable/indexing.html#indexing-view-versus-copy\n",
      "  \n"
     ]
    }
   ],
   "source": [
    "X = bikes.iloc[:, :-1]\n",
    "X.drop(['num_casual_users', 'num_registered_users'], axis=1, inplace=True)\n",
    "y = bikes.loc[:, 'num_total_users']"
   ]
  },
  {
   "cell_type": "code",
   "execution_count": 90,
   "metadata": {},
   "outputs": [
    {
     "data": {
      "text/html": [
       "<div>\n",
       "<style>\n",
       "    .dataframe thead tr:only-child th {\n",
       "        text-align: right;\n",
       "    }\n",
       "\n",
       "    .dataframe thead th {\n",
       "        text-align: left;\n",
       "    }\n",
       "\n",
       "    .dataframe tbody tr th {\n",
       "        vertical-align: top;\n",
       "    }\n",
       "</style>\n",
       "<table border=\"1\" class=\"dataframe\">\n",
       "  <thead>\n",
       "    <tr style=\"text-align: right;\">\n",
       "      <th></th>\n",
       "      <th>season_num</th>\n",
       "      <th>is_holiday</th>\n",
       "      <th>is_workingday</th>\n",
       "      <th>weather</th>\n",
       "      <th>temp_celsius</th>\n",
       "      <th>atemp</th>\n",
       "      <th>humidity_percent</th>\n",
       "      <th>windspeed_knots</th>\n",
       "      <th>num_total_users</th>\n",
       "    </tr>\n",
       "    <tr>\n",
       "      <th>datetime</th>\n",
       "      <th></th>\n",
       "      <th></th>\n",
       "      <th></th>\n",
       "      <th></th>\n",
       "      <th></th>\n",
       "      <th></th>\n",
       "      <th></th>\n",
       "      <th></th>\n",
       "      <th></th>\n",
       "    </tr>\n",
       "  </thead>\n",
       "  <tbody>\n",
       "    <tr>\n",
       "      <th>2011-01-01 00:00:00</th>\n",
       "      <td>1</td>\n",
       "      <td>0</td>\n",
       "      <td>0</td>\n",
       "      <td>1</td>\n",
       "      <td>3.28</td>\n",
       "      <td>3.0014</td>\n",
       "      <td>81</td>\n",
       "      <td>0</td>\n",
       "      <td>16</td>\n",
       "    </tr>\n",
       "    <tr>\n",
       "      <th>2011-01-01 01:00:00</th>\n",
       "      <td>1</td>\n",
       "      <td>0</td>\n",
       "      <td>0</td>\n",
       "      <td>1</td>\n",
       "      <td>2.34</td>\n",
       "      <td>1.9982</td>\n",
       "      <td>80</td>\n",
       "      <td>0</td>\n",
       "      <td>40</td>\n",
       "    </tr>\n",
       "    <tr>\n",
       "      <th>2011-01-01 02:00:00</th>\n",
       "      <td>1</td>\n",
       "      <td>0</td>\n",
       "      <td>0</td>\n",
       "      <td>1</td>\n",
       "      <td>2.34</td>\n",
       "      <td>1.9982</td>\n",
       "      <td>80</td>\n",
       "      <td>0</td>\n",
       "      <td>32</td>\n",
       "    </tr>\n",
       "    <tr>\n",
       "      <th>2011-01-01 03:00:00</th>\n",
       "      <td>1</td>\n",
       "      <td>0</td>\n",
       "      <td>0</td>\n",
       "      <td>1</td>\n",
       "      <td>3.28</td>\n",
       "      <td>3.0014</td>\n",
       "      <td>75</td>\n",
       "      <td>0</td>\n",
       "      <td>13</td>\n",
       "    </tr>\n",
       "    <tr>\n",
       "      <th>2011-01-01 04:00:00</th>\n",
       "      <td>1</td>\n",
       "      <td>0</td>\n",
       "      <td>0</td>\n",
       "      <td>1</td>\n",
       "      <td>3.28</td>\n",
       "      <td>3.0014</td>\n",
       "      <td>75</td>\n",
       "      <td>0</td>\n",
       "      <td>1</td>\n",
       "    </tr>\n",
       "    <tr>\n",
       "      <th>2011-01-01 05:00:00</th>\n",
       "      <td>1</td>\n",
       "      <td>0</td>\n",
       "      <td>0</td>\n",
       "      <td>2</td>\n",
       "      <td>3.28</td>\n",
       "      <td>1.0016</td>\n",
       "      <td>75</td>\n",
       "      <td>0.0896</td>\n",
       "      <td>1</td>\n",
       "    </tr>\n",
       "    <tr>\n",
       "      <th>2011-01-01 06:00:00</th>\n",
       "      <td>1</td>\n",
       "      <td>0</td>\n",
       "      <td>0</td>\n",
       "      <td>1</td>\n",
       "      <td>2.34</td>\n",
       "      <td>1.9982</td>\n",
       "      <td>80</td>\n",
       "      <td>0</td>\n",
       "      <td>2</td>\n",
       "    </tr>\n",
       "    <tr>\n",
       "      <th>2011-01-01 07:00:00</th>\n",
       "      <td>1</td>\n",
       "      <td>0</td>\n",
       "      <td>0</td>\n",
       "      <td>1</td>\n",
       "      <td>1.4</td>\n",
       "      <td>1.0016</td>\n",
       "      <td>86</td>\n",
       "      <td>0</td>\n",
       "      <td>3</td>\n",
       "    </tr>\n",
       "    <tr>\n",
       "      <th>2011-01-01 08:00:00</th>\n",
       "      <td>1</td>\n",
       "      <td>0</td>\n",
       "      <td>0</td>\n",
       "      <td>1</td>\n",
       "      <td>3.28</td>\n",
       "      <td>3.0014</td>\n",
       "      <td>75</td>\n",
       "      <td>0</td>\n",
       "      <td>8</td>\n",
       "    </tr>\n",
       "    <tr>\n",
       "      <th>2011-01-01 09:00:00</th>\n",
       "      <td>1</td>\n",
       "      <td>0</td>\n",
       "      <td>0</td>\n",
       "      <td>1</td>\n",
       "      <td>7.04</td>\n",
       "      <td>7.001</td>\n",
       "      <td>76</td>\n",
       "      <td>0</td>\n",
       "      <td>14</td>\n",
       "    </tr>\n",
       "    <tr>\n",
       "      <th>2011-01-01 10:00:00</th>\n",
       "      <td>1</td>\n",
       "      <td>0</td>\n",
       "      <td>0</td>\n",
       "      <td>1</td>\n",
       "      <td>9.86</td>\n",
       "      <td>9.9974</td>\n",
       "      <td>76</td>\n",
       "      <td>0.2537</td>\n",
       "      <td>36</td>\n",
       "    </tr>\n",
       "    <tr>\n",
       "      <th>2011-01-01 11:00:00</th>\n",
       "      <td>1</td>\n",
       "      <td>0</td>\n",
       "      <td>0</td>\n",
       "      <td>1</td>\n",
       "      <td>8.92</td>\n",
       "      <td>5.9978</td>\n",
       "      <td>81</td>\n",
       "      <td>0.2836</td>\n",
       "      <td>56</td>\n",
       "    </tr>\n",
       "    <tr>\n",
       "      <th>2011-01-01 12:00:00</th>\n",
       "      <td>1</td>\n",
       "      <td>0</td>\n",
       "      <td>0</td>\n",
       "      <td>1</td>\n",
       "      <td>11.74</td>\n",
       "      <td>11.9972</td>\n",
       "      <td>77</td>\n",
       "      <td>0.2836</td>\n",
       "      <td>84</td>\n",
       "    </tr>\n",
       "    <tr>\n",
       "      <th>2011-01-01 13:00:00</th>\n",
       "      <td>1</td>\n",
       "      <td>0</td>\n",
       "      <td>0</td>\n",
       "      <td>2</td>\n",
       "      <td>13.62</td>\n",
       "      <td>13.997</td>\n",
       "      <td>72</td>\n",
       "      <td>0.2985</td>\n",
       "      <td>94</td>\n",
       "    </tr>\n",
       "    <tr>\n",
       "      <th>2011-01-01 14:00:00</th>\n",
       "      <td>1</td>\n",
       "      <td>0</td>\n",
       "      <td>0</td>\n",
       "      <td>2</td>\n",
       "      <td>13.62</td>\n",
       "      <td>13.997</td>\n",
       "      <td>72</td>\n",
       "      <td>0.2836</td>\n",
       "      <td>106</td>\n",
       "    </tr>\n",
       "    <tr>\n",
       "      <th>2011-01-01 15:00:00</th>\n",
       "      <td>1</td>\n",
       "      <td>0</td>\n",
       "      <td>0</td>\n",
       "      <td>2</td>\n",
       "      <td>12.68</td>\n",
       "      <td>13.0004</td>\n",
       "      <td>77</td>\n",
       "      <td>0.2985</td>\n",
       "      <td>110</td>\n",
       "    </tr>\n",
       "    <tr>\n",
       "      <th>2011-01-01 16:00:00</th>\n",
       "      <td>1</td>\n",
       "      <td>0</td>\n",
       "      <td>0</td>\n",
       "      <td>2</td>\n",
       "      <td>11.74</td>\n",
       "      <td>11.9972</td>\n",
       "      <td>82</td>\n",
       "      <td>0.2985</td>\n",
       "      <td>93</td>\n",
       "    </tr>\n",
       "    <tr>\n",
       "      <th>2011-01-01 17:00:00</th>\n",
       "      <td>1</td>\n",
       "      <td>0</td>\n",
       "      <td>0</td>\n",
       "      <td>2</td>\n",
       "      <td>12.68</td>\n",
       "      <td>13.0004</td>\n",
       "      <td>82</td>\n",
       "      <td>0.2836</td>\n",
       "      <td>67</td>\n",
       "    </tr>\n",
       "    <tr>\n",
       "      <th>2011-01-01 18:00:00</th>\n",
       "      <td>1</td>\n",
       "      <td>0</td>\n",
       "      <td>0</td>\n",
       "      <td>3</td>\n",
       "      <td>11.74</td>\n",
       "      <td>11.9972</td>\n",
       "      <td>88</td>\n",
       "      <td>0.2537</td>\n",
       "      <td>35</td>\n",
       "    </tr>\n",
       "    <tr>\n",
       "      <th>2011-01-01 19:00:00</th>\n",
       "      <td>1</td>\n",
       "      <td>0</td>\n",
       "      <td>0</td>\n",
       "      <td>3</td>\n",
       "      <td>11.74</td>\n",
       "      <td>11.9972</td>\n",
       "      <td>88</td>\n",
       "      <td>0.2537</td>\n",
       "      <td>37</td>\n",
       "    </tr>\n",
       "    <tr>\n",
       "      <th>2011-01-01 20:00:00</th>\n",
       "      <td>1</td>\n",
       "      <td>0</td>\n",
       "      <td>0</td>\n",
       "      <td>2</td>\n",
       "      <td>10.8</td>\n",
       "      <td>11.0006</td>\n",
       "      <td>87</td>\n",
       "      <td>0.2537</td>\n",
       "      <td>36</td>\n",
       "    </tr>\n",
       "    <tr>\n",
       "      <th>2011-01-01 21:00:00</th>\n",
       "      <td>1</td>\n",
       "      <td>0</td>\n",
       "      <td>0</td>\n",
       "      <td>2</td>\n",
       "      <td>10.8</td>\n",
       "      <td>11.0006</td>\n",
       "      <td>87</td>\n",
       "      <td>0.194</td>\n",
       "      <td>34</td>\n",
       "    </tr>\n",
       "    <tr>\n",
       "      <th>2011-01-01 22:00:00</th>\n",
       "      <td>1</td>\n",
       "      <td>0</td>\n",
       "      <td>0</td>\n",
       "      <td>2</td>\n",
       "      <td>10.8</td>\n",
       "      <td>11.0006</td>\n",
       "      <td>94</td>\n",
       "      <td>0.2239</td>\n",
       "      <td>28</td>\n",
       "    </tr>\n",
       "    <tr>\n",
       "      <th>2011-01-01 23:00:00</th>\n",
       "      <td>1</td>\n",
       "      <td>0</td>\n",
       "      <td>0</td>\n",
       "      <td>2</td>\n",
       "      <td>13.62</td>\n",
       "      <td>13.997</td>\n",
       "      <td>88</td>\n",
       "      <td>0.2985</td>\n",
       "      <td>39</td>\n",
       "    </tr>\n",
       "    <tr>\n",
       "      <th>2011-01-02 00:00:00</th>\n",
       "      <td>1</td>\n",
       "      <td>0</td>\n",
       "      <td>0</td>\n",
       "      <td>2</td>\n",
       "      <td>13.62</td>\n",
       "      <td>13.997</td>\n",
       "      <td>88</td>\n",
       "      <td>0.2985</td>\n",
       "      <td>17</td>\n",
       "    </tr>\n",
       "    <tr>\n",
       "      <th>2011-01-02 01:00:00</th>\n",
       "      <td>1</td>\n",
       "      <td>0</td>\n",
       "      <td>0</td>\n",
       "      <td>2</td>\n",
       "      <td>12.68</td>\n",
       "      <td>13.0004</td>\n",
       "      <td>94</td>\n",
       "      <td>0.2537</td>\n",
       "      <td>17</td>\n",
       "    </tr>\n",
       "    <tr>\n",
       "      <th>2011-01-02 02:00:00</th>\n",
       "      <td>1</td>\n",
       "      <td>0</td>\n",
       "      <td>0</td>\n",
       "      <td>2</td>\n",
       "      <td>11.74</td>\n",
       "      <td>11.9972</td>\n",
       "      <td>100</td>\n",
       "      <td>0.2836</td>\n",
       "      <td>9</td>\n",
       "    </tr>\n",
       "    <tr>\n",
       "      <th>2011-01-02 03:00:00</th>\n",
       "      <td>1</td>\n",
       "      <td>0</td>\n",
       "      <td>0</td>\n",
       "      <td>2</td>\n",
       "      <td>13.62</td>\n",
       "      <td>13.997</td>\n",
       "      <td>94</td>\n",
       "      <td>0.194</td>\n",
       "      <td>6</td>\n",
       "    </tr>\n",
       "    <tr>\n",
       "      <th>2011-01-02 04:00:00</th>\n",
       "      <td>1</td>\n",
       "      <td>0</td>\n",
       "      <td>0</td>\n",
       "      <td>2</td>\n",
       "      <td>13.62</td>\n",
       "      <td>13.997</td>\n",
       "      <td>94</td>\n",
       "      <td>0.194</td>\n",
       "      <td>3</td>\n",
       "    </tr>\n",
       "    <tr>\n",
       "      <th>2011-01-02 06:00:00</th>\n",
       "      <td>1</td>\n",
       "      <td>0</td>\n",
       "      <td>0</td>\n",
       "      <td>3</td>\n",
       "      <td>11.74</td>\n",
       "      <td>11.9972</td>\n",
       "      <td>77</td>\n",
       "      <td>0.2985</td>\n",
       "      <td>2</td>\n",
       "    </tr>\n",
       "    <tr>\n",
       "      <th>...</th>\n",
       "      <td>...</td>\n",
       "      <td>...</td>\n",
       "      <td>...</td>\n",
       "      <td>...</td>\n",
       "      <td>...</td>\n",
       "      <td>...</td>\n",
       "      <td>...</td>\n",
       "      <td>...</td>\n",
       "      <td>...</td>\n",
       "    </tr>\n",
       "    <tr>\n",
       "      <th>2012-12-30 19:00:00</th>\n",
       "      <td>1</td>\n",
       "      <td>0</td>\n",
       "      <td>0</td>\n",
       "      <td>1</td>\n",
       "      <td>7.98</td>\n",
       "      <td>7.9976</td>\n",
       "      <td>61</td>\n",
       "      <td>0</td>\n",
       "      <td>102</td>\n",
       "    </tr>\n",
       "    <tr>\n",
       "      <th>2012-12-30 20:00:00</th>\n",
       "      <td>1</td>\n",
       "      <td>0</td>\n",
       "      <td>0</td>\n",
       "      <td>1</td>\n",
       "      <td>2.34</td>\n",
       "      <td>-2.998</td>\n",
       "      <td>47</td>\n",
       "      <td>0.3284</td>\n",
       "      <td>72</td>\n",
       "    </tr>\n",
       "    <tr>\n",
       "      <th>2012-12-30 21:00:00</th>\n",
       "      <td>1</td>\n",
       "      <td>0</td>\n",
       "      <td>0</td>\n",
       "      <td>1</td>\n",
       "      <td>1.4</td>\n",
       "      <td>-2.0014</td>\n",
       "      <td>51</td>\n",
       "      <td>0.1642</td>\n",
       "      <td>47</td>\n",
       "    </tr>\n",
       "    <tr>\n",
       "      <th>2012-12-30 22:00:00</th>\n",
       "      <td>1</td>\n",
       "      <td>0</td>\n",
       "      <td>0</td>\n",
       "      <td>1</td>\n",
       "      <td>1.4</td>\n",
       "      <td>-2.998</td>\n",
       "      <td>55</td>\n",
       "      <td>0.194</td>\n",
       "      <td>36</td>\n",
       "    </tr>\n",
       "    <tr>\n",
       "      <th>2012-12-30 23:00:00</th>\n",
       "      <td>1</td>\n",
       "      <td>0</td>\n",
       "      <td>0</td>\n",
       "      <td>1</td>\n",
       "      <td>1.4</td>\n",
       "      <td>-2.998</td>\n",
       "      <td>51</td>\n",
       "      <td>0.2239</td>\n",
       "      <td>49</td>\n",
       "    </tr>\n",
       "    <tr>\n",
       "      <th>2012-12-31 00:00:00</th>\n",
       "      <td>1</td>\n",
       "      <td>0</td>\n",
       "      <td>1</td>\n",
       "      <td>1</td>\n",
       "      <td>0.46</td>\n",
       "      <td>-4.0012</td>\n",
       "      <td>55</td>\n",
       "      <td>0.194</td>\n",
       "      <td>34</td>\n",
       "    </tr>\n",
       "    <tr>\n",
       "      <th>2012-12-31 01:00:00</th>\n",
       "      <td>1</td>\n",
       "      <td>0</td>\n",
       "      <td>1</td>\n",
       "      <td>1</td>\n",
       "      <td>0.46</td>\n",
       "      <td>-4.0012</td>\n",
       "      <td>55</td>\n",
       "      <td>0.194</td>\n",
       "      <td>19</td>\n",
       "    </tr>\n",
       "    <tr>\n",
       "      <th>2012-12-31 02:00:00</th>\n",
       "      <td>1</td>\n",
       "      <td>0</td>\n",
       "      <td>1</td>\n",
       "      <td>1</td>\n",
       "      <td>-0.48</td>\n",
       "      <td>-4.9978</td>\n",
       "      <td>59</td>\n",
       "      <td>0.1642</td>\n",
       "      <td>11</td>\n",
       "    </tr>\n",
       "    <tr>\n",
       "      <th>2012-12-31 03:00:00</th>\n",
       "      <td>1</td>\n",
       "      <td>0</td>\n",
       "      <td>1</td>\n",
       "      <td>1</td>\n",
       "      <td>-0.48</td>\n",
       "      <td>-4.0012</td>\n",
       "      <td>59</td>\n",
       "      <td>0.1045</td>\n",
       "      <td>1</td>\n",
       "    </tr>\n",
       "    <tr>\n",
       "      <th>2012-12-31 04:00:00</th>\n",
       "      <td>1</td>\n",
       "      <td>0</td>\n",
       "      <td>1</td>\n",
       "      <td>1</td>\n",
       "      <td>-1.42</td>\n",
       "      <td>-4.9978</td>\n",
       "      <td>69</td>\n",
       "      <td>0.1045</td>\n",
       "      <td>3</td>\n",
       "    </tr>\n",
       "    <tr>\n",
       "      <th>2012-12-31 05:00:00</th>\n",
       "      <td>1</td>\n",
       "      <td>0</td>\n",
       "      <td>1</td>\n",
       "      <td>1</td>\n",
       "      <td>-0.48</td>\n",
       "      <td>-6.001</td>\n",
       "      <td>64</td>\n",
       "      <td>0.194</td>\n",
       "      <td>9</td>\n",
       "    </tr>\n",
       "    <tr>\n",
       "      <th>2012-12-31 06:00:00</th>\n",
       "      <td>1</td>\n",
       "      <td>0</td>\n",
       "      <td>1</td>\n",
       "      <td>1</td>\n",
       "      <td>-0.48</td>\n",
       "      <td>-4.9978</td>\n",
       "      <td>64</td>\n",
       "      <td>0.1642</td>\n",
       "      <td>40</td>\n",
       "    </tr>\n",
       "    <tr>\n",
       "      <th>2012-12-31 07:00:00</th>\n",
       "      <td>1</td>\n",
       "      <td>0</td>\n",
       "      <td>1</td>\n",
       "      <td>1</td>\n",
       "      <td>-0.48</td>\n",
       "      <td>-4.0012</td>\n",
       "      <td>64</td>\n",
       "      <td>0.1343</td>\n",
       "      <td>85</td>\n",
       "    </tr>\n",
       "    <tr>\n",
       "      <th>2012-12-31 08:00:00</th>\n",
       "      <td>1</td>\n",
       "      <td>0</td>\n",
       "      <td>1</td>\n",
       "      <td>1</td>\n",
       "      <td>-1.42</td>\n",
       "      <td>-6.001</td>\n",
       "      <td>69</td>\n",
       "      <td>0.1343</td>\n",
       "      <td>196</td>\n",
       "    </tr>\n",
       "    <tr>\n",
       "      <th>2012-12-31 09:00:00</th>\n",
       "      <td>1</td>\n",
       "      <td>0</td>\n",
       "      <td>1</td>\n",
       "      <td>2</td>\n",
       "      <td>0.46</td>\n",
       "      <td>-2.0014</td>\n",
       "      <td>64</td>\n",
       "      <td>0.1045</td>\n",
       "      <td>157</td>\n",
       "    </tr>\n",
       "    <tr>\n",
       "      <th>2012-12-31 10:00:00</th>\n",
       "      <td>1</td>\n",
       "      <td>0</td>\n",
       "      <td>1</td>\n",
       "      <td>2</td>\n",
       "      <td>1.4</td>\n",
       "      <td>-2.0014</td>\n",
       "      <td>69</td>\n",
       "      <td>0.1343</td>\n",
       "      <td>120</td>\n",
       "    </tr>\n",
       "    <tr>\n",
       "      <th>2012-12-31 11:00:00</th>\n",
       "      <td>1</td>\n",
       "      <td>0</td>\n",
       "      <td>1</td>\n",
       "      <td>2</td>\n",
       "      <td>2.34</td>\n",
       "      <td>-0.9982</td>\n",
       "      <td>60</td>\n",
       "      <td>0.194</td>\n",
       "      <td>157</td>\n",
       "    </tr>\n",
       "    <tr>\n",
       "      <th>2012-12-31 12:00:00</th>\n",
       "      <td>1</td>\n",
       "      <td>0</td>\n",
       "      <td>1</td>\n",
       "      <td>2</td>\n",
       "      <td>3.28</td>\n",
       "      <td>-0.9982</td>\n",
       "      <td>56</td>\n",
       "      <td>0.194</td>\n",
       "      <td>224</td>\n",
       "    </tr>\n",
       "    <tr>\n",
       "      <th>2012-12-31 13:00:00</th>\n",
       "      <td>1</td>\n",
       "      <td>0</td>\n",
       "      <td>1</td>\n",
       "      <td>2</td>\n",
       "      <td>4.22</td>\n",
       "      <td>1.0016</td>\n",
       "      <td>44</td>\n",
       "      <td>0.1642</td>\n",
       "      <td>203</td>\n",
       "    </tr>\n",
       "    <tr>\n",
       "      <th>2012-12-31 14:00:00</th>\n",
       "      <td>1</td>\n",
       "      <td>0</td>\n",
       "      <td>1</td>\n",
       "      <td>2</td>\n",
       "      <td>5.16</td>\n",
       "      <td>1.9982</td>\n",
       "      <td>45</td>\n",
       "      <td>0.2239</td>\n",
       "      <td>247</td>\n",
       "    </tr>\n",
       "    <tr>\n",
       "      <th>2012-12-31 15:00:00</th>\n",
       "      <td>1</td>\n",
       "      <td>0</td>\n",
       "      <td>1</td>\n",
       "      <td>2</td>\n",
       "      <td>5.16</td>\n",
       "      <td>3.0014</td>\n",
       "      <td>45</td>\n",
       "      <td>0.1343</td>\n",
       "      <td>315</td>\n",
       "    </tr>\n",
       "    <tr>\n",
       "      <th>2012-12-31 16:00:00</th>\n",
       "      <td>1</td>\n",
       "      <td>0</td>\n",
       "      <td>1</td>\n",
       "      <td>2</td>\n",
       "      <td>4.22</td>\n",
       "      <td>1.0016</td>\n",
       "      <td>48</td>\n",
       "      <td>0.194</td>\n",
       "      <td>214</td>\n",
       "    </tr>\n",
       "    <tr>\n",
       "      <th>2012-12-31 17:00:00</th>\n",
       "      <td>1</td>\n",
       "      <td>0</td>\n",
       "      <td>1</td>\n",
       "      <td>2</td>\n",
       "      <td>4.22</td>\n",
       "      <td>3.0014</td>\n",
       "      <td>48</td>\n",
       "      <td>0.0896</td>\n",
       "      <td>164</td>\n",
       "    </tr>\n",
       "    <tr>\n",
       "      <th>2012-12-31 18:00:00</th>\n",
       "      <td>1</td>\n",
       "      <td>0</td>\n",
       "      <td>1</td>\n",
       "      <td>2</td>\n",
       "      <td>4.22</td>\n",
       "      <td>1.9982</td>\n",
       "      <td>48</td>\n",
       "      <td>0.1343</td>\n",
       "      <td>122</td>\n",
       "    </tr>\n",
       "    <tr>\n",
       "      <th>2012-12-31 19:00:00</th>\n",
       "      <td>1</td>\n",
       "      <td>0</td>\n",
       "      <td>1</td>\n",
       "      <td>2</td>\n",
       "      <td>4.22</td>\n",
       "      <td>1.0016</td>\n",
       "      <td>60</td>\n",
       "      <td>0.1642</td>\n",
       "      <td>119</td>\n",
       "    </tr>\n",
       "    <tr>\n",
       "      <th>2012-12-31 20:00:00</th>\n",
       "      <td>1</td>\n",
       "      <td>0</td>\n",
       "      <td>1</td>\n",
       "      <td>2</td>\n",
       "      <td>4.22</td>\n",
       "      <td>1.0016</td>\n",
       "      <td>60</td>\n",
       "      <td>0.1642</td>\n",
       "      <td>89</td>\n",
       "    </tr>\n",
       "    <tr>\n",
       "      <th>2012-12-31 21:00:00</th>\n",
       "      <td>1</td>\n",
       "      <td>0</td>\n",
       "      <td>1</td>\n",
       "      <td>1</td>\n",
       "      <td>4.22</td>\n",
       "      <td>1.0016</td>\n",
       "      <td>60</td>\n",
       "      <td>0.1642</td>\n",
       "      <td>90</td>\n",
       "    </tr>\n",
       "    <tr>\n",
       "      <th>2012-12-31 22:00:00</th>\n",
       "      <td>1</td>\n",
       "      <td>0</td>\n",
       "      <td>1</td>\n",
       "      <td>1</td>\n",
       "      <td>4.22</td>\n",
       "      <td>1.9982</td>\n",
       "      <td>56</td>\n",
       "      <td>0.1343</td>\n",
       "      <td>61</td>\n",
       "    </tr>\n",
       "    <tr>\n",
       "      <th>2012-12-31 23:00:00</th>\n",
       "      <td>1</td>\n",
       "      <td>0</td>\n",
       "      <td>1</td>\n",
       "      <td>1</td>\n",
       "      <td>4.22</td>\n",
       "      <td>1.9982</td>\n",
       "      <td>65</td>\n",
       "      <td>0.1343</td>\n",
       "      <td>49</td>\n",
       "    </tr>\n",
       "    <tr>\n",
       "      <th>predictions</th>\n",
       "      <td>LinearRegression(copy_X=True, fit_intercept=Tr...</td>\n",
       "      <td>LinearRegression(copy_X=True, fit_intercept=Tr...</td>\n",
       "      <td>LinearRegression(copy_X=True, fit_intercept=Tr...</td>\n",
       "      <td>LinearRegression(copy_X=True, fit_intercept=Tr...</td>\n",
       "      <td>LinearRegression(copy_X=True, fit_intercept=Tr...</td>\n",
       "      <td>LinearRegression(copy_X=True, fit_intercept=Tr...</td>\n",
       "      <td>LinearRegression(copy_X=True, fit_intercept=Tr...</td>\n",
       "      <td>LinearRegression(copy_X=True, fit_intercept=Tr...</td>\n",
       "      <td>LinearRegression(copy_X=True, fit_intercept=Tr...</td>\n",
       "    </tr>\n",
       "  </tbody>\n",
       "</table>\n",
       "<p>17380 rows × 9 columns</p>\n",
       "</div>"
      ],
      "text/plain": [
       "                                                            season_num  \\\n",
       "datetime                                                                 \n",
       "2011-01-01 00:00:00                                                  1   \n",
       "2011-01-01 01:00:00                                                  1   \n",
       "2011-01-01 02:00:00                                                  1   \n",
       "2011-01-01 03:00:00                                                  1   \n",
       "2011-01-01 04:00:00                                                  1   \n",
       "2011-01-01 05:00:00                                                  1   \n",
       "2011-01-01 06:00:00                                                  1   \n",
       "2011-01-01 07:00:00                                                  1   \n",
       "2011-01-01 08:00:00                                                  1   \n",
       "2011-01-01 09:00:00                                                  1   \n",
       "2011-01-01 10:00:00                                                  1   \n",
       "2011-01-01 11:00:00                                                  1   \n",
       "2011-01-01 12:00:00                                                  1   \n",
       "2011-01-01 13:00:00                                                  1   \n",
       "2011-01-01 14:00:00                                                  1   \n",
       "2011-01-01 15:00:00                                                  1   \n",
       "2011-01-01 16:00:00                                                  1   \n",
       "2011-01-01 17:00:00                                                  1   \n",
       "2011-01-01 18:00:00                                                  1   \n",
       "2011-01-01 19:00:00                                                  1   \n",
       "2011-01-01 20:00:00                                                  1   \n",
       "2011-01-01 21:00:00                                                  1   \n",
       "2011-01-01 22:00:00                                                  1   \n",
       "2011-01-01 23:00:00                                                  1   \n",
       "2011-01-02 00:00:00                                                  1   \n",
       "2011-01-02 01:00:00                                                  1   \n",
       "2011-01-02 02:00:00                                                  1   \n",
       "2011-01-02 03:00:00                                                  1   \n",
       "2011-01-02 04:00:00                                                  1   \n",
       "2011-01-02 06:00:00                                                  1   \n",
       "...                                                                ...   \n",
       "2012-12-30 19:00:00                                                  1   \n",
       "2012-12-30 20:00:00                                                  1   \n",
       "2012-12-30 21:00:00                                                  1   \n",
       "2012-12-30 22:00:00                                                  1   \n",
       "2012-12-30 23:00:00                                                  1   \n",
       "2012-12-31 00:00:00                                                  1   \n",
       "2012-12-31 01:00:00                                                  1   \n",
       "2012-12-31 02:00:00                                                  1   \n",
       "2012-12-31 03:00:00                                                  1   \n",
       "2012-12-31 04:00:00                                                  1   \n",
       "2012-12-31 05:00:00                                                  1   \n",
       "2012-12-31 06:00:00                                                  1   \n",
       "2012-12-31 07:00:00                                                  1   \n",
       "2012-12-31 08:00:00                                                  1   \n",
       "2012-12-31 09:00:00                                                  1   \n",
       "2012-12-31 10:00:00                                                  1   \n",
       "2012-12-31 11:00:00                                                  1   \n",
       "2012-12-31 12:00:00                                                  1   \n",
       "2012-12-31 13:00:00                                                  1   \n",
       "2012-12-31 14:00:00                                                  1   \n",
       "2012-12-31 15:00:00                                                  1   \n",
       "2012-12-31 16:00:00                                                  1   \n",
       "2012-12-31 17:00:00                                                  1   \n",
       "2012-12-31 18:00:00                                                  1   \n",
       "2012-12-31 19:00:00                                                  1   \n",
       "2012-12-31 20:00:00                                                  1   \n",
       "2012-12-31 21:00:00                                                  1   \n",
       "2012-12-31 22:00:00                                                  1   \n",
       "2012-12-31 23:00:00                                                  1   \n",
       "predictions          LinearRegression(copy_X=True, fit_intercept=Tr...   \n",
       "\n",
       "                                                            is_holiday  \\\n",
       "datetime                                                                 \n",
       "2011-01-01 00:00:00                                                  0   \n",
       "2011-01-01 01:00:00                                                  0   \n",
       "2011-01-01 02:00:00                                                  0   \n",
       "2011-01-01 03:00:00                                                  0   \n",
       "2011-01-01 04:00:00                                                  0   \n",
       "2011-01-01 05:00:00                                                  0   \n",
       "2011-01-01 06:00:00                                                  0   \n",
       "2011-01-01 07:00:00                                                  0   \n",
       "2011-01-01 08:00:00                                                  0   \n",
       "2011-01-01 09:00:00                                                  0   \n",
       "2011-01-01 10:00:00                                                  0   \n",
       "2011-01-01 11:00:00                                                  0   \n",
       "2011-01-01 12:00:00                                                  0   \n",
       "2011-01-01 13:00:00                                                  0   \n",
       "2011-01-01 14:00:00                                                  0   \n",
       "2011-01-01 15:00:00                                                  0   \n",
       "2011-01-01 16:00:00                                                  0   \n",
       "2011-01-01 17:00:00                                                  0   \n",
       "2011-01-01 18:00:00                                                  0   \n",
       "2011-01-01 19:00:00                                                  0   \n",
       "2011-01-01 20:00:00                                                  0   \n",
       "2011-01-01 21:00:00                                                  0   \n",
       "2011-01-01 22:00:00                                                  0   \n",
       "2011-01-01 23:00:00                                                  0   \n",
       "2011-01-02 00:00:00                                                  0   \n",
       "2011-01-02 01:00:00                                                  0   \n",
       "2011-01-02 02:00:00                                                  0   \n",
       "2011-01-02 03:00:00                                                  0   \n",
       "2011-01-02 04:00:00                                                  0   \n",
       "2011-01-02 06:00:00                                                  0   \n",
       "...                                                                ...   \n",
       "2012-12-30 19:00:00                                                  0   \n",
       "2012-12-30 20:00:00                                                  0   \n",
       "2012-12-30 21:00:00                                                  0   \n",
       "2012-12-30 22:00:00                                                  0   \n",
       "2012-12-30 23:00:00                                                  0   \n",
       "2012-12-31 00:00:00                                                  0   \n",
       "2012-12-31 01:00:00                                                  0   \n",
       "2012-12-31 02:00:00                                                  0   \n",
       "2012-12-31 03:00:00                                                  0   \n",
       "2012-12-31 04:00:00                                                  0   \n",
       "2012-12-31 05:00:00                                                  0   \n",
       "2012-12-31 06:00:00                                                  0   \n",
       "2012-12-31 07:00:00                                                  0   \n",
       "2012-12-31 08:00:00                                                  0   \n",
       "2012-12-31 09:00:00                                                  0   \n",
       "2012-12-31 10:00:00                                                  0   \n",
       "2012-12-31 11:00:00                                                  0   \n",
       "2012-12-31 12:00:00                                                  0   \n",
       "2012-12-31 13:00:00                                                  0   \n",
       "2012-12-31 14:00:00                                                  0   \n",
       "2012-12-31 15:00:00                                                  0   \n",
       "2012-12-31 16:00:00                                                  0   \n",
       "2012-12-31 17:00:00                                                  0   \n",
       "2012-12-31 18:00:00                                                  0   \n",
       "2012-12-31 19:00:00                                                  0   \n",
       "2012-12-31 20:00:00                                                  0   \n",
       "2012-12-31 21:00:00                                                  0   \n",
       "2012-12-31 22:00:00                                                  0   \n",
       "2012-12-31 23:00:00                                                  0   \n",
       "predictions          LinearRegression(copy_X=True, fit_intercept=Tr...   \n",
       "\n",
       "                                                         is_workingday  \\\n",
       "datetime                                                                 \n",
       "2011-01-01 00:00:00                                                  0   \n",
       "2011-01-01 01:00:00                                                  0   \n",
       "2011-01-01 02:00:00                                                  0   \n",
       "2011-01-01 03:00:00                                                  0   \n",
       "2011-01-01 04:00:00                                                  0   \n",
       "2011-01-01 05:00:00                                                  0   \n",
       "2011-01-01 06:00:00                                                  0   \n",
       "2011-01-01 07:00:00                                                  0   \n",
       "2011-01-01 08:00:00                                                  0   \n",
       "2011-01-01 09:00:00                                                  0   \n",
       "2011-01-01 10:00:00                                                  0   \n",
       "2011-01-01 11:00:00                                                  0   \n",
       "2011-01-01 12:00:00                                                  0   \n",
       "2011-01-01 13:00:00                                                  0   \n",
       "2011-01-01 14:00:00                                                  0   \n",
       "2011-01-01 15:00:00                                                  0   \n",
       "2011-01-01 16:00:00                                                  0   \n",
       "2011-01-01 17:00:00                                                  0   \n",
       "2011-01-01 18:00:00                                                  0   \n",
       "2011-01-01 19:00:00                                                  0   \n",
       "2011-01-01 20:00:00                                                  0   \n",
       "2011-01-01 21:00:00                                                  0   \n",
       "2011-01-01 22:00:00                                                  0   \n",
       "2011-01-01 23:00:00                                                  0   \n",
       "2011-01-02 00:00:00                                                  0   \n",
       "2011-01-02 01:00:00                                                  0   \n",
       "2011-01-02 02:00:00                                                  0   \n",
       "2011-01-02 03:00:00                                                  0   \n",
       "2011-01-02 04:00:00                                                  0   \n",
       "2011-01-02 06:00:00                                                  0   \n",
       "...                                                                ...   \n",
       "2012-12-30 19:00:00                                                  0   \n",
       "2012-12-30 20:00:00                                                  0   \n",
       "2012-12-30 21:00:00                                                  0   \n",
       "2012-12-30 22:00:00                                                  0   \n",
       "2012-12-30 23:00:00                                                  0   \n",
       "2012-12-31 00:00:00                                                  1   \n",
       "2012-12-31 01:00:00                                                  1   \n",
       "2012-12-31 02:00:00                                                  1   \n",
       "2012-12-31 03:00:00                                                  1   \n",
       "2012-12-31 04:00:00                                                  1   \n",
       "2012-12-31 05:00:00                                                  1   \n",
       "2012-12-31 06:00:00                                                  1   \n",
       "2012-12-31 07:00:00                                                  1   \n",
       "2012-12-31 08:00:00                                                  1   \n",
       "2012-12-31 09:00:00                                                  1   \n",
       "2012-12-31 10:00:00                                                  1   \n",
       "2012-12-31 11:00:00                                                  1   \n",
       "2012-12-31 12:00:00                                                  1   \n",
       "2012-12-31 13:00:00                                                  1   \n",
       "2012-12-31 14:00:00                                                  1   \n",
       "2012-12-31 15:00:00                                                  1   \n",
       "2012-12-31 16:00:00                                                  1   \n",
       "2012-12-31 17:00:00                                                  1   \n",
       "2012-12-31 18:00:00                                                  1   \n",
       "2012-12-31 19:00:00                                                  1   \n",
       "2012-12-31 20:00:00                                                  1   \n",
       "2012-12-31 21:00:00                                                  1   \n",
       "2012-12-31 22:00:00                                                  1   \n",
       "2012-12-31 23:00:00                                                  1   \n",
       "predictions          LinearRegression(copy_X=True, fit_intercept=Tr...   \n",
       "\n",
       "                                                               weather  \\\n",
       "datetime                                                                 \n",
       "2011-01-01 00:00:00                                                  1   \n",
       "2011-01-01 01:00:00                                                  1   \n",
       "2011-01-01 02:00:00                                                  1   \n",
       "2011-01-01 03:00:00                                                  1   \n",
       "2011-01-01 04:00:00                                                  1   \n",
       "2011-01-01 05:00:00                                                  2   \n",
       "2011-01-01 06:00:00                                                  1   \n",
       "2011-01-01 07:00:00                                                  1   \n",
       "2011-01-01 08:00:00                                                  1   \n",
       "2011-01-01 09:00:00                                                  1   \n",
       "2011-01-01 10:00:00                                                  1   \n",
       "2011-01-01 11:00:00                                                  1   \n",
       "2011-01-01 12:00:00                                                  1   \n",
       "2011-01-01 13:00:00                                                  2   \n",
       "2011-01-01 14:00:00                                                  2   \n",
       "2011-01-01 15:00:00                                                  2   \n",
       "2011-01-01 16:00:00                                                  2   \n",
       "2011-01-01 17:00:00                                                  2   \n",
       "2011-01-01 18:00:00                                                  3   \n",
       "2011-01-01 19:00:00                                                  3   \n",
       "2011-01-01 20:00:00                                                  2   \n",
       "2011-01-01 21:00:00                                                  2   \n",
       "2011-01-01 22:00:00                                                  2   \n",
       "2011-01-01 23:00:00                                                  2   \n",
       "2011-01-02 00:00:00                                                  2   \n",
       "2011-01-02 01:00:00                                                  2   \n",
       "2011-01-02 02:00:00                                                  2   \n",
       "2011-01-02 03:00:00                                                  2   \n",
       "2011-01-02 04:00:00                                                  2   \n",
       "2011-01-02 06:00:00                                                  3   \n",
       "...                                                                ...   \n",
       "2012-12-30 19:00:00                                                  1   \n",
       "2012-12-30 20:00:00                                                  1   \n",
       "2012-12-30 21:00:00                                                  1   \n",
       "2012-12-30 22:00:00                                                  1   \n",
       "2012-12-30 23:00:00                                                  1   \n",
       "2012-12-31 00:00:00                                                  1   \n",
       "2012-12-31 01:00:00                                                  1   \n",
       "2012-12-31 02:00:00                                                  1   \n",
       "2012-12-31 03:00:00                                                  1   \n",
       "2012-12-31 04:00:00                                                  1   \n",
       "2012-12-31 05:00:00                                                  1   \n",
       "2012-12-31 06:00:00                                                  1   \n",
       "2012-12-31 07:00:00                                                  1   \n",
       "2012-12-31 08:00:00                                                  1   \n",
       "2012-12-31 09:00:00                                                  2   \n",
       "2012-12-31 10:00:00                                                  2   \n",
       "2012-12-31 11:00:00                                                  2   \n",
       "2012-12-31 12:00:00                                                  2   \n",
       "2012-12-31 13:00:00                                                  2   \n",
       "2012-12-31 14:00:00                                                  2   \n",
       "2012-12-31 15:00:00                                                  2   \n",
       "2012-12-31 16:00:00                                                  2   \n",
       "2012-12-31 17:00:00                                                  2   \n",
       "2012-12-31 18:00:00                                                  2   \n",
       "2012-12-31 19:00:00                                                  2   \n",
       "2012-12-31 20:00:00                                                  2   \n",
       "2012-12-31 21:00:00                                                  1   \n",
       "2012-12-31 22:00:00                                                  1   \n",
       "2012-12-31 23:00:00                                                  1   \n",
       "predictions          LinearRegression(copy_X=True, fit_intercept=Tr...   \n",
       "\n",
       "                                                          temp_celsius  \\\n",
       "datetime                                                                 \n",
       "2011-01-01 00:00:00                                               3.28   \n",
       "2011-01-01 01:00:00                                               2.34   \n",
       "2011-01-01 02:00:00                                               2.34   \n",
       "2011-01-01 03:00:00                                               3.28   \n",
       "2011-01-01 04:00:00                                               3.28   \n",
       "2011-01-01 05:00:00                                               3.28   \n",
       "2011-01-01 06:00:00                                               2.34   \n",
       "2011-01-01 07:00:00                                                1.4   \n",
       "2011-01-01 08:00:00                                               3.28   \n",
       "2011-01-01 09:00:00                                               7.04   \n",
       "2011-01-01 10:00:00                                               9.86   \n",
       "2011-01-01 11:00:00                                               8.92   \n",
       "2011-01-01 12:00:00                                              11.74   \n",
       "2011-01-01 13:00:00                                              13.62   \n",
       "2011-01-01 14:00:00                                              13.62   \n",
       "2011-01-01 15:00:00                                              12.68   \n",
       "2011-01-01 16:00:00                                              11.74   \n",
       "2011-01-01 17:00:00                                              12.68   \n",
       "2011-01-01 18:00:00                                              11.74   \n",
       "2011-01-01 19:00:00                                              11.74   \n",
       "2011-01-01 20:00:00                                               10.8   \n",
       "2011-01-01 21:00:00                                               10.8   \n",
       "2011-01-01 22:00:00                                               10.8   \n",
       "2011-01-01 23:00:00                                              13.62   \n",
       "2011-01-02 00:00:00                                              13.62   \n",
       "2011-01-02 01:00:00                                              12.68   \n",
       "2011-01-02 02:00:00                                              11.74   \n",
       "2011-01-02 03:00:00                                              13.62   \n",
       "2011-01-02 04:00:00                                              13.62   \n",
       "2011-01-02 06:00:00                                              11.74   \n",
       "...                                                                ...   \n",
       "2012-12-30 19:00:00                                               7.98   \n",
       "2012-12-30 20:00:00                                               2.34   \n",
       "2012-12-30 21:00:00                                                1.4   \n",
       "2012-12-30 22:00:00                                                1.4   \n",
       "2012-12-30 23:00:00                                                1.4   \n",
       "2012-12-31 00:00:00                                               0.46   \n",
       "2012-12-31 01:00:00                                               0.46   \n",
       "2012-12-31 02:00:00                                              -0.48   \n",
       "2012-12-31 03:00:00                                              -0.48   \n",
       "2012-12-31 04:00:00                                              -1.42   \n",
       "2012-12-31 05:00:00                                              -0.48   \n",
       "2012-12-31 06:00:00                                              -0.48   \n",
       "2012-12-31 07:00:00                                              -0.48   \n",
       "2012-12-31 08:00:00                                              -1.42   \n",
       "2012-12-31 09:00:00                                               0.46   \n",
       "2012-12-31 10:00:00                                                1.4   \n",
       "2012-12-31 11:00:00                                               2.34   \n",
       "2012-12-31 12:00:00                                               3.28   \n",
       "2012-12-31 13:00:00                                               4.22   \n",
       "2012-12-31 14:00:00                                               5.16   \n",
       "2012-12-31 15:00:00                                               5.16   \n",
       "2012-12-31 16:00:00                                               4.22   \n",
       "2012-12-31 17:00:00                                               4.22   \n",
       "2012-12-31 18:00:00                                               4.22   \n",
       "2012-12-31 19:00:00                                               4.22   \n",
       "2012-12-31 20:00:00                                               4.22   \n",
       "2012-12-31 21:00:00                                               4.22   \n",
       "2012-12-31 22:00:00                                               4.22   \n",
       "2012-12-31 23:00:00                                               4.22   \n",
       "predictions          LinearRegression(copy_X=True, fit_intercept=Tr...   \n",
       "\n",
       "                                                                 atemp  \\\n",
       "datetime                                                                 \n",
       "2011-01-01 00:00:00                                             3.0014   \n",
       "2011-01-01 01:00:00                                             1.9982   \n",
       "2011-01-01 02:00:00                                             1.9982   \n",
       "2011-01-01 03:00:00                                             3.0014   \n",
       "2011-01-01 04:00:00                                             3.0014   \n",
       "2011-01-01 05:00:00                                             1.0016   \n",
       "2011-01-01 06:00:00                                             1.9982   \n",
       "2011-01-01 07:00:00                                             1.0016   \n",
       "2011-01-01 08:00:00                                             3.0014   \n",
       "2011-01-01 09:00:00                                              7.001   \n",
       "2011-01-01 10:00:00                                             9.9974   \n",
       "2011-01-01 11:00:00                                             5.9978   \n",
       "2011-01-01 12:00:00                                            11.9972   \n",
       "2011-01-01 13:00:00                                             13.997   \n",
       "2011-01-01 14:00:00                                             13.997   \n",
       "2011-01-01 15:00:00                                            13.0004   \n",
       "2011-01-01 16:00:00                                            11.9972   \n",
       "2011-01-01 17:00:00                                            13.0004   \n",
       "2011-01-01 18:00:00                                            11.9972   \n",
       "2011-01-01 19:00:00                                            11.9972   \n",
       "2011-01-01 20:00:00                                            11.0006   \n",
       "2011-01-01 21:00:00                                            11.0006   \n",
       "2011-01-01 22:00:00                                            11.0006   \n",
       "2011-01-01 23:00:00                                             13.997   \n",
       "2011-01-02 00:00:00                                             13.997   \n",
       "2011-01-02 01:00:00                                            13.0004   \n",
       "2011-01-02 02:00:00                                            11.9972   \n",
       "2011-01-02 03:00:00                                             13.997   \n",
       "2011-01-02 04:00:00                                             13.997   \n",
       "2011-01-02 06:00:00                                            11.9972   \n",
       "...                                                                ...   \n",
       "2012-12-30 19:00:00                                             7.9976   \n",
       "2012-12-30 20:00:00                                             -2.998   \n",
       "2012-12-30 21:00:00                                            -2.0014   \n",
       "2012-12-30 22:00:00                                             -2.998   \n",
       "2012-12-30 23:00:00                                             -2.998   \n",
       "2012-12-31 00:00:00                                            -4.0012   \n",
       "2012-12-31 01:00:00                                            -4.0012   \n",
       "2012-12-31 02:00:00                                            -4.9978   \n",
       "2012-12-31 03:00:00                                            -4.0012   \n",
       "2012-12-31 04:00:00                                            -4.9978   \n",
       "2012-12-31 05:00:00                                             -6.001   \n",
       "2012-12-31 06:00:00                                            -4.9978   \n",
       "2012-12-31 07:00:00                                            -4.0012   \n",
       "2012-12-31 08:00:00                                             -6.001   \n",
       "2012-12-31 09:00:00                                            -2.0014   \n",
       "2012-12-31 10:00:00                                            -2.0014   \n",
       "2012-12-31 11:00:00                                            -0.9982   \n",
       "2012-12-31 12:00:00                                            -0.9982   \n",
       "2012-12-31 13:00:00                                             1.0016   \n",
       "2012-12-31 14:00:00                                             1.9982   \n",
       "2012-12-31 15:00:00                                             3.0014   \n",
       "2012-12-31 16:00:00                                             1.0016   \n",
       "2012-12-31 17:00:00                                             3.0014   \n",
       "2012-12-31 18:00:00                                             1.9982   \n",
       "2012-12-31 19:00:00                                             1.0016   \n",
       "2012-12-31 20:00:00                                             1.0016   \n",
       "2012-12-31 21:00:00                                             1.0016   \n",
       "2012-12-31 22:00:00                                             1.9982   \n",
       "2012-12-31 23:00:00                                             1.9982   \n",
       "predictions          LinearRegression(copy_X=True, fit_intercept=Tr...   \n",
       "\n",
       "                                                      humidity_percent  \\\n",
       "datetime                                                                 \n",
       "2011-01-01 00:00:00                                                 81   \n",
       "2011-01-01 01:00:00                                                 80   \n",
       "2011-01-01 02:00:00                                                 80   \n",
       "2011-01-01 03:00:00                                                 75   \n",
       "2011-01-01 04:00:00                                                 75   \n",
       "2011-01-01 05:00:00                                                 75   \n",
       "2011-01-01 06:00:00                                                 80   \n",
       "2011-01-01 07:00:00                                                 86   \n",
       "2011-01-01 08:00:00                                                 75   \n",
       "2011-01-01 09:00:00                                                 76   \n",
       "2011-01-01 10:00:00                                                 76   \n",
       "2011-01-01 11:00:00                                                 81   \n",
       "2011-01-01 12:00:00                                                 77   \n",
       "2011-01-01 13:00:00                                                 72   \n",
       "2011-01-01 14:00:00                                                 72   \n",
       "2011-01-01 15:00:00                                                 77   \n",
       "2011-01-01 16:00:00                                                 82   \n",
       "2011-01-01 17:00:00                                                 82   \n",
       "2011-01-01 18:00:00                                                 88   \n",
       "2011-01-01 19:00:00                                                 88   \n",
       "2011-01-01 20:00:00                                                 87   \n",
       "2011-01-01 21:00:00                                                 87   \n",
       "2011-01-01 22:00:00                                                 94   \n",
       "2011-01-01 23:00:00                                                 88   \n",
       "2011-01-02 00:00:00                                                 88   \n",
       "2011-01-02 01:00:00                                                 94   \n",
       "2011-01-02 02:00:00                                                100   \n",
       "2011-01-02 03:00:00                                                 94   \n",
       "2011-01-02 04:00:00                                                 94   \n",
       "2011-01-02 06:00:00                                                 77   \n",
       "...                                                                ...   \n",
       "2012-12-30 19:00:00                                                 61   \n",
       "2012-12-30 20:00:00                                                 47   \n",
       "2012-12-30 21:00:00                                                 51   \n",
       "2012-12-30 22:00:00                                                 55   \n",
       "2012-12-30 23:00:00                                                 51   \n",
       "2012-12-31 00:00:00                                                 55   \n",
       "2012-12-31 01:00:00                                                 55   \n",
       "2012-12-31 02:00:00                                                 59   \n",
       "2012-12-31 03:00:00                                                 59   \n",
       "2012-12-31 04:00:00                                                 69   \n",
       "2012-12-31 05:00:00                                                 64   \n",
       "2012-12-31 06:00:00                                                 64   \n",
       "2012-12-31 07:00:00                                                 64   \n",
       "2012-12-31 08:00:00                                                 69   \n",
       "2012-12-31 09:00:00                                                 64   \n",
       "2012-12-31 10:00:00                                                 69   \n",
       "2012-12-31 11:00:00                                                 60   \n",
       "2012-12-31 12:00:00                                                 56   \n",
       "2012-12-31 13:00:00                                                 44   \n",
       "2012-12-31 14:00:00                                                 45   \n",
       "2012-12-31 15:00:00                                                 45   \n",
       "2012-12-31 16:00:00                                                 48   \n",
       "2012-12-31 17:00:00                                                 48   \n",
       "2012-12-31 18:00:00                                                 48   \n",
       "2012-12-31 19:00:00                                                 60   \n",
       "2012-12-31 20:00:00                                                 60   \n",
       "2012-12-31 21:00:00                                                 60   \n",
       "2012-12-31 22:00:00                                                 56   \n",
       "2012-12-31 23:00:00                                                 65   \n",
       "predictions          LinearRegression(copy_X=True, fit_intercept=Tr...   \n",
       "\n",
       "                                                       windspeed_knots  \\\n",
       "datetime                                                                 \n",
       "2011-01-01 00:00:00                                                  0   \n",
       "2011-01-01 01:00:00                                                  0   \n",
       "2011-01-01 02:00:00                                                  0   \n",
       "2011-01-01 03:00:00                                                  0   \n",
       "2011-01-01 04:00:00                                                  0   \n",
       "2011-01-01 05:00:00                                             0.0896   \n",
       "2011-01-01 06:00:00                                                  0   \n",
       "2011-01-01 07:00:00                                                  0   \n",
       "2011-01-01 08:00:00                                                  0   \n",
       "2011-01-01 09:00:00                                                  0   \n",
       "2011-01-01 10:00:00                                             0.2537   \n",
       "2011-01-01 11:00:00                                             0.2836   \n",
       "2011-01-01 12:00:00                                             0.2836   \n",
       "2011-01-01 13:00:00                                             0.2985   \n",
       "2011-01-01 14:00:00                                             0.2836   \n",
       "2011-01-01 15:00:00                                             0.2985   \n",
       "2011-01-01 16:00:00                                             0.2985   \n",
       "2011-01-01 17:00:00                                             0.2836   \n",
       "2011-01-01 18:00:00                                             0.2537   \n",
       "2011-01-01 19:00:00                                             0.2537   \n",
       "2011-01-01 20:00:00                                             0.2537   \n",
       "2011-01-01 21:00:00                                              0.194   \n",
       "2011-01-01 22:00:00                                             0.2239   \n",
       "2011-01-01 23:00:00                                             0.2985   \n",
       "2011-01-02 00:00:00                                             0.2985   \n",
       "2011-01-02 01:00:00                                             0.2537   \n",
       "2011-01-02 02:00:00                                             0.2836   \n",
       "2011-01-02 03:00:00                                              0.194   \n",
       "2011-01-02 04:00:00                                              0.194   \n",
       "2011-01-02 06:00:00                                             0.2985   \n",
       "...                                                                ...   \n",
       "2012-12-30 19:00:00                                                  0   \n",
       "2012-12-30 20:00:00                                             0.3284   \n",
       "2012-12-30 21:00:00                                             0.1642   \n",
       "2012-12-30 22:00:00                                              0.194   \n",
       "2012-12-30 23:00:00                                             0.2239   \n",
       "2012-12-31 00:00:00                                              0.194   \n",
       "2012-12-31 01:00:00                                              0.194   \n",
       "2012-12-31 02:00:00                                             0.1642   \n",
       "2012-12-31 03:00:00                                             0.1045   \n",
       "2012-12-31 04:00:00                                             0.1045   \n",
       "2012-12-31 05:00:00                                              0.194   \n",
       "2012-12-31 06:00:00                                             0.1642   \n",
       "2012-12-31 07:00:00                                             0.1343   \n",
       "2012-12-31 08:00:00                                             0.1343   \n",
       "2012-12-31 09:00:00                                             0.1045   \n",
       "2012-12-31 10:00:00                                             0.1343   \n",
       "2012-12-31 11:00:00                                              0.194   \n",
       "2012-12-31 12:00:00                                              0.194   \n",
       "2012-12-31 13:00:00                                             0.1642   \n",
       "2012-12-31 14:00:00                                             0.2239   \n",
       "2012-12-31 15:00:00                                             0.1343   \n",
       "2012-12-31 16:00:00                                              0.194   \n",
       "2012-12-31 17:00:00                                             0.0896   \n",
       "2012-12-31 18:00:00                                             0.1343   \n",
       "2012-12-31 19:00:00                                             0.1642   \n",
       "2012-12-31 20:00:00                                             0.1642   \n",
       "2012-12-31 21:00:00                                             0.1642   \n",
       "2012-12-31 22:00:00                                             0.1343   \n",
       "2012-12-31 23:00:00                                             0.1343   \n",
       "predictions          LinearRegression(copy_X=True, fit_intercept=Tr...   \n",
       "\n",
       "                                                       num_total_users  \n",
       "datetime                                                                \n",
       "2011-01-01 00:00:00                                                 16  \n",
       "2011-01-01 01:00:00                                                 40  \n",
       "2011-01-01 02:00:00                                                 32  \n",
       "2011-01-01 03:00:00                                                 13  \n",
       "2011-01-01 04:00:00                                                  1  \n",
       "2011-01-01 05:00:00                                                  1  \n",
       "2011-01-01 06:00:00                                                  2  \n",
       "2011-01-01 07:00:00                                                  3  \n",
       "2011-01-01 08:00:00                                                  8  \n",
       "2011-01-01 09:00:00                                                 14  \n",
       "2011-01-01 10:00:00                                                 36  \n",
       "2011-01-01 11:00:00                                                 56  \n",
       "2011-01-01 12:00:00                                                 84  \n",
       "2011-01-01 13:00:00                                                 94  \n",
       "2011-01-01 14:00:00                                                106  \n",
       "2011-01-01 15:00:00                                                110  \n",
       "2011-01-01 16:00:00                                                 93  \n",
       "2011-01-01 17:00:00                                                 67  \n",
       "2011-01-01 18:00:00                                                 35  \n",
       "2011-01-01 19:00:00                                                 37  \n",
       "2011-01-01 20:00:00                                                 36  \n",
       "2011-01-01 21:00:00                                                 34  \n",
       "2011-01-01 22:00:00                                                 28  \n",
       "2011-01-01 23:00:00                                                 39  \n",
       "2011-01-02 00:00:00                                                 17  \n",
       "2011-01-02 01:00:00                                                 17  \n",
       "2011-01-02 02:00:00                                                  9  \n",
       "2011-01-02 03:00:00                                                  6  \n",
       "2011-01-02 04:00:00                                                  3  \n",
       "2011-01-02 06:00:00                                                  2  \n",
       "...                                                                ...  \n",
       "2012-12-30 19:00:00                                                102  \n",
       "2012-12-30 20:00:00                                                 72  \n",
       "2012-12-30 21:00:00                                                 47  \n",
       "2012-12-30 22:00:00                                                 36  \n",
       "2012-12-30 23:00:00                                                 49  \n",
       "2012-12-31 00:00:00                                                 34  \n",
       "2012-12-31 01:00:00                                                 19  \n",
       "2012-12-31 02:00:00                                                 11  \n",
       "2012-12-31 03:00:00                                                  1  \n",
       "2012-12-31 04:00:00                                                  3  \n",
       "2012-12-31 05:00:00                                                  9  \n",
       "2012-12-31 06:00:00                                                 40  \n",
       "2012-12-31 07:00:00                                                 85  \n",
       "2012-12-31 08:00:00                                                196  \n",
       "2012-12-31 09:00:00                                                157  \n",
       "2012-12-31 10:00:00                                                120  \n",
       "2012-12-31 11:00:00                                                157  \n",
       "2012-12-31 12:00:00                                                224  \n",
       "2012-12-31 13:00:00                                                203  \n",
       "2012-12-31 14:00:00                                                247  \n",
       "2012-12-31 15:00:00                                                315  \n",
       "2012-12-31 16:00:00                                                214  \n",
       "2012-12-31 17:00:00                                                164  \n",
       "2012-12-31 18:00:00                                                122  \n",
       "2012-12-31 19:00:00                                                119  \n",
       "2012-12-31 20:00:00                                                 89  \n",
       "2012-12-31 21:00:00                                                 90  \n",
       "2012-12-31 22:00:00                                                 61  \n",
       "2012-12-31 23:00:00                                                 49  \n",
       "predictions          LinearRegression(copy_X=True, fit_intercept=Tr...  \n",
       "\n",
       "[17380 rows x 9 columns]"
      ]
     },
     "execution_count": 90,
     "metadata": {},
     "output_type": "execute_result"
    }
   ],
   "source": [
    "X"
   ]
  },
  {
   "cell_type": "markdown",
   "metadata": {},
   "source": [
    "- Run the cell below to check your work."
   ]
  },
  {
   "cell_type": "code",
   "execution_count": 113,
   "metadata": {
    "collapsed": true,
    "scrolled": true
   },
   "outputs": [],
   "source": [
    "# Tests\n",
    "assert isinstance(y, pd.Series)\n",
    "assert isinstance(X, pd.DataFrame)\n",
    "assert y.shape[0] == bikes.shape[0]\n",
    "assert X.shape == (bikes.shape[0], bikes.shape[1] - 3)"
   ]
  },
  {
   "cell_type": "markdown",
   "metadata": {},
   "source": [
    "- Make a new instance of the LinearRegression class. Call it lr_all to distinguish it from our last model."
   ]
  },
  {
   "cell_type": "code",
   "execution_count": 114,
   "metadata": {
    "collapsed": true
   },
   "outputs": [],
   "source": [
    "lr_all = LinearRegression()\n"
   ]
  },
  {
   "cell_type": "markdown",
   "metadata": {},
   "source": [
    "- Train the model instance using our new feature matrix $X$ and the same target variable $y$."
   ]
  },
  {
   "cell_type": "code",
   "execution_count": 115,
   "metadata": {},
   "outputs": [
    {
     "data": {
      "text/plain": [
       "LinearRegression(copy_X=True, fit_intercept=True, n_jobs=1, normalize=False)"
      ]
     },
     "execution_count": 115,
     "metadata": {},
     "output_type": "execute_result"
    }
   ],
   "source": [
    "lr_all.fit(X, y)"
   ]
  },
  {
   "cell_type": "markdown",
   "metadata": {},
   "source": [
    "- Store `lr_all`'s fitted values in a new `predictions` column of the `bikes` DataFrame."
   ]
  },
  {
   "cell_type": "code",
   "execution_count": 116,
   "metadata": {},
   "outputs": [],
   "source": [
    "bikes.loc[:, 'predictions'] = lr_all.predict(X)"
   ]
  },
  {
   "cell_type": "code",
   "execution_count": 107,
   "metadata": {
    "scrolled": false
   },
   "outputs": [
    {
     "ename": "ValueError",
     "evalue": "scatter requires x column to be numeric",
     "output_type": "error",
     "traceback": [
      "\u001b[0;31m---------------------------------------------------------------------------\u001b[0m",
      "\u001b[0;31mValueError\u001b[0m                                Traceback (most recent call last)",
      "\u001b[0;32m<ipython-input-107-0f768359cec0>\u001b[0m in \u001b[0;36m<module>\u001b[0;34m()\u001b[0m\n\u001b[1;32m      1\u001b[0m \u001b[0;31m# Compare predicted values to actual\u001b[0m\u001b[0;34m\u001b[0m\u001b[0;34m\u001b[0m\u001b[0m\n\u001b[1;32m      2\u001b[0m \u001b[0mfig\u001b[0m\u001b[0;34m,\u001b[0m \u001b[0max\u001b[0m \u001b[0;34m=\u001b[0m \u001b[0mplt\u001b[0m\u001b[0;34m.\u001b[0m\u001b[0msubplots\u001b[0m\u001b[0;34m(\u001b[0m\u001b[0;34m)\u001b[0m\u001b[0;34m\u001b[0m\u001b[0m\n\u001b[0;32m----> 3\u001b[0;31m \u001b[0mbikes\u001b[0m\u001b[0;34m.\u001b[0m\u001b[0mplot\u001b[0m\u001b[0;34m(\u001b[0m\u001b[0mkind\u001b[0m\u001b[0;34m=\u001b[0m\u001b[0;34m'scatter'\u001b[0m\u001b[0;34m,\u001b[0m \u001b[0mx\u001b[0m\u001b[0;34m=\u001b[0m\u001b[0;34m'num_total_users'\u001b[0m\u001b[0;34m,\u001b[0m \u001b[0my\u001b[0m\u001b[0;34m=\u001b[0m\u001b[0;34m'predictions'\u001b[0m\u001b[0;34m,\u001b[0m \u001b[0max\u001b[0m\u001b[0;34m=\u001b[0m\u001b[0max\u001b[0m\u001b[0;34m)\u001b[0m\u001b[0;34m\u001b[0m\u001b[0m\n\u001b[0m\u001b[1;32m      4\u001b[0m \u001b[0max\u001b[0m\u001b[0;34m.\u001b[0m\u001b[0mplot\u001b[0m\u001b[0;34m(\u001b[0m\u001b[0;34m[\u001b[0m\u001b[0;36m0\u001b[0m\u001b[0;34m,\u001b[0m \u001b[0;36m400\u001b[0m\u001b[0;34m]\u001b[0m\u001b[0;34m,\u001b[0m \u001b[0;34m[\u001b[0m\u001b[0;36m0\u001b[0m\u001b[0;34m,\u001b[0m\u001b[0;36m400\u001b[0m\u001b[0;34m]\u001b[0m\u001b[0;34m,\u001b[0m \u001b[0;34m'r'\u001b[0m\u001b[0;34m)\u001b[0m\u001b[0;34m\u001b[0m\u001b[0m\n",
      "\u001b[0;32m~/Apps/Dev/Conda3/lib/python3.6/site-packages/pandas/plotting/_core.py\u001b[0m in \u001b[0;36m__call__\u001b[0;34m(self, x, y, kind, ax, subplots, sharex, sharey, layout, figsize, use_index, title, grid, legend, style, logx, logy, loglog, xticks, yticks, xlim, ylim, rot, fontsize, colormap, table, yerr, xerr, secondary_y, sort_columns, **kwds)\u001b[0m\n\u001b[1;32m   2625\u001b[0m                           \u001b[0mfontsize\u001b[0m\u001b[0;34m=\u001b[0m\u001b[0mfontsize\u001b[0m\u001b[0;34m,\u001b[0m \u001b[0mcolormap\u001b[0m\u001b[0;34m=\u001b[0m\u001b[0mcolormap\u001b[0m\u001b[0;34m,\u001b[0m \u001b[0mtable\u001b[0m\u001b[0;34m=\u001b[0m\u001b[0mtable\u001b[0m\u001b[0;34m,\u001b[0m\u001b[0;34m\u001b[0m\u001b[0m\n\u001b[1;32m   2626\u001b[0m                           \u001b[0myerr\u001b[0m\u001b[0;34m=\u001b[0m\u001b[0myerr\u001b[0m\u001b[0;34m,\u001b[0m \u001b[0mxerr\u001b[0m\u001b[0;34m=\u001b[0m\u001b[0mxerr\u001b[0m\u001b[0;34m,\u001b[0m \u001b[0msecondary_y\u001b[0m\u001b[0;34m=\u001b[0m\u001b[0msecondary_y\u001b[0m\u001b[0;34m,\u001b[0m\u001b[0;34m\u001b[0m\u001b[0m\n\u001b[0;32m-> 2627\u001b[0;31m                           sort_columns=sort_columns, **kwds)\n\u001b[0m\u001b[1;32m   2628\u001b[0m     \u001b[0m__call__\u001b[0m\u001b[0;34m.\u001b[0m\u001b[0m__doc__\u001b[0m \u001b[0;34m=\u001b[0m \u001b[0mplot_frame\u001b[0m\u001b[0;34m.\u001b[0m\u001b[0m__doc__\u001b[0m\u001b[0;34m\u001b[0m\u001b[0m\n\u001b[1;32m   2629\u001b[0m \u001b[0;34m\u001b[0m\u001b[0m\n",
      "\u001b[0;32m~/Apps/Dev/Conda3/lib/python3.6/site-packages/pandas/plotting/_core.py\u001b[0m in \u001b[0;36mplot_frame\u001b[0;34m(data, x, y, kind, ax, subplots, sharex, sharey, layout, figsize, use_index, title, grid, legend, style, logx, logy, loglog, xticks, yticks, xlim, ylim, rot, fontsize, colormap, table, yerr, xerr, secondary_y, sort_columns, **kwds)\u001b[0m\n\u001b[1;32m   1867\u001b[0m                  \u001b[0myerr\u001b[0m\u001b[0;34m=\u001b[0m\u001b[0myerr\u001b[0m\u001b[0;34m,\u001b[0m \u001b[0mxerr\u001b[0m\u001b[0;34m=\u001b[0m\u001b[0mxerr\u001b[0m\u001b[0;34m,\u001b[0m\u001b[0;34m\u001b[0m\u001b[0m\n\u001b[1;32m   1868\u001b[0m                  \u001b[0msecondary_y\u001b[0m\u001b[0;34m=\u001b[0m\u001b[0msecondary_y\u001b[0m\u001b[0;34m,\u001b[0m \u001b[0msort_columns\u001b[0m\u001b[0;34m=\u001b[0m\u001b[0msort_columns\u001b[0m\u001b[0;34m,\u001b[0m\u001b[0;34m\u001b[0m\u001b[0m\n\u001b[0;32m-> 1869\u001b[0;31m                  **kwds)\n\u001b[0m\u001b[1;32m   1870\u001b[0m \u001b[0;34m\u001b[0m\u001b[0m\n\u001b[1;32m   1871\u001b[0m \u001b[0;34m\u001b[0m\u001b[0m\n",
      "\u001b[0;32m~/Apps/Dev/Conda3/lib/python3.6/site-packages/pandas/plotting/_core.py\u001b[0m in \u001b[0;36m_plot\u001b[0;34m(data, x, y, subplots, ax, kind, **kwds)\u001b[0m\n\u001b[1;32m   1650\u001b[0m         \u001b[0;32mif\u001b[0m \u001b[0misinstance\u001b[0m\u001b[0;34m(\u001b[0m\u001b[0mdata\u001b[0m\u001b[0;34m,\u001b[0m \u001b[0mDataFrame\u001b[0m\u001b[0;34m)\u001b[0m\u001b[0;34m:\u001b[0m\u001b[0;34m\u001b[0m\u001b[0m\n\u001b[1;32m   1651\u001b[0m             plot_obj = klass(data, x=x, y=y, subplots=subplots, ax=ax,\n\u001b[0;32m-> 1652\u001b[0;31m                              kind=kind, **kwds)\n\u001b[0m\u001b[1;32m   1653\u001b[0m         \u001b[0;32melse\u001b[0m\u001b[0;34m:\u001b[0m\u001b[0;34m\u001b[0m\u001b[0m\n\u001b[1;32m   1654\u001b[0m             raise ValueError(\"plot kind %r can only be used for data frames\"\n",
      "\u001b[0;32m~/Apps/Dev/Conda3/lib/python3.6/site-packages/pandas/plotting/_core.py\u001b[0m in \u001b[0;36m__init__\u001b[0;34m(self, data, x, y, s, c, **kwargs)\u001b[0m\n\u001b[1;32m    808\u001b[0m             \u001b[0;31m# the handling of this argument later\u001b[0m\u001b[0;34m\u001b[0m\u001b[0;34m\u001b[0m\u001b[0m\n\u001b[1;32m    809\u001b[0m             \u001b[0ms\u001b[0m \u001b[0;34m=\u001b[0m \u001b[0;36m20\u001b[0m\u001b[0;34m\u001b[0m\u001b[0m\n\u001b[0;32m--> 810\u001b[0;31m         \u001b[0msuper\u001b[0m\u001b[0;34m(\u001b[0m\u001b[0mScatterPlot\u001b[0m\u001b[0;34m,\u001b[0m \u001b[0mself\u001b[0m\u001b[0;34m)\u001b[0m\u001b[0;34m.\u001b[0m\u001b[0m__init__\u001b[0m\u001b[0;34m(\u001b[0m\u001b[0mdata\u001b[0m\u001b[0;34m,\u001b[0m \u001b[0mx\u001b[0m\u001b[0;34m,\u001b[0m \u001b[0my\u001b[0m\u001b[0;34m,\u001b[0m \u001b[0ms\u001b[0m\u001b[0;34m=\u001b[0m\u001b[0ms\u001b[0m\u001b[0;34m,\u001b[0m \u001b[0;34m**\u001b[0m\u001b[0mkwargs\u001b[0m\u001b[0;34m)\u001b[0m\u001b[0;34m\u001b[0m\u001b[0m\n\u001b[0m\u001b[1;32m    811\u001b[0m         \u001b[0;32mif\u001b[0m \u001b[0mis_integer\u001b[0m\u001b[0;34m(\u001b[0m\u001b[0mc\u001b[0m\u001b[0;34m)\u001b[0m \u001b[0;32mand\u001b[0m \u001b[0;32mnot\u001b[0m \u001b[0mself\u001b[0m\u001b[0;34m.\u001b[0m\u001b[0mdata\u001b[0m\u001b[0;34m.\u001b[0m\u001b[0mcolumns\u001b[0m\u001b[0;34m.\u001b[0m\u001b[0mholds_integer\u001b[0m\u001b[0;34m(\u001b[0m\u001b[0;34m)\u001b[0m\u001b[0;34m:\u001b[0m\u001b[0;34m\u001b[0m\u001b[0m\n\u001b[1;32m    812\u001b[0m             \u001b[0mc\u001b[0m \u001b[0;34m=\u001b[0m \u001b[0mself\u001b[0m\u001b[0;34m.\u001b[0m\u001b[0mdata\u001b[0m\u001b[0;34m.\u001b[0m\u001b[0mcolumns\u001b[0m\u001b[0;34m[\u001b[0m\u001b[0mc\u001b[0m\u001b[0;34m]\u001b[0m\u001b[0;34m\u001b[0m\u001b[0m\n",
      "\u001b[0;32m~/Apps/Dev/Conda3/lib/python3.6/site-packages/pandas/plotting/_core.py\u001b[0m in \u001b[0;36m__init__\u001b[0;34m(self, data, x, y, **kwargs)\u001b[0m\n\u001b[1;32m    783\u001b[0m             \u001b[0my\u001b[0m \u001b[0;34m=\u001b[0m \u001b[0mself\u001b[0m\u001b[0;34m.\u001b[0m\u001b[0mdata\u001b[0m\u001b[0;34m.\u001b[0m\u001b[0mcolumns\u001b[0m\u001b[0;34m[\u001b[0m\u001b[0my\u001b[0m\u001b[0;34m]\u001b[0m\u001b[0;34m\u001b[0m\u001b[0m\n\u001b[1;32m    784\u001b[0m         \u001b[0;32mif\u001b[0m \u001b[0mlen\u001b[0m\u001b[0;34m(\u001b[0m\u001b[0mself\u001b[0m\u001b[0;34m.\u001b[0m\u001b[0mdata\u001b[0m\u001b[0;34m[\u001b[0m\u001b[0mx\u001b[0m\u001b[0;34m]\u001b[0m\u001b[0;34m.\u001b[0m\u001b[0m_get_numeric_data\u001b[0m\u001b[0;34m(\u001b[0m\u001b[0;34m)\u001b[0m\u001b[0;34m)\u001b[0m \u001b[0;34m==\u001b[0m \u001b[0;36m0\u001b[0m\u001b[0;34m:\u001b[0m\u001b[0;34m\u001b[0m\u001b[0m\n\u001b[0;32m--> 785\u001b[0;31m             \u001b[0;32mraise\u001b[0m \u001b[0mValueError\u001b[0m\u001b[0;34m(\u001b[0m\u001b[0mself\u001b[0m\u001b[0;34m.\u001b[0m\u001b[0m_kind\u001b[0m \u001b[0;34m+\u001b[0m \u001b[0;34m' requires x column to be numeric'\u001b[0m\u001b[0;34m)\u001b[0m\u001b[0;34m\u001b[0m\u001b[0m\n\u001b[0m\u001b[1;32m    786\u001b[0m         \u001b[0;32mif\u001b[0m \u001b[0mlen\u001b[0m\u001b[0;34m(\u001b[0m\u001b[0mself\u001b[0m\u001b[0;34m.\u001b[0m\u001b[0mdata\u001b[0m\u001b[0;34m[\u001b[0m\u001b[0my\u001b[0m\u001b[0;34m]\u001b[0m\u001b[0;34m.\u001b[0m\u001b[0m_get_numeric_data\u001b[0m\u001b[0;34m(\u001b[0m\u001b[0;34m)\u001b[0m\u001b[0;34m)\u001b[0m \u001b[0;34m==\u001b[0m \u001b[0;36m0\u001b[0m\u001b[0;34m:\u001b[0m\u001b[0;34m\u001b[0m\u001b[0m\n\u001b[1;32m    787\u001b[0m             \u001b[0;32mraise\u001b[0m \u001b[0mValueError\u001b[0m\u001b[0;34m(\u001b[0m\u001b[0mself\u001b[0m\u001b[0;34m.\u001b[0m\u001b[0m_kind\u001b[0m \u001b[0;34m+\u001b[0m \u001b[0;34m' requires y column to be numeric'\u001b[0m\u001b[0;34m)\u001b[0m\u001b[0;34m\u001b[0m\u001b[0m\n",
      "\u001b[0;31mValueError\u001b[0m: scatter requires x column to be numeric"
     ]
    },
    {
     "data": {
      "image/png": "[encoded data removed]",
      "text/plain": [
       "<matplotlib.figure.Figure at 0x7ff5363fbeb8>"
      ]
     },
     "metadata": {},
     "output_type": "display_data"
    }
   ],
   "source": [
    "# Compare predicted values to actual\n",
    "fig, ax = plt.subplots()\n",
    "bikes.plot(kind='scatter', x='num_total_users', y='predictions', ax=ax)\n",
    "ax.plot([0, 400], [0,400], 'r')"
   ]
  },
  {
   "cell_type": "code",
   "execution_count": 105,
   "metadata": {},
   "outputs": [],
   "source": [
    "# Drop the fitted values from our DataFrame\n",
    "bikes.drop('predictions', axis=1, inplace=True)"
   ]
  },
  {
   "cell_type": "markdown",
   "metadata": {},
   "source": [
    "The plot above shows how well the model fits the data it was trained on. How well it would predict new data that it wasn't trained on is a further issue."
   ]
  },
  {
   "cell_type": "markdown",
   "metadata": {},
   "source": [
    "# Linear Regression with Multiple Features"
   ]
  },
  {
   "cell_type": "markdown",
   "metadata": {},
   "source": [
    "- **Our first model:**\n",
    "    - **$y=mx+b$ notation:**\n",
    "       - $\\mbox{num_total_users} = \\alpha * \\mbox{temp_celsius} + \\beta$\n",
    "    - **New notation:**\n",
    "       - $\\mbox{num_total_users} = \\beta_0 +  \\beta_1 * \\mbox{temp_celsius}$\n",
    "- **Our second model:**\n",
    "    - $\\mbox{num_total_users} = \\beta_0 + \\beta_1 * \\mbox{season_num} + \\beta_2 * \\mbox{is_holiday} + \\beta_3 * \\mbox{is_workingday} + \\beta_4 * \\mbox{weather} + \\beta_5 * \\mbox{temp_celsius} + \\beta_6 * \\mbox{atemp_celsius} + \\beta_7 * \\mbox{humidity_percent} + \\beta_8 * \\mbox{windspeed_knots}$"
   ]
  },
  {
   "cell_type": "markdown",
   "metadata": {},
   "source": [
    "**Exercise.** Answer each question with an expression that includes one or more symbols, rather than an exact number. The symbol $\\beta$ is called \"beta.\""
   ]
  },
  {
   "cell_type": "markdown",
   "metadata": {},
   "source": [
    "- What would our model predict for `num_total_users` at with all input features 0?"
   ]
  },
  {
   "cell_type": "markdown",
   "metadata": {},
   "source": []
  },
  {
   "cell_type": "markdown",
   "metadata": {},
   "source": [
    "- If `humidity_percent` decreases by 3 while all other features remain fixed, how does our model's prediction for `num_total_users` change?"
   ]
  },
  {
   "cell_type": "markdown",
   "metadata": {},
   "source": []
  },
  {
   "cell_type": "markdown",
   "metadata": {},
   "source": [
    "- Why does the previous question say \"while all other features remain fixed?\""
   ]
  },
  {
   "cell_type": "markdown",
   "metadata": {},
   "source": []
  },
  {
   "cell_type": "markdown",
   "metadata": {},
   "source": [
    "- What would it mean if a feature had a coefficient of 0?"
   ]
  },
  {
   "cell_type": "markdown",
   "metadata": {},
   "source": []
  },
  {
   "cell_type": "markdown",
   "metadata": {},
   "source": [
    "Linear regression with two input features chooses the \"plane\" that \"best fits\" a 3D scatterplot of the target variable against those input features.\n",
    "\n",
    "In general, linear regression chooses the \"hyperplane\" that \"best fits\" a scatterplot of the target variable against the input features."
   ]
  },
  {
   "cell_type": "code",
   "execution_count": 127,
   "metadata": {
    "collapsed": true
   },
   "outputs": [],
   "source": [
    "bikes_cols=['season_num','is_holiday','is_workingday','weather','temp_celsius','atemp','humidity_percent',\n",
    "                'windspeed_knots','num_casual_users','num_registered_users','num_total_users']"
   ]
  },
  {
   "cell_type": "code",
   "execution_count": 135,
   "metadata": {
    "scrolled": true
   },
   "outputs": [],
   "source": [
    "\n",
    "\n",
    "X = bikes.loc[:, bikes_cols]\n",
    "X.drop('num_total_users', axis=1, inplace=True)\n",
    "y = bikes.loc[:, 'num_total_users']"
   ]
  },
  {
   "cell_type": "markdown",
   "metadata": {},
   "source": [
    "**Exercise.** How do the model's predictions change for a holiday vs. a non-holiday, all else being equal?"
   ]
  },
  {
   "cell_type": "code",
   "execution_count": 136,
   "metadata": {},
   "outputs": [
    {
     "data": {
      "text/plain": [
       "datetime\n",
       "2011-01-01 00:00:00     16\n",
       "2011-01-01 01:00:00     40\n",
       "2011-01-01 02:00:00     32\n",
       "2011-01-01 03:00:00     13\n",
       "2011-01-01 04:00:00      1\n",
       "2011-01-01 05:00:00      1\n",
       "2011-01-01 06:00:00      2\n",
       "2011-01-01 07:00:00      3\n",
       "2011-01-01 08:00:00      8\n",
       "2011-01-01 09:00:00     14\n",
       "2011-01-01 10:00:00     36\n",
       "2011-01-01 11:00:00     56\n",
       "2011-01-01 12:00:00     84\n",
       "2011-01-01 13:00:00     94\n",
       "2011-01-01 14:00:00    106\n",
       "2011-01-01 15:00:00    110\n",
       "2011-01-01 16:00:00     93\n",
       "2011-01-01 17:00:00     67\n",
       "2011-01-01 18:00:00     35\n",
       "2011-01-01 19:00:00     37\n",
       "2011-01-01 20:00:00     36\n",
       "2011-01-01 21:00:00     34\n",
       "2011-01-01 22:00:00     28\n",
       "2011-01-01 23:00:00     39\n",
       "2011-01-02 00:00:00     17\n",
       "2011-01-02 01:00:00     17\n",
       "2011-01-02 02:00:00      9\n",
       "2011-01-02 03:00:00      6\n",
       "2011-01-02 04:00:00      3\n",
       "2011-01-02 06:00:00      2\n",
       "                      ... \n",
       "2012-12-30 18:00:00    125\n",
       "2012-12-30 19:00:00    102\n",
       "2012-12-30 20:00:00     72\n",
       "2012-12-30 21:00:00     47\n",
       "2012-12-30 22:00:00     36\n",
       "2012-12-30 23:00:00     49\n",
       "2012-12-31 00:00:00     34\n",
       "2012-12-31 01:00:00     19\n",
       "2012-12-31 02:00:00     11\n",
       "2012-12-31 03:00:00      1\n",
       "2012-12-31 04:00:00      3\n",
       "2012-12-31 05:00:00      9\n",
       "2012-12-31 06:00:00     40\n",
       "2012-12-31 07:00:00     85\n",
       "2012-12-31 08:00:00    196\n",
       "2012-12-31 09:00:00    157\n",
       "2012-12-31 10:00:00    120\n",
       "2012-12-31 11:00:00    157\n",
       "2012-12-31 12:00:00    224\n",
       "2012-12-31 13:00:00    203\n",
       "2012-12-31 14:00:00    247\n",
       "2012-12-31 15:00:00    315\n",
       "2012-12-31 16:00:00    214\n",
       "2012-12-31 17:00:00    164\n",
       "2012-12-31 18:00:00    122\n",
       "2012-12-31 19:00:00    119\n",
       "2012-12-31 20:00:00     89\n",
       "2012-12-31 21:00:00     90\n",
       "2012-12-31 22:00:00     61\n",
       "2012-12-31 23:00:00     49\n",
       "Name: num_total_users, Length: 17379, dtype: object"
      ]
     },
     "execution_count": 136,
     "metadata": {},
     "output_type": "execute_result"
    }
   ],
   "source": [
    "# bikes.drop(['predictions'], axis=1, inplace=True)\n",
    "X\n",
    "y"
   ]
  },
  {
   "cell_type": "markdown",
   "metadata": {},
   "source": []
  },
  {
   "cell_type": "code",
   "execution_count": 141,
   "metadata": {},
   "outputs": [],
   "source": [
    "# Look at the documentation for a LinearRegression model object\n",
    "lr_new = LinearRegression()\n",
    "lr_new.fit(X, y)\n",
    "lr_new_pred = lr_new.predict(X)\n",
    "lr_new_pred\n",
    "bikes['predictions'] = lr_new_pred"
   ]
  },
  {
   "cell_type": "code",
   "execution_count": 147,
   "metadata": {},
   "outputs": [
    {
     "name": "stdout",
     "output_type": "stream",
     "text": [
      "216.09930303\n",
      "[ 19.80244456 -21.83281619   3.31021316   8.51301983   1.4708144\n",
      "   4.43306071  -3.04462961  52.92027726]\n"
     ]
    }
   ],
   "source": [
    "print(lr_all.intercept_)\n",
    "print(lr_all.coef_)"
   ]
  },
  {
   "cell_type": "code",
   "execution_count": 146,
   "metadata": {},
   "outputs": [
    {
     "ename": "ValueError",
     "evalue": "invalid literal for int() with base 10: 'num_total_users'",
     "output_type": "error",
     "traceback": [
      "\u001b[0;31m---------------------------------------------------------------------------\u001b[0m",
      "\u001b[0;31mValueError\u001b[0m                                Traceback (most recent call last)",
      "\u001b[0;32m<ipython-input-146-3f79b7029e67>\u001b[0m in \u001b[0;36m<module>\u001b[0;34m()\u001b[0m\n\u001b[1;32m      1\u001b[0m \u001b[0;31m# Compare predicted values to actual\u001b[0m\u001b[0;34m\u001b[0m\u001b[0;34m\u001b[0m\u001b[0m\n\u001b[1;32m      2\u001b[0m \u001b[0mfig\u001b[0m\u001b[0;34m,\u001b[0m \u001b[0max\u001b[0m \u001b[0;34m=\u001b[0m \u001b[0mplt\u001b[0m\u001b[0;34m.\u001b[0m\u001b[0msubplots\u001b[0m\u001b[0;34m(\u001b[0m\u001b[0;34m)\u001b[0m\u001b[0;34m\u001b[0m\u001b[0m\n\u001b[0;32m----> 3\u001b[0;31m \u001b[0mbikes\u001b[0m\u001b[0;34m.\u001b[0m\u001b[0mplot\u001b[0m\u001b[0;34m(\u001b[0m\u001b[0mkind\u001b[0m\u001b[0;34m=\u001b[0m\u001b[0;34m'scatter'\u001b[0m\u001b[0;34m,\u001b[0m \u001b[0mx\u001b[0m\u001b[0;34m=\u001b[0m\u001b[0mint\u001b[0m\u001b[0;34m(\u001b[0m\u001b[0;34m'num_total_users'\u001b[0m\u001b[0;34m)\u001b[0m\u001b[0;34m,\u001b[0m \u001b[0my\u001b[0m\u001b[0;34m=\u001b[0m\u001b[0;34m'predictions'\u001b[0m\u001b[0;34m,\u001b[0m \u001b[0max\u001b[0m\u001b[0;34m=\u001b[0m\u001b[0max\u001b[0m\u001b[0;34m)\u001b[0m\u001b[0;34m\u001b[0m\u001b[0m\n\u001b[0m\u001b[1;32m      4\u001b[0m \u001b[0max\u001b[0m\u001b[0;34m.\u001b[0m\u001b[0mplot\u001b[0m\u001b[0;34m(\u001b[0m\u001b[0;34m[\u001b[0m\u001b[0;36m0\u001b[0m\u001b[0;34m,\u001b[0m \u001b[0;36m400\u001b[0m\u001b[0;34m]\u001b[0m\u001b[0;34m,\u001b[0m \u001b[0;34m[\u001b[0m\u001b[0;36m0\u001b[0m\u001b[0;34m,\u001b[0m\u001b[0;36m400\u001b[0m\u001b[0;34m]\u001b[0m\u001b[0;34m,\u001b[0m \u001b[0;34m'r'\u001b[0m\u001b[0;34m)\u001b[0m\u001b[0;34m\u001b[0m\u001b[0m\n",
      "\u001b[0;31mValueError\u001b[0m: invalid literal for int() with base 10: 'num_total_users'"
     ]
    },
    {
     "data": {
      "image/png": "[encoded data removed]",
      "text/plain": [
       "<matplotlib.figure.Figure at 0x7ff51d554780>"
      ]
     },
     "metadata": {},
     "output_type": "display_data"
    }
   ],
   "source": [
    "# Compare predicted values to actual\n",
    "fig, ax = plt.subplots()\n",
    "bikes.plot(kind='scatter', x='num_total_users', y='predictions', ax=ax)\n",
    "ax.plot([0, 400], [0,400], 'r')"
   ]
  },
  {
   "cell_type": "markdown",
   "metadata": {},
   "source": [
    "# A Little Theory"
   ]
  },
  {
   "cell_type": "markdown",
   "metadata": {},
   "source": [
    "Fitting a linear regression selects the coefficients and intercept that minimize the **sum of squared errors** of the fitted values on the training set.\n",
    "\n",
    "![Estimating coefficients](./assets/estimating_coefficients.png)\n",
    "\n",
    "In the diagram above:\n",
    "\n",
    "- The black dots are the **observed values** of x and y.\n",
    "- The blue line is our **least squares line**.\n",
    "- The red lines are the **residuals**, which are the vertical distances between the observed values and the least squares line."
   ]
  },
  {
   "cell_type": "markdown",
   "metadata": {},
   "source": [
    "**Justification:** Minimizing the sum of squared errors maximizes *the probability of the data given the model* (the **likelihood** of the model on the data) on the assumption that the target variable really is a linear function of the features plus normally distributed \"noise:\" $y = \\beta_0 + \\sum \\beta_i x_i + \\epsilon$ where $\\epsilon \\sim \\mathcal{N}(0, \\sigma^2)$\n",
    "\n",
    "![](./assets/400px-Linear_regression.svg.png)"
   ]
  },
  {
   "cell_type": "markdown",
   "metadata": {},
   "source": [
    "**Exercise.** In our second model, does it appear that the target variable is a linear function of the features plus normally distributed noise? Why or why not?"
   ]
  },
  {
   "cell_type": "markdown",
   "metadata": {},
   "source": [
    "<a id=\"overview-of-supervised-learning\"></a>\n",
    "## Overview of Supervised Learning\n",
    "---\n",
    "\n",
    "![Supervised learning diagram](./assets/supervised_learning.png)"
   ]
  },
  {
   "cell_type": "markdown",
   "metadata": {},
   "source": [
    "<a id=\"does-the-scale-of-the-features-matter\"></a>\n",
    "### Does the Scale of the Features Matter?\n",
    "\n",
    "Let's say that temp_celsius was measured in Fahrenheit, rather than Celsius. How would that affect our first model?"
   ]
  },
  {
   "cell_type": "code",
   "execution_count": null,
   "metadata": {
    "collapsed": true
   },
   "outputs": [],
   "source": [
    "# Create a new column for Fahrenheit temp_celsius.\n"
   ]
  },
  {
   "cell_type": "code",
   "execution_count": null,
   "metadata": {
    "collapsed": true,
    "scrolled": true
   },
   "outputs": [],
   "source": [
    "# Seaborn scatterplot with regression line\n"
   ]
  },
  {
   "cell_type": "markdown",
   "metadata": {},
   "source": [
    "#### Rebuild the first model using temp_fahrenheit instead or temp_celsius."
   ]
  },
  {
   "cell_type": "code",
   "execution_count": null,
   "metadata": {
    "collapsed": true,
    "scrolled": true
   },
   "outputs": [],
   "source": []
  },
  {
   "cell_type": "markdown",
   "metadata": {},
   "source": [
    "#### Convert 25 degrees Celsius to Fahrenheit."
   ]
  },
  {
   "cell_type": "code",
   "execution_count": null,
   "metadata": {
    "collapsed": true
   },
   "outputs": [],
   "source": [
    "25*1.8 + 32"
   ]
  },
  {
   "cell_type": "markdown",
   "metadata": {},
   "source": [
    "#### Predict rentals for 25 degree celsius and for 77 degrees Fahrenheit."
   ]
  },
  {
   "cell_type": "code",
   "execution_count": null,
   "metadata": {
    "collapsed": true
   },
   "outputs": [],
   "source": []
  },
  {
   "cell_type": "code",
   "execution_count": null,
   "metadata": {
    "collapsed": true
   },
   "outputs": [],
   "source": []
  },
  {
   "cell_type": "markdown",
   "metadata": {},
   "source": [
    "**Conclusion:** The scale of the features is irrelevant for linear regression models. When changing the scale, we simply change our interpretation of the coefficients."
   ]
  },
  {
   "cell_type": "code",
   "execution_count": null,
   "metadata": {
    "collapsed": true
   },
   "outputs": [],
   "source": [
    "# Remove the temp_fahrenheit column.\n",
    "bikes.drop('temp_fahrenheit', axis=1, inplace=True)"
   ]
  },
  {
   "cell_type": "markdown",
   "metadata": {},
   "source": [
    "<a id=\"visualizing-the-data-part-\"></a>\n",
    "### Exploring the Data"
   ]
  },
  {
   "cell_type": "markdown",
   "metadata": {},
   "source": [
    "Blindly throwing all of your variables into a linear regression model is not a great strategy. Let's inspect our data and come up with something smarter."
   ]
  },
  {
   "cell_type": "markdown",
   "metadata": {},
   "source": [
    "#### Explore a few features."
   ]
  },
  {
   "cell_type": "code",
   "execution_count": null,
   "metadata": {
    "collapsed": true
   },
   "outputs": [],
   "source": [
    "# Create feature column variables\n"
   ]
  },
  {
   "cell_type": "markdown",
   "metadata": {},
   "source": [
    "#### Create a subset of scatterplot matrix using Seaborn.\n",
    "We can use pairplot with the `y_vars` argument to only show relationships with the `num_total_users` variable"
   ]
  },
  {
   "cell_type": "code",
   "execution_count": null,
   "metadata": {
    "collapsed": true
   },
   "outputs": [],
   "source": [
    "# Multiple scatterplots in Seaborn\n",
    "sns.pairplot(bikes,\n",
    "             x_vars=feature_cols,\n",
    "             y_vars='num_total_users',\n",
    "             kind='reg',\n",
    "             plot_kws={'scatter_kws': {'s':1, 'alpha':.3},\n",
    "                       'line_kws': {'color':'red'}\n",
    "                       }\n",
    "             );"
   ]
  },
  {
   "cell_type": "markdown",
   "metadata": {},
   "source": [
    "**Exercise.**"
   ]
  },
  {
   "cell_type": "markdown",
   "metadata": {},
   "source": [
    "/poll \"Which is the best interpretation of the slope of the line for `num_total_users` against `humidity_percent`?\" \"How much a linear regression model's predictions for `num_total_users` against `humidity_percent` would change given a one-unit change in `humidity_percent`\" \"How much a linear regression model's predictions for `num_total_users` against `temp_celsius`, `season_num`, `weather`, and `humidity_percent` would change given a one-unit change in `humidity_percent`\" \"How much a linear regression model's predictions for `num_total_users` against `temp_celsius`, `season_num`, `weather`, and `humidity_percent` would change given a one-unit change in `humidity_percent`, holding all of those other variables constant\""
   ]
  },
  {
   "cell_type": "markdown",
   "metadata": {},
   "source": [
    "#### Explore the season_num variable using a cross-tab."
   ]
  },
  {
   "cell_type": "code",
   "execution_count": null,
   "metadata": {
    "collapsed": true
   },
   "outputs": [],
   "source": [
    "# Cross-tabulation of season_num and month\n"
   ]
  },
  {
   "cell_type": "markdown",
   "metadata": {},
   "source": [
    "#### Explore the season_num variable using a box plot."
   ]
  },
  {
   "cell_type": "code",
   "execution_count": null,
   "metadata": {
    "collapsed": true
   },
   "outputs": [],
   "source": [
    "# Box plot of rentals, grouped by season_num.\n"
   ]
  },
  {
   "cell_type": "markdown",
   "metadata": {},
   "source": [
    "#### Look at rentals over time."
   ]
  },
  {
   "cell_type": "code",
   "execution_count": null,
   "metadata": {
    "collapsed": true
   },
   "outputs": [],
   "source": [
    "# Line plot of rentals\n"
   ]
  },
  {
   "cell_type": "markdown",
   "metadata": {},
   "source": [
    "- **Trend:** System is generall growing over time.\n",
    "- **Seasonality:** Periodic patterns in the data:\n",
    "    - Yearly\n",
    "    - Weekly\n",
    "    - Daily\n",
    "\n",
    "A good model will account for both."
   ]
  },
  {
   "cell_type": "markdown",
   "metadata": {},
   "source": [
    "#### Look at the correlation matrix"
   ]
  },
  {
   "cell_type": "code",
   "execution_count": null,
   "metadata": {
    "collapsed": true
   },
   "outputs": [],
   "source": [
    "# Visualize correlation matrix in Seaborn using a heat map.\n"
   ]
  },
  {
   "cell_type": "markdown",
   "metadata": {},
   "source": [
    "**Exercise.**\n",
    "\n",
    "- We have two pairs of variables that are extremely strongly correlated. Which are they?"
   ]
  },
  {
   "cell_type": "markdown",
   "metadata": {},
   "source": []
  },
  {
   "cell_type": "markdown",
   "metadata": {},
   "source": [
    "- Which features are positively correlated with `num_total_users` (leaving aside `num_casual users` and `num_registered_users`)?"
   ]
  },
  {
   "cell_type": "markdown",
   "metadata": {},
   "source": []
  },
  {
   "cell_type": "markdown",
   "metadata": {},
   "source": [
    "- Which features are negatively correlated with `num_total_users` (leaving aside `num_casual users` and `num_registered_users`)?"
   ]
  },
  {
   "cell_type": "markdown",
   "metadata": {},
   "source": []
  },
  {
   "cell_type": "markdown",
   "metadata": {},
   "source": [
    "- Which features show very little correlation with `num_total_users` (leaving aside `num_casual users` and `num_registered_users`)?"
   ]
  },
  {
   "cell_type": "markdown",
   "metadata": {},
   "source": []
  },
  {
   "cell_type": "markdown",
   "metadata": {},
   "source": [
    "<a id=\"adding-more-features-to-the-model\"></a>\n",
    "### Adding More Features to the Model"
   ]
  },
  {
   "cell_type": "markdown",
   "metadata": {},
   "source": [
    "We want features that are strongly correlated with the target and not with each other."
   ]
  },
  {
   "cell_type": "markdown",
   "metadata": {},
   "source": [
    "**Exercise.**\n",
    "\n",
    "- Create another `LinearRegression` instance that is fit using `temp_celsius` and `atemp_celsius`, and print the coefficients."
   ]
  },
  {
   "cell_type": "code",
   "execution_count": null,
   "metadata": {
    "collapsed": true
   },
   "outputs": [],
   "source": []
  },
  {
   "cell_type": "markdown",
   "metadata": {},
   "source": [
    "- Create another `LinearRegression` instance that is fit using `atemp_celsius` only, and print the coefficients."
   ]
  },
  {
   "cell_type": "code",
   "execution_count": null,
   "metadata": {
    "collapsed": true
   },
   "outputs": [],
   "source": []
  },
  {
   "cell_type": "markdown",
   "metadata": {},
   "source": [
    "- Why is the coefficient for `atemp` so different in the two models?"
   ]
  },
  {
   "cell_type": "markdown",
   "metadata": {},
   "source": []
  },
  {
   "cell_type": "markdown",
   "metadata": {},
   "source": [
    "<a id=\"what-is-multicollinearity\"></a>\n",
    "## What Is Colinearity?\n",
    "---\n",
    "\n",
    "Colinearity happens when two or more features are highly correlated with each other. It causes problems:\n",
    "\n",
    "- Coefficients become hard to interpret\n",
    "- Adding a variable to the model that is colinear with another variable in the model adds complexity while contributing limited new information, which can lead to overfitting.\n",
    "- Model fitting can become numerically unstable."
   ]
  },
  {
   "cell_type": "markdown",
   "metadata": {},
   "source": [
    "## How to Select a Model"
   ]
  },
  {
   "cell_type": "markdown",
   "metadata": {},
   "source": [
    "#### Recall: Model Bias and Variance"
   ]
  },
  {
   "cell_type": "code",
   "execution_count": null,
   "metadata": {
    "collapsed": true
   },
   "outputs": [],
   "source": [
    "# Create a LOT of features\n"
   ]
  },
  {
   "cell_type": "code",
   "execution_count": null,
   "metadata": {
    "collapsed": true
   },
   "outputs": [],
   "source": [
    "# Fit a model on the first 1000 rows and look at the fit\n"
   ]
  },
  {
   "cell_type": "code",
   "execution_count": null,
   "metadata": {
    "collapsed": true,
    "scrolled": false
   },
   "outputs": [],
   "source": [
    "# See how the model does on the next 1000 rows\n"
   ]
  },
  {
   "cell_type": "markdown",
   "metadata": {},
   "source": [
    "**Moral 1:** Models that are too complicated for the sample size will fit the training data well but generalize poorly; this phenomenon is called **overfitting**."
   ]
  },
  {
   "cell_type": "markdown",
   "metadata": {},
   "source": [
    "**Exercise.**\n",
    "\n",
    "- Does this overly complicated model have more of a bias problem or more of a variance problem?"
   ]
  },
  {
   "cell_type": "markdown",
   "metadata": {},
   "source": [
    "**Moral 2:** If our primary concern is how well our model generalizes to new data, then we can evaluate it by seeing how it does on data that we hold out from the training set."
   ]
  },
  {
   "cell_type": "markdown",
   "metadata": {},
   "source": [
    "**Notes:**\n",
    "\n",
    "- If you have a stats background then you might be used to using p-values to decide what variables to keep, or perhaps specialized model selection criteria such as adjusted R-squared, AIC, or BIC. But if what you really care about is predictive accuracy on data that the model hasn't seen before, then using a holdout set is much more direct.\n",
    "- In a business context, you may sacrifice some predictive accuracy by using fewer input features for the sake of maintainability and computational performance."
   ]
  },
  {
   "cell_type": "markdown",
   "metadata": {},
   "source": [
    "<a id=\"evaluation-metrics-for-regression-problems\"></a>\n",
    "### Evaluation Metrics for Regression Problems\n",
    "\n",
    "**Mean absolute error (MAE)** is the mean of the absolute value of the errors:\n",
    "\n",
    "$$\\frac 1n\\sum_{i=1}^n|y_i-\\hat{y}_i|$$\n",
    "\n",
    "**Mean squared error (MSE)** is the mean of the squared errors:\n",
    "\n",
    "$$\\frac 1n\\sum_{i=1}^n(y_i-\\hat{y}_i)^2$$\n",
    "\n",
    "**Root mean squared error (RMSE)** is the square root of the mean of the squared errors:\n",
    "\n",
    "$$\\sqrt{\\frac 1n\\sum_{i=1}^n(y_i-\\hat{y}_i)^2}$$"
   ]
  },
  {
   "cell_type": "markdown",
   "metadata": {},
   "source": [
    "**Exercise.** Calculate MAE, MSE, and RMSE for the values below."
   ]
  },
  {
   "cell_type": "code",
   "execution_count": null,
   "metadata": {
    "collapsed": true
   },
   "outputs": [],
   "source": [
    "# Example true and predicted response values\n"
   ]
  },
  {
   "cell_type": "code",
   "execution_count": null,
   "metadata": {
    "collapsed": true
   },
   "outputs": [],
   "source": [
    "# Fill in these calculations. Hint: Turn the lists in numpy arrays.\n",
    "mae = None\n",
    "mse = None\n",
    "rmse = None\n",
    "\n"
   ]
  },
  {
   "cell_type": "code",
   "execution_count": null,
   "metadata": {
    "collapsed": true
   },
   "outputs": [],
   "source": [
    "# Run this cell to check your answers.\n",
    "\n",
    "from sklearn import metrics\n",
    "print(mae)\n",
    "print(mse)\n",
    "print(rmse)\n",
    "np.testing.assert_almost_equal(mae, metrics.mean_absolute_error(true, pred))\n",
    "np.testing.assert_almost_equal(mse, metrics.mean_squared_error(true, pred))\n",
    "np.testing.assert_almost_equal(rmse, np.sqrt(metrics.mean_squared_error(true, pred)))"
   ]
  },
  {
   "cell_type": "code",
   "execution_count": null,
   "metadata": {
    "collapsed": true
   },
   "outputs": [],
   "source": [
    "# Compare:\n"
   ]
  },
  {
   "cell_type": "markdown",
   "metadata": {},
   "source": [
    "Let's compare these metrics:\n",
    "\n",
    "- MAE is the easiest to understand, because it's the average error.\n",
    "- MSE is more popular than MAE, primary because the fact that it is continuous and differentiable makes it easier to work with.\n",
    "- RMSE is even more popular than MSE, because RMSE is interpretable in the \"y\" units.\n",
    "- MSE/MSE punishes large errors more than MAE."
   ]
  },
  {
   "cell_type": "markdown",
   "metadata": {},
   "source": [
    "<a id=\"comparing-models-with-traintest-split-and-rmse\"></a>\n",
    "### Comparing Models With Train/Test Split and RMSE"
   ]
  },
  {
   "cell_type": "code",
   "execution_count": null,
   "metadata": {
    "collapsed": true
   },
   "outputs": [],
   "source": [
    "from sklearn.model_selection import train_test_split\n",
    "\n",
    "# Define a function that accepts a list of features and returns testing RMSE.\n"
   ]
  },
  {
   "cell_type": "code",
   "execution_count": null,
   "metadata": {
    "collapsed": true
   },
   "outputs": [],
   "source": [
    "# Compare different sets of features.\n",
    "print(train_test_rmse(bikes, ['temp_celsius', 'season_num', 'weather', 'humidity_percent']))\n",
    "print(train_test_rmse(bikes, ['temp_celsius', 'season_num', 'weather']))\n",
    "print(train_test_rmse(bikes, ['temp_celsius', 'season_num', 'humidity_percent']))"
   ]
  },
  {
   "cell_type": "code",
   "execution_count": null,
   "metadata": {
    "collapsed": true
   },
   "outputs": [],
   "source": [
    "# Using these as features is not allowed!\n",
    "print(train_test_rmse(bikes, ['num_casual_users', 'num_registered_users']))"
   ]
  },
  {
   "cell_type": "markdown",
   "metadata": {},
   "source": [
    "<a id=\"comparing-testing-rmse-with-null-rmse\"></a>\n",
    "### Comparing Testing RMSE With Null RMSE\n",
    "\n",
    "Null RMSE is the RMSE that could be achieved by always predicting the mean response value. It is a baseline against which you may want to measure your regression model."
   ]
  },
  {
   "cell_type": "code",
   "execution_count": null,
   "metadata": {
    "collapsed": true
   },
   "outputs": [],
   "source": []
  },
  {
   "cell_type": "markdown",
   "metadata": {},
   "source": [
    "<a id=\"handling-categorical-features\"></a>\n",
    "## Handling Categorical and Ordinal Features"
   ]
  },
  {
   "cell_type": "markdown",
   "metadata": {},
   "source": [
    "**Exercise.**\n",
    "\n",
    "We are representing `season` as follows:\n",
    "\n",
    "1: winter\n",
    "2: spring\n",
    "3: summer\n",
    "4: fall\n",
    "\n",
    "- Suppose we fit linear regression model for ridership against season only and get a coefficient 10 for `season`. What does this coefficient imply about the relationship between predicted ridership for fall relative to summer? How could we get this result even though ridership is higher in summer than fall?"
   ]
  },
  {
   "cell_type": "markdown",
   "metadata": {},
   "source": []
  },
  {
   "cell_type": "markdown",
   "metadata": {},
   "source": [
    "#### Dummy Coding\n",
    "\n",
    "Here's a better representation:\n",
    "\n",
    "- `is_spring`: 1 in spring, 0 otherwise\n",
    "- `is_summer`: 1 in summer, 0 otherwise\n",
    "- `is_fall`: 1 in fall, 0 otherwise\n",
    "\n",
    "Instead of having one variable with 4 levels, we have 3 binary variables.\n",
    "\n",
    "Our model now has three \"degrees of freedom\" to capture the impact of the season, instead of just one.\n",
    "\n",
    "This process is called \"dummy coding.\""
   ]
  },
  {
   "cell_type": "markdown",
   "metadata": {},
   "source": [
    "**Exercise**\n",
    "\n",
    "1. Why is `is_winter` unnecessary?\n",
    "2. In fact, why would including `is_winter` be harmful?\n",
    "3. Suppose you build a model with these variables and find that the coefficient on `is_summer` is 30. What does that coefficient mean?\n",
    "4. Could you use `is_winter`, `is_spring`, and `is_summer` instead? Why or why not? Is there any reason to prefer one set of dummy variables over another?"
   ]
  },
  {
   "cell_type": "markdown",
   "metadata": {},
   "source": []
  },
  {
   "cell_type": "code",
   "execution_count": null,
   "metadata": {
    "collapsed": true
   },
   "outputs": [],
   "source": [
    "# Dummy coding with pandas\n"
   ]
  },
  {
   "cell_type": "code",
   "execution_count": null,
   "metadata": {
    "collapsed": true
   },
   "outputs": [],
   "source": [
    "# Drop a redundant column\n"
   ]
  },
  {
   "cell_type": "markdown",
   "metadata": {},
   "source": [
    "Unlike `season`, our variable `weather` is at least ordinal:\n",
    "\n",
    "1: Clear, 2: Mist, 3: Light Rain or Snow 4: Heavy Rain or Snow\n",
    "\n",
    "However, there's no reason to assume that the difference between Clear and Mist has the same impact on ridership as the difference between Mist and List Rain/Snow or the difference between Light Rain/Snow and Heavy Rain/Snow. Here too our model can benefit from the additional degrees of freedom that dummy coding provides."
   ]
  },
  {
   "cell_type": "markdown",
   "metadata": {},
   "source": [
    "**Exercise.**\n",
    "\n",
    "- Use pandas to create dummy columns for `weather`, and drop the column that you want to use as a baseline."
   ]
  },
  {
   "cell_type": "code",
   "execution_count": null,
   "metadata": {
    "collapsed": true
   },
   "outputs": [],
   "source": []
  },
  {
   "cell_type": "markdown",
   "metadata": {},
   "source": [
    "- How many dummy variables do you need for a categorical feature with $k$ possible values? Why?"
   ]
  },
  {
   "cell_type": "markdown",
   "metadata": {},
   "source": []
  },
  {
   "cell_type": "markdown",
   "metadata": {},
   "source": [
    "#### Rerun the linear regression with dummy variables included."
   ]
  },
  {
   "cell_type": "code",
   "execution_count": null,
   "metadata": {
    "collapsed": true,
    "scrolled": true
   },
   "outputs": [],
   "source": [
    "# Include dummy variables for season_num in the model.\n"
   ]
  },
  {
   "cell_type": "markdown",
   "metadata": {},
   "source": [
    "**Exercise.**\n",
    "\n",
    "1. What does the coefficient for summer mean?\n",
    "2. Huh? How can we get a coefficient of -46.37 in summer, the most popular season?\n",
    "3. Would our model's predictions change if we dropped a different dummy column for season?\n",
    "4. Use train_test_rmse to compare the performance of a model with `temp_celsius`, `season_num`, and `humidity_percent` to one that replaces `season_num` with its dummies."
   ]
  },
  {
   "cell_type": "markdown",
   "metadata": {},
   "source": []
  },
  {
   "cell_type": "code",
   "execution_count": null,
   "metadata": {
    "collapsed": true
   },
   "outputs": [],
   "source": [
    "# 4.\n"
   ]
  },
  {
   "cell_type": "markdown",
   "metadata": {},
   "source": [
    "<a id=\"feature-engineering\"></a>\n",
    "### Feature Engineering Exercise\n",
    "\n",
    "See if you can create the following features:\n",
    "\n",
    "- **hour:** as a single numeric feature (0 through 23)\n",
    "- **hour:** as a categorical feature (use 23 dummy variables)\n",
    "- **daytime:** as a single categorical feature (daytime=1 from 7 a.m. to 8 p.m., and daytime=0 otherwise)\n",
    "\n",
    "Then, try using each of the three features (on its own) with `train_test_rmse` to see which one performs the best!"
   ]
  },
  {
   "cell_type": "markdown",
   "metadata": {},
   "source": [
    "#### Extract hour of the day to use as a feature."
   ]
  },
  {
   "cell_type": "code",
   "execution_count": null,
   "metadata": {
    "collapsed": true
   },
   "outputs": [],
   "source": []
  },
  {
   "cell_type": "markdown",
   "metadata": {},
   "source": [
    "#### Encode `hour` as a categorical feature."
   ]
  },
  {
   "cell_type": "code",
   "execution_count": null,
   "metadata": {
    "collapsed": true
   },
   "outputs": [],
   "source": []
  },
  {
   "cell_type": "markdown",
   "metadata": {},
   "source": [
    "#### Generate a `daytime` variable based on hour of the day."
   ]
  },
  {
   "cell_type": "code",
   "execution_count": null,
   "metadata": {
    "collapsed": true
   },
   "outputs": [],
   "source": []
  },
  {
   "cell_type": "markdown",
   "metadata": {},
   "source": [
    "#### Test the root mean squared error of our various `hour` encodings."
   ]
  },
  {
   "cell_type": "code",
   "execution_count": null,
   "metadata": {
    "collapsed": true,
    "scrolled": true
   },
   "outputs": [],
   "source": []
  },
  {
   "cell_type": "markdown",
   "metadata": {},
   "source": [
    "<a id=\"bonus-material-regularization\"></a>\n",
    "## Bonus Material: Regularization\n",
    "---"
   ]
  },
  {
   "cell_type": "markdown",
   "metadata": {},
   "source": [
    "- Overly complicated models don't generalize well.\n",
    "- One way to reduce model complexity is to use fewer features.\n",
    "- Another way is to incorporate a penalty for coefficient size."
   ]
  },
  {
   "cell_type": "markdown",
   "metadata": {},
   "source": [
    "<a id=\"how-does-regularization-work\"></a>\n",
    "### How Does Regularization Work?\n",
    "\n",
    "For a normal linear regression model, we estimate the coefficients using the least squares criterion, which minimizes the residual sum of squares (RSS)."
   ]
  },
  {
   "cell_type": "markdown",
   "metadata": {},
   "source": [
    "For a regularized linear regression model, we minimize the sum of MSE and a \"penalty term\" that penalizes coefficient size.\n",
    "\n",
    "**Ridge regression** (or \"L2 regularization\") minimizes: $$\\mbox{MSE} + \\alpha \\sum_{j=1}^p \\beta_j^2$$\n",
    "\n",
    "**Lasso regression** (or \"L1 regularization\") minimizes: $$\\text{Mse} + \\alpha \\sum_{j=1}^p |\\beta_j|$$\n",
    "\n",
    "- $p$ is the number of features.\n",
    "- $\\beta_j$ is a model coefficient.\n",
    "- $\\alpha$ is a tuning parameter:\n",
    "    - A tiny $\\alpha$ imposes no penalty on the coefficient size, and is equivalent to a normal linear regression model.\n",
    "    - Increasing the $\\alpha$ penalizes the coefficients and thus shrinks them."
   ]
  },
  {
   "cell_type": "markdown",
   "metadata": {},
   "source": [
    "<a id=\"lasso-and-ridge-path-diagrams\"></a>\n",
    "### Lasso and Ridge Path Diagrams\n",
    "\n",
    "A larger alpha (toward the left of each diagram) results in more regularization:\n",
    "\n",
    "- Lasso regression shrinks coefficients all the way to zero, thus removing them from the model.\n",
    "- Ridge regression shrinks coefficients toward zero, but they rarely reach zero.\n",
    "\n",
    "Source code for the diagrams: [Lasso regression](http://scikit-learn.org/stable/auto_examples/linear_model/plot_lasso_lars.html) and [Ridge regression](http://scikit-learn.org/stable/auto_examples/linear_model/plot_ridge_path.html)"
   ]
  },
  {
   "cell_type": "markdown",
   "metadata": {},
   "source": [
    "![Lasso and Ridge Coefficient Plots](./assets/lasso_ridge_path.png)"
   ]
  },
  {
   "cell_type": "markdown",
   "metadata": {},
   "source": [
    "<a id=\"advice-for-applying-regularization\"></a>\n",
    "### Advice for Applying Regularization\n",
    "\n",
    "**Standardize features (subtract mean and divide by standard deviation).**\n",
    "\n",
    "- Otherwise, features would be penalized simply because of their scale.\n",
    "- Avoids penalizing the intercept, which wouldn't make intuitive sense.\n",
    "\n",
    "**How should you choose between lasso regression and ridge regression?**\n",
    "\n",
    "- Lasso regression is preferred if we believe many features are irrelevant or if we prefer a sparse model.\n",
    "- Ridge can work particularly well if there is a high degree of multicollinearity in your model.\n",
    "- If model performance is your primary concern, it is best to try both.\n",
    "- Elastic net regression is a combination of lasso regression and ridge Regression."
   ]
  },
  {
   "cell_type": "markdown",
   "metadata": {},
   "source": [
    "<a id=\"ridge-regression\"></a>\n",
    "### Ridge Regression\n",
    "\n",
    "- [Ridge](http://scikit-learn.org/stable/modules/generated/sklearn.linear_model.Ridge.html) documentation\n",
    "- **alpha:** must be positive, increase for more regularization\n",
    "- **normalize:** scales the features (without using StandardScaler)"
   ]
  },
  {
   "cell_type": "code",
   "execution_count": null,
   "metadata": {
    "collapsed": true
   },
   "outputs": [],
   "source": [
    "# Include dummy variables for season_num in the model.\n",
    "feature_cols = ['temp_celsius', 'atemp_celsius', 'spring', 'summer', 'fall', 'humidity_percent']\n",
    "X = bikes_dummies.loc[:, feature_cols]\n",
    "y = bikes_dummies.loc[:, 'num_total_users']"
   ]
  },
  {
   "cell_type": "code",
   "execution_count": null,
   "metadata": {
    "collapsed": true
   },
   "outputs": [],
   "source": [
    "X_train, X_test, y_train, y_test = train_test_split(X, y, random_state=1)"
   ]
  },
  {
   "cell_type": "code",
   "execution_count": null,
   "metadata": {
    "collapsed": true
   },
   "outputs": [],
   "source": [
    "# alpha=0 is equivalent to linear regression.\n",
    "from sklearn.linear_model import Ridge\n",
    "\n",
    "# Instantiate the model.\n",
    "#(Alpha of zero has no regularization strength, essentially a basic linear regression.)\n",
    "ridgereg = Ridge(alpha=0, normalize=True)\n",
    "\n",
    "# Fit the model.\n",
    "ridgereg.fit(X_train, y_train)\n",
    "\n",
    "# Predict with fitted model.\n",
    "y_pred = ridgereg.predict(X_test)\n",
    "print(np.sqrt(metrics.mean_squared_error(y_test, y_pred)))"
   ]
  },
  {
   "cell_type": "code",
   "execution_count": null,
   "metadata": {
    "collapsed": true
   },
   "outputs": [],
   "source": [
    "# Coefficients for a non-regularized linear regression\n",
    "list(zip(feature_cols, ridgereg.coef_))"
   ]
  },
  {
   "cell_type": "markdown",
   "metadata": {},
   "source": [
    "To interpret these coefficients we need to convert them back to original units, which is a reason to do normalization by hand. However, in this form the coefficients have a special meaning. The intercept is now the average of our outcome, and the magnitude of each coefficient in the model is a measure of how important it is in the model. We call this feature importance."
   ]
  },
  {
   "cell_type": "code",
   "execution_count": null,
   "metadata": {
    "collapsed": true
   },
   "outputs": [],
   "source": [
    "# Try alpha=0.1.\n",
    "ridgereg = Ridge(alpha=0.1, normalize=True)\n",
    "ridgereg.fit(X_train, y_train)\n",
    "y_pred = ridgereg.predict(X_test)\n",
    "print(np.sqrt(metrics.mean_squared_error(y_test, y_pred)))"
   ]
  },
  {
   "cell_type": "code",
   "execution_count": null,
   "metadata": {
    "collapsed": true
   },
   "outputs": [],
   "source": [
    "# Examine the coefficients.\n",
    "list(zip(feature_cols, ridgereg.coef_))"
   ]
  },
  {
   "cell_type": "markdown",
   "metadata": {},
   "source": [
    "<a id=\"comparing-linear-regression-with-other-models\"></a>\n",
    "## Comparing Linear Regression With Other Models\n",
    "\n",
    "Advantages of linear regression:\n",
    "\n",
    "- Simple to explain.\n",
    "- Interpretable -- sort of.\n",
    "- Model training and prediction are fast.\n",
    "- No tuning is required (excluding regularization).\n",
    "- Features don't need scaling.\n",
    "- Can perform well with a small number of observations.\n",
    "- Well understood.\n",
    "\n",
    "Disadvantages of linear regression:\n",
    "\n",
    "- Presumes a linear relationship between the features and the response.\n",
    "- Performance is (generally) not competitive with the best supervised learning methods due to high bias.\n",
    "- Can't automatically learn feature interactions.\n",
    "- Easy to overinterpret."
   ]
  },
  {
   "cell_type": "markdown",
   "metadata": {},
   "source": [
    "# Final Project: Part 2 (Due Thurs., Feb. 22)\n",
    "https://git.generalassemb.ly/datr1618/final_project/blob/master/requirements.md#proposal"
   ]
  },
  {
   "cell_type": "markdown",
   "metadata": {},
   "source": [
    "# Questions?"
   ]
  },
  {
   "cell_type": "markdown",
   "metadata": {},
   "source": [
    "# Exit Tickets\n",
    "\n",
    "```\n",
    "=========================================\n",
    "@channel\n",
    "Exit Ticket: https://goo.gl/forms/OUw4gyTiRKMOTI3t2        \n",
    "\n",
    "#feedback\n",
    "=========================================\n",
    "```"
   ]
  }
 ],
 "metadata": {
  "kernelspec": {
   "display_name": "Python 3",
   "language": "python",
   "name": "python3"
  },
  "language_info": {
   "codemirror_mode": {
    "name": "ipython",
    "version": 3
   },
   "file_extension": ".py",
   "mimetype": "text/x-python",
   "name": "python",
   "nbconvert_exporter": "python",
   "pygments_lexer": "ipython3",
   "version": "3.6.3"
  }
 },
 "nbformat": 4,
 "nbformat_minor": 1
}
